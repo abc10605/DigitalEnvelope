{
 "cells": [
  {
   "cell_type": "markdown",
   "id": "c64ff5ac",
   "metadata": {},
   "source": [
    "# RSA演算法"
   ]
  },
  {
   "cell_type": "markdown",
   "id": "c8ddeb72",
   "metadata": {},
   "source": [
    "[米勒-拉賓質數判定法](https://zh.wikipedia.org/wiki/%E7%B1%B3%E5%8B%92-%E6%8B%89%E5%AE%BE%E6%A3%80%E9%AA%8C)"
   ]
  },
  {
   "cell_type": "code",
   "execution_count": 1,
   "id": "c2bc9515",
   "metadata": {},
   "outputs": [],
   "source": [
    "import base64\n",
    "import random\n",
    "\n",
    "\n",
    "class RSA():\n",
    "    def __init__(self, bits: int, e: int = 65537):\n",
    "        self.e = e\n",
    "        self.bits = bits\n",
    "        self.__rsa(bits, e)\n",
    "        \n",
    "    def __rsa(self, bits, e):\n",
    "        for _ in range(2):\n",
    "            while True:\n",
    "                prime_bits = '1' + ''.join([random.choice(['0', '1']) for __ in range(bits//2-2)]) + '1'\n",
    "                prime = int(prime_bits, 2)\n",
    "                if self.__miller_rabin(prime, 3):\n",
    "                    if _ == 0:\n",
    "                        self.p = prime\n",
    "                    else:\n",
    "                        self.q = prime\n",
    "                    break\n",
    "                else:\n",
    "                    continue\n",
    "        self.n = self.p * self.q\n",
    "        phi_n = (self.p - 1) * (self.q - 1)\n",
    "        self.d = self.__euclid(self.e, phi_n)\n",
    "\n",
    "    def __miller_rabin(self, n, k):\n",
    "        if n == 2 or n == 3:\n",
    "            return True\n",
    "\n",
    "        if n % 2 == 0:\n",
    "            return False\n",
    "\n",
    "        r, s = 0, n - 1\n",
    "        while s % 2 == 0:\n",
    "            r += 1\n",
    "            s //= 2\n",
    "\n",
    "        for _ in range(k):\n",
    "            a = random.randrange(2, n - 1)\n",
    "            x = pow(a, s, n)\n",
    "            if x == 1 or x == n - 1:\n",
    "                continue\n",
    "            for _ in range(r - 1):\n",
    "                x = pow(x, 2, n)\n",
    "                if x == n - 1:\n",
    "                    break\n",
    "            else:\n",
    "                return False\n",
    "        return True\n",
    "    \n",
    "    def __euclid(self, e: int, n: int) -> int:\n",
    "        r1 = n\n",
    "        r2 = e\n",
    "        t1 = 0\n",
    "        t2 = 1\n",
    "        while r1 != 1:\n",
    "            q = r1 // r2\n",
    "            r = r1 % r2\n",
    "            r1 = r2\n",
    "            r2 = r\n",
    "            t = t1 - (q * t2)\n",
    "            t1 = t2\n",
    "            t2 = t\n",
    "        if t1 < 0:\n",
    "            t1 += n\n",
    "        return t1\n",
    "    \n",
    "    def exponentiation(self, base, exp, N):\n",
    "        t = 1;\n",
    "        while(exp > 0): \n",
    "\n",
    "            # for cases where exponent\n",
    "            # is not an even value\n",
    "            if (exp % 2 != 0):\n",
    "                t = (t * base) % N;\n",
    "\n",
    "            base = (base * base) % N;\n",
    "            exp = exp // 2;\n",
    "        return t % N;\n",
    "        \n",
    "    def encrypt(self, plain_text: str) -> tuple:\n",
    "        cipher = []\n",
    "        for char in plain_text:\n",
    "            cipher.append(base64.b64encode(self.exponentiation(int.from_bytes(char.encode('big5'), 'little'), self.e, self.n).to_bytes(self.bits//8, byteorder='little')).decode('utf-8'))\n",
    "        return tuple(cipher)\n",
    "            \n",
    "    def decrypt(self, cipher: tuple) -> tuple:\n",
    "        msg = []\n",
    "        for char in cipher:\n",
    "            msg.append((self.exponentiation(int.from_bytes(base64.b64decode(char.encode('utf-8')), 'little'), self.d, self.n)).to_bytes(2, 'little').decode('big5'))\n",
    "        return tuple(msg)"
   ]
  },
  {
   "cell_type": "code",
   "execution_count": 2,
   "id": "d745117a",
   "metadata": {},
   "outputs": [],
   "source": [
    "rsa_key = RSA(2048)"
   ]
  },
  {
   "cell_type": "code",
   "execution_count": 3,
   "id": "70cf2afb",
   "metadata": {},
   "outputs": [
    {
     "name": "stdout",
     "output_type": "stream",
     "text": [
      "\n",
      "私鑰：\u001b[33m9725877513197068606908179978786088553016024622197782171727238799609448429311739343397412840307099682629916248369021924134354608493146373914445894984406323097175518209188061101879404061621607245727194367861988035088774796037829913318710793446640917114275798091505234119255577026820055652793723058008035505614665984833331698671508440780847567140536368123949424355971237477695242543362719480399482207904606220169892302853594463062183959665653424500209444881169833212900476536314372721103962402931763792645795130010222384775428885690628307662492363119782617178087447970861517705651772750826879769929559732778965455200353\u001b[0m\n",
      "\n",
      "公鑰：\u001b[33m65537\u001b[0m\n"
     ]
    }
   ],
   "source": [
    "print(f'\\n私鑰：\\033[33m{rsa_key.d}\\033[0m\\n\\n公鑰：\\033[33m{rsa_key.e}\\033[0m')"
   ]
  },
  {
   "cell_type": "code",
   "execution_count": 4,
   "id": "b359a2cb",
   "metadata": {},
   "outputs": [],
   "source": [
    "plain_text = \"All I ask is if this is my last night with you, hold me like I'm more than just a friend. Give me a memory I can use.\""
   ]
  },
  {
   "cell_type": "code",
   "execution_count": 5,
   "id": "846537ad",
   "metadata": {
    "scrolled": true,
    "tags": []
   },
   "outputs": [
    {
     "name": "stdout",
     "output_type": "stream",
     "text": [
      "X6upbchuMH4hFjMd8DaFw3bzyMoGGORsuhAwmkB/C7WbB1nBlQtS178u5UnZ0FnSV56vJpHpbP6WWBqINBJvk16du0EdcnzbPSaGQ0FdpwmVGcc2Vscu5XgeXGNI7+fQg7G73V/tEwrnMDV04+4IH2PYv7ACrZk3F5+TrbkOUqrW8J5o+xOO8gjuLMJGePH6K6OcIRHcjcnHBuLUG7u8CBKJetOKqYQtIjZ8xIEsjLm+K5dZSs2KHddeS92M6KPcdBDqq5d8Nuj2+0LAs7hLuenrWk3Q/IkVThlYrOc8bu/EwBr3YZW/+ch91blIKOcv1A7+fH2gKLfXC+ojC1HyFQ==1/9uiNfRSGxExBETw9Y2A0sNkjZ/ivBk7x9O0Em8sb6qD3zMvnWYpskdGmXmZ+91s9mRsFxXUNc2QxOkhdNc9pXOp35aJTbWQ+2KI88LWw6FY5gDU0znTp8xBQy1DafKdHZckq7fE7H+f0Sss4TQHTPYWfRnDIg6Fhcfa7KIkqVlzGr9S2klj5s/KcC2HTnKY0qiJFKWJZuu9c2YSEGHVhoMKtIJ3/QoAl3gHVgLxTWYzV3yc24XqqRGpChgmMOgS6wVn8bjyRR6Lsz41HQmwdHqiDPZBf+FD+ghnt05QiqQJQrb+z+9Sc+DI2xsGpuXA6w+QxL7/WWCeMy0GT+Ygg==1/9uiNfRSGxExBETw9Y2A0sNkjZ/ivBk7x9O0Em8sb6qD3zMvnWYpskdGmXmZ+91s9mRsFxXUNc2QxOkhdNc9pXOp35aJTbWQ+2KI88LWw6FY5gDU0znTp8xBQy1DafKdHZckq7fE7H+f0Sss4TQHTPYWfRnDIg6Fhcfa7KIkqVlzGr9S2klj5s/KcC2HTnKY0qiJFKWJZuu9c2YSEGHVhoMKtIJ3/QoAl3gHVgLxTWYzV3yc24XqqRGpChgmMOgS6wVn8bjyRR6Lsz41HQmwdHqiDPZBf+FD+ghnt05QiqQJQrb+z+9Sc+DI2xsGpuXA6w+QxL7/WWCeMy0GT+Ygg==0eOPIrdsNLlP4kyo0Fsr3fZ/HSyUwzTyXJUC6wXo+Lxt1d7KZP5IMEcIbiuP6qpOg5QsJH6qxpmh/A/kJZ/GwxszSgwj75hv9xTBy9vqA6NQk9WC9wef7qiOlx5vF6QXTXAtsIfKo1LcAzUTGNLrrMTy2K5HUe2CYydzv4ydCqOck7POY09p+8cPdurcqg7nAFsHrCAO0nR3M/fFMIiPwxMwRApiPi2lrNnx23C+zMoFPNrdacfsnSITYa/jbG7sPblj9etOcZffRuxM0PesHLABsXUIDRwVhYiPsbxgdcG1hOVy77vygYvh83ASVq5hc86HPT5hDGi7cON3ItQpaA==cysDIWYMjL4oW6kflFpH9YHEvfjDl7e8ZKBCzni/sKeDdCd6Qj4tXpaL/9bSVVPDVe/LVRtx++b2Ng6Vb0S+Q521tgKULsfAgOmoZ9M++ZxElstNs8ibc8WrhxKZ2fjISkxcM0XPVHu/qgBBPEDN7noqp34gAb1YGb/o4UWGGb2Ddqqvy28TNvuF14ag7J1K8NJczMjjmcVhDVDwFPhV6KK8ByiHcuYfuWM8/wgoOu3kTwO+bFqLZElXXTwoqMMGWBBoaphv1ghFUQtNGVNjzLt+jH82VbDyv+NFtTXVXH67MC1cKwf6Yc5Z1+cZFD4pB/IzuF6HROKspJ4FMMzeHg==0eOPIrdsNLlP4kyo0Fsr3fZ/HSyUwzTyXJUC6wXo+Lxt1d7KZP5IMEcIbiuP6qpOg5QsJH6qxpmh/A/kJZ/GwxszSgwj75hv9xTBy9vqA6NQk9WC9wef7qiOlx5vF6QXTXAtsIfKo1LcAzUTGNLrrMTy2K5HUe2CYydzv4ydCqOck7POY09p+8cPdurcqg7nAFsHrCAO0nR3M/fFMIiPwxMwRApiPi2lrNnx23C+zMoFPNrdacfsnSITYa/jbG7sPblj9etOcZffRuxM0PesHLABsXUIDRwVhYiPsbxgdcG1hOVy77vygYvh83ASVq5hc86HPT5hDGi7cON3ItQpaA==ln8LZBaF5CHqWoHXjBy8/1yxxtegANkpljQN8yk1d2vokjCy1+qZZMiQMbKgOSrwA5/f0nw5CVBjiAbCdHgWhWWN25Y/S4nYKw1qEEcjnBcR8pn6RS1u7RoypvaSUtrTW2XOY9uQmHbyvTR1WGENgMW3QzkL6mQjMJIDs7BarZ3l7lIfgdB2pXbVC7Gd6Ej1e9/hXhSO7QQcyL/G9PoHgJd7/RJFSy92V+t8YzZwZEi4SVzgNzTMRaov70M1Ztf/YCl5CH16j/yRdQCQ0UNu6vlL5pKu5RaeGt1vGCtYoaDJ4m6cPIkXdm/Cm16fPa1BEPJYaUc3cDO7zH5g6eoogw==J2N+RUDz3FiQGNDzoHN8Lp/BykNCm2VVnATfdoJplgLVVlJdP6fz3pfVgGSOt1D6hxG+sWVKZjn2+e7QEWo/sbBa91bQb2C6VCsffcN4Wk2TE6vVYe/DQWvuZWONG9FIlsw3NCuS0wP7HOj4rJvent8YOH5DEJ/iGRBPsnWnd1OokJI5Lni3Tfd9SQJSjiGXCyYirYTx4AqvO8wWkiRw0UAfkOHIjo+vfoOXtICOTnHLMsEvtSVyDNGDaKp2V5qJ9b+Azptb3c6fvLEd1cmjLyy1OzO7Z8OhHdSt0ZLe7IcHU0/wGsHijBR5YI7PwCKIL6Q+0wFxtLuZ0WYOKscvMw==WQTtibFq2srmyoS+6j7qJ6FHm6gPCgiHVAEb2vZn8GGz0whWK+Bb+uPYjZsjfBxaP85f2snKOxZS86mpEi2YlyEP56S+88qoY0/jMfcSJWm169onMOte9qwk2kD7WTUR0gspIJdfVJXEIBRQQCg77+RZoEYEEYfhCe2BLOkFNgbUHnbg7XCsGg5B5Fh22/8z265uiOlhP/6QOP+RnT5z29xmyCcg5hNh4aXcvQxW9d6kW4exQsvYD34y/13rDq8lTBgoA0fZJHQVgriHm1r7OIk5OBmVJfMVsXRSOD77Npn/aKA1EITn56M771XXdHlFH2zK86peYilrVWJZYBzEWQ==0eOPIrdsNLlP4kyo0Fsr3fZ/HSyUwzTyXJUC6wXo+Lxt1d7KZP5IMEcIbiuP6qpOg5QsJH6qxpmh/A/kJZ/GwxszSgwj75hv9xTBy9vqA6NQk9WC9wef7qiOlx5vF6QXTXAtsIfKo1LcAzUTGNLrrMTy2K5HUe2CYydzv4ydCqOck7POY09p+8cPdurcqg7nAFsHrCAO0nR3M/fFMIiPwxMwRApiPi2lrNnx23C+zMoFPNrdacfsnSITYa/jbG7sPblj9etOcZffRuxM0PesHLABsXUIDRwVhYiPsbxgdcG1hOVy77vygYvh83ASVq5hc86HPT5hDGi7cON3ItQpaA==N/fxqvgXlwh/1u1i2GMakiWPQPTn+dCk8/vT32c15Sf+3PWeJ2RsYzlJ4wtkOxlq1dXdHaNHukBaxMMcRCRiOqIzbIVSz5y/UNFlhi8T5029jZgW5dGML1IZdV3I02rnGXLCMz/DKjLBCmNSaUGTZO6xh8CVmApQ8sBTfcXIlAVWH10BtY7ZcURu7Ifsxx0yEm6/7Z47S+sWK5vgpBH16nIt72XaZRXvJlnVbPetvaHirXax+bX14jYVkYggCBBm1dYpotqUw3sbtSxftlHFXPT4c04LoxrkAzJj2ouf7ccO/myNvNVnto+lloQ/YwbqspFccF04tP2iW3Ce0C5vVg==J2N+RUDz3FiQGNDzoHN8Lp/BykNCm2VVnATfdoJplgLVVlJdP6fz3pfVgGSOt1D6hxG+sWVKZjn2+e7QEWo/sbBa91bQb2C6VCsffcN4Wk2TE6vVYe/DQWvuZWONG9FIlsw3NCuS0wP7HOj4rJvent8YOH5DEJ/iGRBPsnWnd1OokJI5Lni3Tfd9SQJSjiGXCyYirYTx4AqvO8wWkiRw0UAfkOHIjo+vfoOXtICOTnHLMsEvtSVyDNGDaKp2V5qJ9b+Azptb3c6fvLEd1cmjLyy1OzO7Z8OhHdSt0ZLe7IcHU0/wGsHijBR5YI7PwCKIL6Q+0wFxtLuZ0WYOKscvMw==0eOPIrdsNLlP4kyo0Fsr3fZ/HSyUwzTyXJUC6wXo+Lxt1d7KZP5IMEcIbiuP6qpOg5QsJH6qxpmh/A/kJZ/GwxszSgwj75hv9xTBy9vqA6NQk9WC9wef7qiOlx5vF6QXTXAtsIfKo1LcAzUTGNLrrMTy2K5HUe2CYydzv4ydCqOck7POY09p+8cPdurcqg7nAFsHrCAO0nR3M/fFMIiPwxMwRApiPi2lrNnx23C+zMoFPNrdacfsnSITYa/jbG7sPblj9etOcZffRuxM0PesHLABsXUIDRwVhYiPsbxgdcG1hOVy77vygYvh83ASVq5hc86HPT5hDGi7cON3ItQpaA==N/fxqvgXlwh/1u1i2GMakiWPQPTn+dCk8/vT32c15Sf+3PWeJ2RsYzlJ4wtkOxlq1dXdHaNHukBaxMMcRCRiOqIzbIVSz5y/UNFlhi8T5029jZgW5dGML1IZdV3I02rnGXLCMz/DKjLBCmNSaUGTZO6xh8CVmApQ8sBTfcXIlAVWH10BtY7ZcURu7Ifsxx0yEm6/7Z47S+sWK5vgpBH16nIt72XaZRXvJlnVbPetvaHirXax+bX14jYVkYggCBBm1dYpotqUw3sbtSxftlHFXPT4c04LoxrkAzJj2ouf7ccO/myNvNVnto+lloQ/YwbqspFccF04tP2iW3Ce0C5vVg==cQQnc/6ME6WkLWtLNCtfhTWVC96WAXcI5BlDqa6FWLc/2/3oYzKX5Ry8eaQ1iRLe7uOARzpPjAr/tBtOsf7/VUYVpxed5LR+hLu66ndCfjb7FOj2BQJcMedgps5q+Q7a6CLl0XzdA73S1iq6oKj8qImuEAelC/i4fXW2AOp4s3YUy7EVqveliOIKLGevJ9oavM2VkFEydZln/K5D6116O6HlKx1/vG1IJtextvjiYsJvL3tTURNc1KKkKUnn+9mZlrpqRCjN09TGgwBDQFfNQtsI6UqQyhdOpseyr6dDKP1NjSzL7vWGcz4dZrEtfMUueommGy5cUea2qOYlYcYahg==0eOPIrdsNLlP4kyo0Fsr3fZ/HSyUwzTyXJUC6wXo+Lxt1d7KZP5IMEcIbiuP6qpOg5QsJH6qxpmh/A/kJZ/GwxszSgwj75hv9xTBy9vqA6NQk9WC9wef7qiOlx5vF6QXTXAtsIfKo1LcAzUTGNLrrMTy2K5HUe2CYydzv4ydCqOck7POY09p+8cPdurcqg7nAFsHrCAO0nR3M/fFMIiPwxMwRApiPi2lrNnx23C+zMoFPNrdacfsnSITYa/jbG7sPblj9etOcZffRuxM0PesHLABsXUIDRwVhYiPsbxgdcG1hOVy77vygYvh83ASVq5hc86HPT5hDGi7cON3ItQpaA==xesLHttUvjq3+MAga+XcRwOoxA2m1zUoIn/HTw1i4FppBQYlRvDR0oRfsfvMTzBd3BynakkLN4rMEv8nfyHubCmTiI3kNzLZCkxHKstjo5PgHQz/dB6lnu8dFOh6iGMfBzsvn5cNBASisY7HXH9GdEz2CZlhTbHL6eYbj6HqWCzIgUqr5pi6fBSnzVDBQZuevxfCzN0f5675wp+mtb8cmPpTVJcfVoUIxHaPjeSKyjaRIDI1P/ADFCkzJx8ZedDGlZD09WwP8cm+t+nkae1IXoOJccYiGrk3ccacrBdfSUY6oaNCT7PTlIzQZX9uBtWLQCMWmgwoR1+ieDNDPgjBeA==01TFshfJ7s2h4M6U4azolMEVYRVjzVWgGfpZ+N6zNArEaHw3iiAMv3WzeqV5dtaLvSy7utAsREevuiSrFz/4Vom2a7HbXC7/xs4rGg5FBH4xiRaZQe11LVKGYTO2LaJ1A5BRf+PFDo1kytu5vlFKKfFH+KiT8gv+B1SfAz9ODC5nJM9Gzp+YK53lBeTbm2nkr1e7jI5l6mRKUiAXyqa7PUbEaserHrDStLx1657f8gPX3o35AjyHKJBUa54Jl1aFeoSnIU/pUixOHRYPyhlSLQPx/HPe8Ad72s96MsJUg08A2p12zqseQMX6ps/+COtPS1Qm7ZsS0RA9rPaIOBvWWw==N/fxqvgXlwh/1u1i2GMakiWPQPTn+dCk8/vT32c15Sf+3PWeJ2RsYzlJ4wtkOxlq1dXdHaNHukBaxMMcRCRiOqIzbIVSz5y/UNFlhi8T5029jZgW5dGML1IZdV3I02rnGXLCMz/DKjLBCmNSaUGTZO6xh8CVmApQ8sBTfcXIlAVWH10BtY7ZcURu7Ifsxx0yEm6/7Z47S+sWK5vgpBH16nIt72XaZRXvJlnVbPetvaHirXax+bX14jYVkYggCBBm1dYpotqUw3sbtSxftlHFXPT4c04LoxrkAzJj2ouf7ccO/myNvNVnto+lloQ/YwbqspFccF04tP2iW3Ce0C5vVg==J2N+RUDz3FiQGNDzoHN8Lp/BykNCm2VVnATfdoJplgLVVlJdP6fz3pfVgGSOt1D6hxG+sWVKZjn2+e7QEWo/sbBa91bQb2C6VCsffcN4Wk2TE6vVYe/DQWvuZWONG9FIlsw3NCuS0wP7HOj4rJvent8YOH5DEJ/iGRBPsnWnd1OokJI5Lni3Tfd9SQJSjiGXCyYirYTx4AqvO8wWkiRw0UAfkOHIjo+vfoOXtICOTnHLMsEvtSVyDNGDaKp2V5qJ9b+Azptb3c6fvLEd1cmjLyy1OzO7Z8OhHdSt0ZLe7IcHU0/wGsHijBR5YI7PwCKIL6Q+0wFxtLuZ0WYOKscvMw==0eOPIrdsNLlP4kyo0Fsr3fZ/HSyUwzTyXJUC6wXo+Lxt1d7KZP5IMEcIbiuP6qpOg5QsJH6qxpmh/A/kJZ/GwxszSgwj75hv9xTBy9vqA6NQk9WC9wef7qiOlx5vF6QXTXAtsIfKo1LcAzUTGNLrrMTy2K5HUe2CYydzv4ydCqOck7POY09p+8cPdurcqg7nAFsHrCAO0nR3M/fFMIiPwxMwRApiPi2lrNnx23C+zMoFPNrdacfsnSITYa/jbG7sPblj9etOcZffRuxM0PesHLABsXUIDRwVhYiPsbxgdcG1hOVy77vygYvh83ASVq5hc86HPT5hDGi7cON3ItQpaA==N/fxqvgXlwh/1u1i2GMakiWPQPTn+dCk8/vT32c15Sf+3PWeJ2RsYzlJ4wtkOxlq1dXdHaNHukBaxMMcRCRiOqIzbIVSz5y/UNFlhi8T5029jZgW5dGML1IZdV3I02rnGXLCMz/DKjLBCmNSaUGTZO6xh8CVmApQ8sBTfcXIlAVWH10BtY7ZcURu7Ifsxx0yEm6/7Z47S+sWK5vgpBH16nIt72XaZRXvJlnVbPetvaHirXax+bX14jYVkYggCBBm1dYpotqUw3sbtSxftlHFXPT4c04LoxrkAzJj2ouf7ccO/myNvNVnto+lloQ/YwbqspFccF04tP2iW3Ce0C5vVg==J2N+RUDz3FiQGNDzoHN8Lp/BykNCm2VVnATfdoJplgLVVlJdP6fz3pfVgGSOt1D6hxG+sWVKZjn2+e7QEWo/sbBa91bQb2C6VCsffcN4Wk2TE6vVYe/DQWvuZWONG9FIlsw3NCuS0wP7HOj4rJvent8YOH5DEJ/iGRBPsnWnd1OokJI5Lni3Tfd9SQJSjiGXCyYirYTx4AqvO8wWkiRw0UAfkOHIjo+vfoOXtICOTnHLMsEvtSVyDNGDaKp2V5qJ9b+Azptb3c6fvLEd1cmjLyy1OzO7Z8OhHdSt0ZLe7IcHU0/wGsHijBR5YI7PwCKIL6Q+0wFxtLuZ0WYOKscvMw==0eOPIrdsNLlP4kyo0Fsr3fZ/HSyUwzTyXJUC6wXo+Lxt1d7KZP5IMEcIbiuP6qpOg5QsJH6qxpmh/A/kJZ/GwxszSgwj75hv9xTBy9vqA6NQk9WC9wef7qiOlx5vF6QXTXAtsIfKo1LcAzUTGNLrrMTy2K5HUe2CYydzv4ydCqOck7POY09p+8cPdurcqg7nAFsHrCAO0nR3M/fFMIiPwxMwRApiPi2lrNnx23C+zMoFPNrdacfsnSITYa/jbG7sPblj9etOcZffRuxM0PesHLABsXUIDRwVhYiPsbxgdcG1hOVy77vygYvh83ASVq5hc86HPT5hDGi7cON3ItQpaA==PMs25W0yr+ECEnTZZBpAlcyqvMt6JLnqMIcjUYl6rsigZyBNFgYG6yGK+9MlIPsOm/IGmU30GWQG7SK057MKYF+50lPLwpwdTXAkw0wWyeq2+YLlbkAUcProvOfwD3EEJcoxDItTUc/D551IrmW2nfMPuS62snAhHh0z/n7WDyDCLSAMynzgEa+gQGzTJVtDCqc/q8hFZBD3fzl0mr1B0FSAzkRKUQErj41hj8IK/7zPaku9sL5CCCOBeTGSIp8YJp+ssLwCr/QEBiYfya6ILE4g028S2gbXePfO6FiUhIqOAJ1Bm/a4lX78JbN5CLW88Gom/OwaxlmphRSMp1jiPQ==qYtabdpcAEmW8PR8x3Kkshy5I8mXhbiTZdCT26qE8du/9Gu1AM5nrvc7o0/nQzvlqFX5Yr6a9uCcWPII1mYe3iIfjeS+ktgqZvqGtnjXwqyG2/lKjRWWc3D+Jb5iA+7o3UxHhwoxHraHKOwgkeBrT8whCzkNKocimLmj/RouXFzqiIGGF4OV41tvFQFD3DrEUfUQ1iefRrsNO4BCdzzDYlgUAQoAcG+2xU5eR+1PkqEllnRqJqpi5dLvf6E6z1kQR6ReVixXG7g4GNvZgPJ3ihPXMXBCNn5URyTEUHgP1/WSYaza+/4c1gPWtgkz1ogtY50RhhnG/YxKLRsNVGxVEA==0eOPIrdsNLlP4kyo0Fsr3fZ/HSyUwzTyXJUC6wXo+Lxt1d7KZP5IMEcIbiuP6qpOg5QsJH6qxpmh/A/kJZ/GwxszSgwj75hv9xTBy9vqA6NQk9WC9wef7qiOlx5vF6QXTXAtsIfKo1LcAzUTGNLrrMTy2K5HUe2CYydzv4ydCqOck7POY09p+8cPdurcqg7nAFsHrCAO0nR3M/fFMIiPwxMwRApiPi2lrNnx23C+zMoFPNrdacfsnSITYa/jbG7sPblj9etOcZffRuxM0PesHLABsXUIDRwVhYiPsbxgdcG1hOVy77vygYvh83ASVq5hc86HPT5hDGi7cON3ItQpaA==1/9uiNfRSGxExBETw9Y2A0sNkjZ/ivBk7x9O0Em8sb6qD3zMvnWYpskdGmXmZ+91s9mRsFxXUNc2QxOkhdNc9pXOp35aJTbWQ+2KI88LWw6FY5gDU0znTp8xBQy1DafKdHZckq7fE7H+f0Sss4TQHTPYWfRnDIg6Fhcfa7KIkqVlzGr9S2klj5s/KcC2HTnKY0qiJFKWJZuu9c2YSEGHVhoMKtIJ3/QoAl3gHVgLxTWYzV3yc24XqqRGpChgmMOgS6wVn8bjyRR6Lsz41HQmwdHqiDPZBf+FD+ghnt05QiqQJQrb+z+9Sc+DI2xsGpuXA6w+QxL7/WWCeMy0GT+Ygg==ln8LZBaF5CHqWoHXjBy8/1yxxtegANkpljQN8yk1d2vokjCy1+qZZMiQMbKgOSrwA5/f0nw5CVBjiAbCdHgWhWWN25Y/S4nYKw1qEEcjnBcR8pn6RS1u7RoypvaSUtrTW2XOY9uQmHbyvTR1WGENgMW3QzkL6mQjMJIDs7BarZ3l7lIfgdB2pXbVC7Gd6Ej1e9/hXhSO7QQcyL/G9PoHgJd7/RJFSy92V+t8YzZwZEi4SVzgNzTMRaov70M1Ztf/YCl5CH16j/yRdQCQ0UNu6vlL5pKu5RaeGt1vGCtYoaDJ4m6cPIkXdm/Cm16fPa1BEPJYaUc3cDO7zH5g6eoogw==J2N+RUDz3FiQGNDzoHN8Lp/BykNCm2VVnATfdoJplgLVVlJdP6fz3pfVgGSOt1D6hxG+sWVKZjn2+e7QEWo/sbBa91bQb2C6VCsffcN4Wk2TE6vVYe/DQWvuZWONG9FIlsw3NCuS0wP7HOj4rJvent8YOH5DEJ/iGRBPsnWnd1OokJI5Lni3Tfd9SQJSjiGXCyYirYTx4AqvO8wWkiRw0UAfkOHIjo+vfoOXtICOTnHLMsEvtSVyDNGDaKp2V5qJ9b+Azptb3c6fvLEd1cmjLyy1OzO7Z8OhHdSt0ZLe7IcHU0/wGsHijBR5YI7PwCKIL6Q+0wFxtLuZ0WYOKscvMw==xesLHttUvjq3+MAga+XcRwOoxA2m1zUoIn/HTw1i4FppBQYlRvDR0oRfsfvMTzBd3BynakkLN4rMEv8nfyHubCmTiI3kNzLZCkxHKstjo5PgHQz/dB6lnu8dFOh6iGMfBzsvn5cNBASisY7HXH9GdEz2CZlhTbHL6eYbj6HqWCzIgUqr5pi6fBSnzVDBQZuevxfCzN0f5675wp+mtb8cmPpTVJcfVoUIxHaPjeSKyjaRIDI1P/ADFCkzJx8ZedDGlZD09WwP8cm+t+nkae1IXoOJccYiGrk3ccacrBdfSUY6oaNCT7PTlIzQZX9uBtWLQCMWmgwoR1+ieDNDPgjBeA==0eOPIrdsNLlP4kyo0Fsr3fZ/HSyUwzTyXJUC6wXo+Lxt1d7KZP5IMEcIbiuP6qpOg5QsJH6qxpmh/A/kJZ/GwxszSgwj75hv9xTBy9vqA6NQk9WC9wef7qiOlx5vF6QXTXAtsIfKo1LcAzUTGNLrrMTy2K5HUe2CYydzv4ydCqOck7POY09p+8cPdurcqg7nAFsHrCAO0nR3M/fFMIiPwxMwRApiPi2lrNnx23C+zMoFPNrdacfsnSITYa/jbG7sPblj9etOcZffRuxM0PesHLABsXUIDRwVhYiPsbxgdcG1hOVy77vygYvh83ASVq5hc86HPT5hDGi7cON3ItQpaA==DajEyS+Avw2+G3V43et1+qwepojjnIiRM4/FxYZFBEX8XvmulnByIdA8CgF3uNCxNx1TBdy8bCI7OjMFmJrj4AHBzey9LHmR+UlAhrHQ/X1HQHf96SBuIrhWD0jfVxASwG6nC7CMqy0DtAacANVWGFCzWgD9strYsa5cjRO6fTR0bu3hveOr8IefbGNS/IsMBZt6HnkPm6fIIfHu0fU94ccl0bwSVGtqK2KiJvlGZE552QfxhMTfDddgVwIiEO89MANituA2Dxpn1sOIuyapiLCqKC9sgndCNBI3WyVomc83GCUyjXxZ3cUW+dAfWsrjMJjnBP3TCQRm/TsPmsxTQQ==N/fxqvgXlwh/1u1i2GMakiWPQPTn+dCk8/vT32c15Sf+3PWeJ2RsYzlJ4wtkOxlq1dXdHaNHukBaxMMcRCRiOqIzbIVSz5y/UNFlhi8T5029jZgW5dGML1IZdV3I02rnGXLCMz/DKjLBCmNSaUGTZO6xh8CVmApQ8sBTfcXIlAVWH10BtY7ZcURu7Ifsxx0yEm6/7Z47S+sWK5vgpBH16nIt72XaZRXvJlnVbPetvaHirXax+bX14jYVkYggCBBm1dYpotqUw3sbtSxftlHFXPT4c04LoxrkAzJj2ouf7ccO/myNvNVnto+lloQ/YwbqspFccF04tP2iW3Ce0C5vVg==8MpLT2AMfko0PpgZNntNn+vp4MIAnKmCWs21K3XD5F9bJWWFmYqh+C4jEPj7PcNWPTD0FDtRHMflE0QdCKCLXk35W9EwaWE7A3XvS2MBEmKSIbKbKXTpND7njaOnAyNZtUDZUec+TFtRwQmOmQsi/c5tyRXTC9OWHkrF6w3zKjNPVE1Feq4yW0CE48YkFpCzDN/AeNhZlKchM7TJkGYVBsWmR9Ht7kc9uf6LOSx3i8CInfehah561CFilk30spAU+0AgzHMj5oghU3FgfODPNJzzMhYhqZMigFYzWHxbgQvZTzDORT/7cquEWMrhlKW835WcRAG2W5w+NHhL3j10Qw==01TFshfJ7s2h4M6U4azolMEVYRVjzVWgGfpZ+N6zNArEaHw3iiAMv3WzeqV5dtaLvSy7utAsREevuiSrFz/4Vom2a7HbXC7/xs4rGg5FBH4xiRaZQe11LVKGYTO2LaJ1A5BRf+PFDo1kytu5vlFKKfFH+KiT8gv+B1SfAz9ODC5nJM9Gzp+YK53lBeTbm2nkr1e7jI5l6mRKUiAXyqa7PUbEaserHrDStLx1657f8gPX3o35AjyHKJBUa54Jl1aFeoSnIU/pUixOHRYPyhlSLQPx/HPe8Ad72s96MsJUg08A2p12zqseQMX6ps/+COtPS1Qm7ZsS0RA9rPaIOBvWWw==xesLHttUvjq3+MAga+XcRwOoxA2m1zUoIn/HTw1i4FppBQYlRvDR0oRfsfvMTzBd3BynakkLN4rMEv8nfyHubCmTiI3kNzLZCkxHKstjo5PgHQz/dB6lnu8dFOh6iGMfBzsvn5cNBASisY7HXH9GdEz2CZlhTbHL6eYbj6HqWCzIgUqr5pi6fBSnzVDBQZuevxfCzN0f5675wp+mtb8cmPpTVJcfVoUIxHaPjeSKyjaRIDI1P/ADFCkzJx8ZedDGlZD09WwP8cm+t+nkae1IXoOJccYiGrk3ccacrBdfSUY6oaNCT7PTlIzQZX9uBtWLQCMWmgwoR1+ieDNDPgjBeA==0eOPIrdsNLlP4kyo0Fsr3fZ/HSyUwzTyXJUC6wXo+Lxt1d7KZP5IMEcIbiuP6qpOg5QsJH6qxpmh/A/kJZ/GwxszSgwj75hv9xTBy9vqA6NQk9WC9wef7qiOlx5vF6QXTXAtsIfKo1LcAzUTGNLrrMTy2K5HUe2CYydzv4ydCqOck7POY09p+8cPdurcqg7nAFsHrCAO0nR3M/fFMIiPwxMwRApiPi2lrNnx23C+zMoFPNrdacfsnSITYa/jbG7sPblj9etOcZffRuxM0PesHLABsXUIDRwVhYiPsbxgdcG1hOVy77vygYvh83ASVq5hc86HPT5hDGi7cON3ItQpaA==KklLA2pRZDDCf/I8+B+Spvb6FpOqRs5PIKVYK/l7CYIaeusRxJqDniEJo4fmyLedKfGgW7tHmvPVmY69Ko3SDhgvZFHfzTjxlZWb83451SYuMdMfLZd+LPHFwlG8ci7135EaH+3IYLMQp4zocmhjuRp/wO7Yt45Sc/ERm3vFNFbiv2DsiALoT1x0KLOkNaBUYi1hBhcVQDbkYJ+YgCwbclzDrCebI+pWIwuqedtxp2SM+Ql8XQi2UWsGsMFP0pnlMUSViMyA6Wzxccpny/lFwULCvM8jII59gUYRZeBLt1akXx0Zw2FfCjOf2FFnqBfhP0JVCEtlDK5bA7LzxJZ5LQ==N/fxqvgXlwh/1u1i2GMakiWPQPTn+dCk8/vT32c15Sf+3PWeJ2RsYzlJ4wtkOxlq1dXdHaNHukBaxMMcRCRiOqIzbIVSz5y/UNFlhi8T5029jZgW5dGML1IZdV3I02rnGXLCMz/DKjLBCmNSaUGTZO6xh8CVmApQ8sBTfcXIlAVWH10BtY7ZcURu7Ifsxx0yEm6/7Z47S+sWK5vgpBH16nIt72XaZRXvJlnVbPetvaHirXax+bX14jYVkYggCBBm1dYpotqUw3sbtSxftlHFXPT4c04LoxrkAzJj2ouf7ccO/myNvNVnto+lloQ/YwbqspFccF04tP2iW3Ce0C5vVg==xesLHttUvjq3+MAga+XcRwOoxA2m1zUoIn/HTw1i4FppBQYlRvDR0oRfsfvMTzBd3BynakkLN4rMEv8nfyHubCmTiI3kNzLZCkxHKstjo5PgHQz/dB6lnu8dFOh6iGMfBzsvn5cNBASisY7HXH9GdEz2CZlhTbHL6eYbj6HqWCzIgUqr5pi6fBSnzVDBQZuevxfCzN0f5675wp+mtb8cmPpTVJcfVoUIxHaPjeSKyjaRIDI1P/ADFCkzJx8ZedDGlZD09WwP8cm+t+nkae1IXoOJccYiGrk3ccacrBdfSUY6oaNCT7PTlIzQZX9uBtWLQCMWmgwoR1+ieDNDPgjBeA==01TFshfJ7s2h4M6U4azolMEVYRVjzVWgGfpZ+N6zNArEaHw3iiAMv3WzeqV5dtaLvSy7utAsREevuiSrFz/4Vom2a7HbXC7/xs4rGg5FBH4xiRaZQe11LVKGYTO2LaJ1A5BRf+PFDo1kytu5vlFKKfFH+KiT8gv+B1SfAz9ODC5nJM9Gzp+YK53lBeTbm2nkr1e7jI5l6mRKUiAXyqa7PUbEaserHrDStLx1657f8gPX3o35AjyHKJBUa54Jl1aFeoSnIU/pUixOHRYPyhlSLQPx/HPe8Ad72s96MsJUg08A2p12zqseQMX6ps/+COtPS1Qm7ZsS0RA9rPaIOBvWWw==0eOPIrdsNLlP4kyo0Fsr3fZ/HSyUwzTyXJUC6wXo+Lxt1d7KZP5IMEcIbiuP6qpOg5QsJH6qxpmh/A/kJZ/GwxszSgwj75hv9xTBy9vqA6NQk9WC9wef7qiOlx5vF6QXTXAtsIfKo1LcAzUTGNLrrMTy2K5HUe2CYydzv4ydCqOck7POY09p+8cPdurcqg7nAFsHrCAO0nR3M/fFMIiPwxMwRApiPi2lrNnx23C+zMoFPNrdacfsnSITYa/jbG7sPblj9etOcZffRuxM0PesHLABsXUIDRwVhYiPsbxgdcG1hOVy77vygYvh83ASVq5hc86HPT5hDGi7cON3ItQpaA==qYtabdpcAEmW8PR8x3Kkshy5I8mXhbiTZdCT26qE8du/9Gu1AM5nrvc7o0/nQzvlqFX5Yr6a9uCcWPII1mYe3iIfjeS+ktgqZvqGtnjXwqyG2/lKjRWWc3D+Jb5iA+7o3UxHhwoxHraHKOwgkeBrT8whCzkNKocimLmj/RouXFzqiIGGF4OV41tvFQFD3DrEUfUQ1iefRrsNO4BCdzzDYlgUAQoAcG+2xU5eR+1PkqEllnRqJqpi5dLvf6E6z1kQR6ReVixXG7g4GNvZgPJ3ihPXMXBCNn5URyTEUHgP1/WSYaza+/4c1gPWtgkz1ogtY50RhhnG/YxKLRsNVGxVEA==+Odta1ic6a+7yteFxAUpFnqdzOmcl7ldnXfNBSRIInQyrUmpJkykfckKPsalEjnbLQ9avd9U7Omuj99IYQ44aqqv1SFNGZNuMaUAltIegqD1YXBXdNkpT7NEFCqCp4aW0gWt5NVuJh7VAV9apolrqUTkXJ7qpvyOixCno0HDGJFXK3cMJpZFp/+mFu9noJDG4tX+a8dWQvHeFCX9dOVRcl53SiG3ess8qTTChb4Vj5J66xkDf9h8cBGMo/TuClpQdCV59tic4KGitmV7uu9ctPubZFvZkUjbU3dQbVNBB6CxiHJYCiuOo6D7yyt79XNyOYyEkjWWugRXDsrFLwrSGQ==I4W0pwnMLtoMaxbspUp+GUvlYssI+tfX5VDFqGr+e5933SVdDtkzWy5ihy/C5ETOMnvGLMVZw84eAYbLgjynPf7PLdTZIb4VAs+PXG/FXHfpEHBWi8REDSP1f9AkAgAfjINRqyq/CeARwLgKmClFf3v2vpsFwRGDXJjaNCZUhLFK7tpwOxWNekZCr77e/9vXL+hiPnjtXooBsrJjYaZW7+Zjbm33fg22iQkeZvptHU8tuq1iGZK6n2ibIrWkxIsH6S0qr26iKy5IjrOJgicsuHRmzvNWVPrgktzaTtAO1aAn7jVhHNp7TIuunf2NCD1vbno/Xh8bWv/zMuC1VV0GLg==dAdmUOpcdRZSW09FwcAK9SpmOmcFbzZDbURuh0Y28b0B8PRZm6WiN7OOYb8Dj77h6L95S8nnPLMf9lZpzh0+u20B28HGHF+3wkMGXv2S1hfZ/L/kE1Oz4Ma2Rwd1OptV7mN8rLKCQO/cnj9vHZ58RpaGzpakOEHObZdg3qE55EE3eWyaD5eCXJpv27YKnA6pGeWgVkS3WqA0MictqDWIrodMOZzVOppRNfzPEmu7mfQ2YZNgYAXZAeEGRYnRFGzWdOVDfSoGa6/vaKlszoVdxqyygdGmNvgOZVYcpxZO+LPXJsV1IZLNXaMqu0ipR2ntISsR29IiormzTio6t15aeQ==0eOPIrdsNLlP4kyo0Fsr3fZ/HSyUwzTyXJUC6wXo+Lxt1d7KZP5IMEcIbiuP6qpOg5QsJH6qxpmh/A/kJZ/GwxszSgwj75hv9xTBy9vqA6NQk9WC9wef7qiOlx5vF6QXTXAtsIfKo1LcAzUTGNLrrMTy2K5HUe2CYydzv4ydCqOck7POY09p+8cPdurcqg7nAFsHrCAO0nR3M/fFMIiPwxMwRApiPi2lrNnx23C+zMoFPNrdacfsnSITYa/jbG7sPblj9etOcZffRuxM0PesHLABsXUIDRwVhYiPsbxgdcG1hOVy77vygYvh83ASVq5hc86HPT5hDGi7cON3ItQpaA==01TFshfJ7s2h4M6U4azolMEVYRVjzVWgGfpZ+N6zNArEaHw3iiAMv3WzeqV5dtaLvSy7utAsREevuiSrFz/4Vom2a7HbXC7/xs4rGg5FBH4xiRaZQe11LVKGYTO2LaJ1A5BRf+PFDo1kytu5vlFKKfFH+KiT8gv+B1SfAz9ODC5nJM9Gzp+YK53lBeTbm2nkr1e7jI5l6mRKUiAXyqa7PUbEaserHrDStLx1657f8gPX3o35AjyHKJBUa54Jl1aFeoSnIU/pUixOHRYPyhlSLQPx/HPe8Ad72s96MsJUg08A2p12zqseQMX6ps/+COtPS1Qm7ZsS0RA9rPaIOBvWWw==+Odta1ic6a+7yteFxAUpFnqdzOmcl7ldnXfNBSRIInQyrUmpJkykfckKPsalEjnbLQ9avd9U7Omuj99IYQ44aqqv1SFNGZNuMaUAltIegqD1YXBXdNkpT7NEFCqCp4aW0gWt5NVuJh7VAV9apolrqUTkXJ7qpvyOixCno0HDGJFXK3cMJpZFp/+mFu9noJDG4tX+a8dWQvHeFCX9dOVRcl53SiG3ess8qTTChb4Vj5J66xkDf9h8cBGMo/TuClpQdCV59tic4KGitmV7uu9ctPubZFvZkUjbU3dQbVNBB6CxiHJYCiuOo6D7yyt79XNyOYyEkjWWugRXDsrFLwrSGQ==1/9uiNfRSGxExBETw9Y2A0sNkjZ/ivBk7x9O0Em8sb6qD3zMvnWYpskdGmXmZ+91s9mRsFxXUNc2QxOkhdNc9pXOp35aJTbWQ+2KI88LWw6FY5gDU0znTp8xBQy1DafKdHZckq7fE7H+f0Sss4TQHTPYWfRnDIg6Fhcfa7KIkqVlzGr9S2klj5s/KcC2HTnKY0qiJFKWJZuu9c2YSEGHVhoMKtIJ3/QoAl3gHVgLxTWYzV3yc24XqqRGpChgmMOgS6wVn8bjyRR6Lsz41HQmwdHqiDPZBf+FD+ghnt05QiqQJQrb+z+9Sc+DI2xsGpuXA6w+QxL7/WWCeMy0GT+Ygg==sd+gVFBHBDkqMCnRUCKYI40L2KZlukyjFPnEGTyDp4w95DwlnqcLT84BUFb7eK+x7sVbs5dLge5/X8ibe5IlNKN868UmV9zrZ4c8Npy+DVzqE7umkBo73giK6c+i6QiS3CAym1MSoMUJP7rqzXUnQ9bkYhOwdtw+K/ZH3cKDxBbahiX+D+tTN+eDgvMDIT/4dirXerxzWHM2L+NeeVrp4If4GU0dmRnIyGjz+B2w3OCW6aARMnsHKIUXlFSAGKL/OBaa3qGmAVaeEOw0/YRBZhD2Q96Kbu6gfWYY5mXDadp9vRuhaaicD8GUvfsmS1r7xRTf5gHqv+JE/HTXEZJVNA==0eOPIrdsNLlP4kyo0Fsr3fZ/HSyUwzTyXJUC6wXo+Lxt1d7KZP5IMEcIbiuP6qpOg5QsJH6qxpmh/A/kJZ/GwxszSgwj75hv9xTBy9vqA6NQk9WC9wef7qiOlx5vF6QXTXAtsIfKo1LcAzUTGNLrrMTy2K5HUe2CYydzv4ydCqOck7POY09p+8cPdurcqg7nAFsHrCAO0nR3M/fFMIiPwxMwRApiPi2lrNnx23C+zMoFPNrdacfsnSITYa/jbG7sPblj9etOcZffRuxM0PesHLABsXUIDRwVhYiPsbxgdcG1hOVy77vygYvh83ASVq5hc86HPT5hDGi7cON3ItQpaA==PMs25W0yr+ECEnTZZBpAlcyqvMt6JLnqMIcjUYl6rsigZyBNFgYG6yGK+9MlIPsOm/IGmU30GWQG7SK057MKYF+50lPLwpwdTXAkw0wWyeq2+YLlbkAUcProvOfwD3EEJcoxDItTUc/D551IrmW2nfMPuS62snAhHh0z/n7WDyDCLSAMynzgEa+gQGzTJVtDCqc/q8hFZBD3fzl0mr1B0FSAzkRKUQErj41hj8IK/7zPaku9sL5CCCOBeTGSIp8YJp+ssLwCr/QEBiYfya6ILE4g028S2gbXePfO6FiUhIqOAJ1Bm/a4lX78JbN5CLW88Gom/OwaxlmphRSMp1jiPQ==KrK/XcLj7FJaq3Af+oVcdXwIz+K/cvmgLDDvvEzeVNKwjR7QK82LCFn2p9N1chUjFIm4j10HlIfnzeBJDH46IeID51U3c8MtoFYe2TY5GgqIOuAnshOASspgsrhU4ITbbcszOPJeG/4yghOsePl6lp+wCjNM5qrYwPVPDtim5NqqltFuEsuHYvaTvQJeMah4sj330n/aG/YAnEkxAbLZbjtEkx/durLqOCfcUwRzu3dMZoYiaI2PNKXEo4hSG3DvaMHH7lqm7I/z8OnHyIdj5VvrYlsbdRgvujasNGpTtVPrm80DAkc5WPRKp/30wjIdTyLpptPIVTtvW2Glq0u2aw==0eOPIrdsNLlP4kyo0Fsr3fZ/HSyUwzTyXJUC6wXo+Lxt1d7KZP5IMEcIbiuP6qpOg5QsJH6qxpmh/A/kJZ/GwxszSgwj75hv9xTBy9vqA6NQk9WC9wef7qiOlx5vF6QXTXAtsIfKo1LcAzUTGNLrrMTy2K5HUe2CYydzv4ydCqOck7POY09p+8cPdurcqg7nAFsHrCAO0nR3M/fFMIiPwxMwRApiPi2lrNnx23C+zMoFPNrdacfsnSITYa/jbG7sPblj9etOcZffRuxM0PesHLABsXUIDRwVhYiPsbxgdcG1hOVy77vygYvh83ASVq5hc86HPT5hDGi7cON3ItQpaA==1/9uiNfRSGxExBETw9Y2A0sNkjZ/ivBk7x9O0Em8sb6qD3zMvnWYpskdGmXmZ+91s9mRsFxXUNc2QxOkhdNc9pXOp35aJTbWQ+2KI88LWw6FY5gDU0znTp8xBQy1DafKdHZckq7fE7H+f0Sss4TQHTPYWfRnDIg6Fhcfa7KIkqVlzGr9S2klj5s/KcC2HTnKY0qiJFKWJZuu9c2YSEGHVhoMKtIJ3/QoAl3gHVgLxTWYzV3yc24XqqRGpChgmMOgS6wVn8bjyRR6Lsz41HQmwdHqiDPZBf+FD+ghnt05QiqQJQrb+z+9Sc+DI2xsGpuXA6w+QxL7/WWCeMy0GT+Ygg==N/fxqvgXlwh/1u1i2GMakiWPQPTn+dCk8/vT32c15Sf+3PWeJ2RsYzlJ4wtkOxlq1dXdHaNHukBaxMMcRCRiOqIzbIVSz5y/UNFlhi8T5029jZgW5dGML1IZdV3I02rnGXLCMz/DKjLBCmNSaUGTZO6xh8CVmApQ8sBTfcXIlAVWH10BtY7ZcURu7Ifsxx0yEm6/7Z47S+sWK5vgpBH16nIt72XaZRXvJlnVbPetvaHirXax+bX14jYVkYggCBBm1dYpotqUw3sbtSxftlHFXPT4c04LoxrkAzJj2ouf7ccO/myNvNVnto+lloQ/YwbqspFccF04tP2iW3Ce0C5vVg==WQTtibFq2srmyoS+6j7qJ6FHm6gPCgiHVAEb2vZn8GGz0whWK+Bb+uPYjZsjfBxaP85f2snKOxZS86mpEi2YlyEP56S+88qoY0/jMfcSJWm169onMOte9qwk2kD7WTUR0gspIJdfVJXEIBRQQCg77+RZoEYEEYfhCe2BLOkFNgbUHnbg7XCsGg5B5Fh22/8z265uiOlhP/6QOP+RnT5z29xmyCcg5hNh4aXcvQxW9d6kW4exQsvYD34y/13rDq8lTBgoA0fZJHQVgriHm1r7OIk5OBmVJfMVsXRSOD77Npn/aKA1EITn56M771XXdHlFH2zK86peYilrVWJZYBzEWQ==KrK/XcLj7FJaq3Af+oVcdXwIz+K/cvmgLDDvvEzeVNKwjR7QK82LCFn2p9N1chUjFIm4j10HlIfnzeBJDH46IeID51U3c8MtoFYe2TY5GgqIOuAnshOASspgsrhU4ITbbcszOPJeG/4yghOsePl6lp+wCjNM5qrYwPVPDtim5NqqltFuEsuHYvaTvQJeMah4sj330n/aG/YAnEkxAbLZbjtEkx/durLqOCfcUwRzu3dMZoYiaI2PNKXEo4hSG3DvaMHH7lqm7I/z8OnHyIdj5VvrYlsbdRgvujasNGpTtVPrm80DAkc5WPRKp/30wjIdTyLpptPIVTtvW2Glq0u2aw==0eOPIrdsNLlP4kyo0Fsr3fZ/HSyUwzTyXJUC6wXo+Lxt1d7KZP5IMEcIbiuP6qpOg5QsJH6qxpmh/A/kJZ/GwxszSgwj75hv9xTBy9vqA6NQk9WC9wef7qiOlx5vF6QXTXAtsIfKo1LcAzUTGNLrrMTy2K5HUe2CYydzv4ydCqOck7POY09p+8cPdurcqg7nAFsHrCAO0nR3M/fFMIiPwxMwRApiPi2lrNnx23C+zMoFPNrdacfsnSITYa/jbG7sPblj9etOcZffRuxM0PesHLABsXUIDRwVhYiPsbxgdcG1hOVy77vygYvh83ASVq5hc86HPT5hDGi7cON3ItQpaA==cysDIWYMjL4oW6kflFpH9YHEvfjDl7e8ZKBCzni/sKeDdCd6Qj4tXpaL/9bSVVPDVe/LVRtx++b2Ng6Vb0S+Q521tgKULsfAgOmoZ9M++ZxElstNs8ibc8WrhxKZ2fjISkxcM0XPVHu/qgBBPEDN7noqp34gAb1YGb/o4UWGGb2Ddqqvy28TNvuF14ag7J1K8NJczMjjmcVhDVDwFPhV6KK8ByiHcuYfuWM8/wgoOu3kTwO+bFqLZElXXTwoqMMGWBBoaphv1ghFUQtNGVNjzLt+jH82VbDyv+NFtTXVXH67MC1cKwf6Yc5Z1+cZFD4pB/IzuF6HROKspJ4FMMzeHg==393WLSNHknHyOPa6Shav0c8ak4vn5KSYMFjYzE378WnSya/DEFnnVtkHq134X95IhK3AHoNAgdpDMPMH9tRtJlMd+ysh/EA8CCy2HdjTpWbA6lpQ/235+MyS9ceQgIsbd7PFvBUTugcmQPrmT0CixpLEGVeTfac2bkbrlPC9wKzKotFuNg5FXkxr8O5VUG+Q3+vMv5lsxA6YtczgE/RddWMG8hY2CRYl8pE3HIXfXBEwRfMWYBEJgERG0WSFV5hEC8ht2c5aFQvJbFeFxlHoHt4hmOqhrd1oZZvjOYuQcN1ldudnn5uTPT7Ts2xh+vXpwoYMiGwuOFVVqf5PaNSkbg==PMs25W0yr+ECEnTZZBpAlcyqvMt6JLnqMIcjUYl6rsigZyBNFgYG6yGK+9MlIPsOm/IGmU30GWQG7SK057MKYF+50lPLwpwdTXAkw0wWyeq2+YLlbkAUcProvOfwD3EEJcoxDItTUc/D551IrmW2nfMPuS62snAhHh0z/n7WDyDCLSAMynzgEa+gQGzTJVtDCqc/q8hFZBD3fzl0mr1B0FSAzkRKUQErj41hj8IK/7zPaku9sL5CCCOBeTGSIp8YJp+ssLwCr/QEBiYfya6ILE4g028S2gbXePfO6FiUhIqOAJ1Bm/a4lX78JbN5CLW88Gom/OwaxlmphRSMp1jiPQ==0eOPIrdsNLlP4kyo0Fsr3fZ/HSyUwzTyXJUC6wXo+Lxt1d7KZP5IMEcIbiuP6qpOg5QsJH6qxpmh/A/kJZ/GwxszSgwj75hv9xTBy9vqA6NQk9WC9wef7qiOlx5vF6QXTXAtsIfKo1LcAzUTGNLrrMTy2K5HUe2CYydzv4ydCqOck7POY09p+8cPdurcqg7nAFsHrCAO0nR3M/fFMIiPwxMwRApiPi2lrNnx23C+zMoFPNrdacfsnSITYa/jbG7sPblj9etOcZffRuxM0PesHLABsXUIDRwVhYiPsbxgdcG1hOVy77vygYvh83ASVq5hc86HPT5hDGi7cON3ItQpaA==PMs25W0yr+ECEnTZZBpAlcyqvMt6JLnqMIcjUYl6rsigZyBNFgYG6yGK+9MlIPsOm/IGmU30GWQG7SK057MKYF+50lPLwpwdTXAkw0wWyeq2+YLlbkAUcProvOfwD3EEJcoxDItTUc/D551IrmW2nfMPuS62snAhHh0z/n7WDyDCLSAMynzgEa+gQGzTJVtDCqc/q8hFZBD3fzl0mr1B0FSAzkRKUQErj41hj8IK/7zPaku9sL5CCCOBeTGSIp8YJp+ssLwCr/QEBiYfya6ILE4g028S2gbXePfO6FiUhIqOAJ1Bm/a4lX78JbN5CLW88Gom/OwaxlmphRSMp1jiPQ==+Odta1ic6a+7yteFxAUpFnqdzOmcl7ldnXfNBSRIInQyrUmpJkykfckKPsalEjnbLQ9avd9U7Omuj99IYQ44aqqv1SFNGZNuMaUAltIegqD1YXBXdNkpT7NEFCqCp4aW0gWt5NVuJh7VAV9apolrqUTkXJ7qpvyOixCno0HDGJFXK3cMJpZFp/+mFu9noJDG4tX+a8dWQvHeFCX9dOVRcl53SiG3ess8qTTChb4Vj5J66xkDf9h8cBGMo/TuClpQdCV59tic4KGitmV7uu9ctPubZFvZkUjbU3dQbVNBB6CxiHJYCiuOo6D7yyt79XNyOYyEkjWWugRXDsrFLwrSGQ==Cs9irTAF0cjdrvbU64l74Zdvu9UzNys7Y1fUZxNYrN2FnubPmgW+q7lpmqmoboFD94VC1mnCNW3oOowCQO8+R3cvz7UXTj/NIg1e0l9zYZtiKdZXIIXXq8nHpgftNQklT++pyzvzOp9o68kRSudJ0X2/UKReX/jEmUMOF/6ngmXU/OiqLrQmQBqBXaZ8mWKuJMBltUQKzKIbKmZ/boNKFIZlKfzZWCHkX20ixzCTvkCQgYBTnNv7gFuYLI/Do/z2igYCEIuKBc5cHKNf96ZZuofCg4RrwHlslgVgkPNPQAhm1RZ3UN33kWYm033YyGZe+egpuLNeuCCCLATU0k4gHQ==KrK/XcLj7FJaq3Af+oVcdXwIz+K/cvmgLDDvvEzeVNKwjR7QK82LCFn2p9N1chUjFIm4j10HlIfnzeBJDH46IeID51U3c8MtoFYe2TY5GgqIOuAnshOASspgsrhU4ITbbcszOPJeG/4yghOsePl6lp+wCjNM5qrYwPVPDtim5NqqltFuEsuHYvaTvQJeMah4sj330n/aG/YAnEkxAbLZbjtEkx/durLqOCfcUwRzu3dMZoYiaI2PNKXEo4hSG3DvaMHH7lqm7I/z8OnHyIdj5VvrYlsbdRgvujasNGpTtVPrm80DAkc5WPRKp/30wjIdTyLpptPIVTtvW2Glq0u2aw==0eOPIrdsNLlP4kyo0Fsr3fZ/HSyUwzTyXJUC6wXo+Lxt1d7KZP5IMEcIbiuP6qpOg5QsJH6qxpmh/A/kJZ/GwxszSgwj75hv9xTBy9vqA6NQk9WC9wef7qiOlx5vF6QXTXAtsIfKo1LcAzUTGNLrrMTy2K5HUe2CYydzv4ydCqOck7POY09p+8cPdurcqg7nAFsHrCAO0nR3M/fFMIiPwxMwRApiPi2lrNnx23C+zMoFPNrdacfsnSITYa/jbG7sPblj9etOcZffRuxM0PesHLABsXUIDRwVhYiPsbxgdcG1hOVy77vygYvh83ASVq5hc86HPT5hDGi7cON3ItQpaA==xesLHttUvjq3+MAga+XcRwOoxA2m1zUoIn/HTw1i4FppBQYlRvDR0oRfsfvMTzBd3BynakkLN4rMEv8nfyHubCmTiI3kNzLZCkxHKstjo5PgHQz/dB6lnu8dFOh6iGMfBzsvn5cNBASisY7HXH9GdEz2CZlhTbHL6eYbj6HqWCzIgUqr5pi6fBSnzVDBQZuevxfCzN0f5675wp+mtb8cmPpTVJcfVoUIxHaPjeSKyjaRIDI1P/ADFCkzJx8ZedDGlZD09WwP8cm+t+nkae1IXoOJccYiGrk3ccacrBdfSUY6oaNCT7PTlIzQZX9uBtWLQCMWmgwoR1+ieDNDPgjBeA==01TFshfJ7s2h4M6U4azolMEVYRVjzVWgGfpZ+N6zNArEaHw3iiAMv3WzeqV5dtaLvSy7utAsREevuiSrFz/4Vom2a7HbXC7/xs4rGg5FBH4xiRaZQe11LVKGYTO2LaJ1A5BRf+PFDo1kytu5vlFKKfFH+KiT8gv+B1SfAz9ODC5nJM9Gzp+YK53lBeTbm2nkr1e7jI5l6mRKUiAXyqa7PUbEaserHrDStLx1657f8gPX3o35AjyHKJBUa54Jl1aFeoSnIU/pUixOHRYPyhlSLQPx/HPe8Ad72s96MsJUg08A2p12zqseQMX6ps/+COtPS1Qm7ZsS0RA9rPaIOBvWWw==ln8LZBaF5CHqWoHXjBy8/1yxxtegANkpljQN8yk1d2vokjCy1+qZZMiQMbKgOSrwA5/f0nw5CVBjiAbCdHgWhWWN25Y/S4nYKw1qEEcjnBcR8pn6RS1u7RoypvaSUtrTW2XOY9uQmHbyvTR1WGENgMW3QzkL6mQjMJIDs7BarZ3l7lIfgdB2pXbVC7Gd6Ej1e9/hXhSO7QQcyL/G9PoHgJd7/RJFSy92V+t8YzZwZEi4SVzgNzTMRaov70M1Ztf/YCl5CH16j/yRdQCQ0UNu6vlL5pKu5RaeGt1vGCtYoaDJ4m6cPIkXdm/Cm16fPa1BEPJYaUc3cDO7zH5g6eoogw==DajEyS+Avw2+G3V43et1+qwepojjnIiRM4/FxYZFBEX8XvmulnByIdA8CgF3uNCxNx1TBdy8bCI7OjMFmJrj4AHBzey9LHmR+UlAhrHQ/X1HQHf96SBuIrhWD0jfVxASwG6nC7CMqy0DtAacANVWGFCzWgD9strYsa5cjRO6fTR0bu3hveOr8IefbGNS/IsMBZt6HnkPm6fIIfHu0fU94ccl0bwSVGtqK2KiJvlGZE552QfxhMTfDddgVwIiEO89MANituA2Dxpn1sOIuyapiLCqKC9sgndCNBI3WyVomc83GCUyjXxZ3cUW+dAfWsrjMJjnBP3TCQRm/TsPmsxTQQ==0eOPIrdsNLlP4kyo0Fsr3fZ/HSyUwzTyXJUC6wXo+Lxt1d7KZP5IMEcIbiuP6qpOg5QsJH6qxpmh/A/kJZ/GwxszSgwj75hv9xTBy9vqA6NQk9WC9wef7qiOlx5vF6QXTXAtsIfKo1LcAzUTGNLrrMTy2K5HUe2CYydzv4ydCqOck7POY09p+8cPdurcqg7nAFsHrCAO0nR3M/fFMIiPwxMwRApiPi2lrNnx23C+zMoFPNrdacfsnSITYa/jbG7sPblj9etOcZffRuxM0PesHLABsXUIDRwVhYiPsbxgdcG1hOVy77vygYvh83ASVq5hc86HPT5hDGi7cON3ItQpaA==NvDDTj8LI0/hJ6ZxxOj6nuwW8H69TbfFyFByKEkgVe+JaJ+gMs/8z8bFYtaSEwixdaupsaJtKsd0CHYkvVU272t+uLpEGbT3sxGDS2M87LeqppKlXNjSeGq/QBVq6xXmtujBRYIwWe544yqRQbF9CTgX3fNyCYTOmO5MvuEbz1WZqj3C6R79WBBuvd6ybQB7zcXxOQ8Qpxt7RTNRg2eLIOLjF9sxWcak2c5x/hh1DOecAEFEvDMd7ta7Cs9nA/9BJF40YY1gE8BedgOZ7r8+FhT6JKzYBADJkCPuLd6g/v3TyeEmcukgDd6zeGkr0cfUjmpyyrOLkSN6YEN6W2GfAg==I4W0pwnMLtoMaxbspUp+GUvlYssI+tfX5VDFqGr+e5933SVdDtkzWy5ihy/C5ETOMnvGLMVZw84eAYbLgjynPf7PLdTZIb4VAs+PXG/FXHfpEHBWi8REDSP1f9AkAgAfjINRqyq/CeARwLgKmClFf3v2vpsFwRGDXJjaNCZUhLFK7tpwOxWNekZCr77e/9vXL+hiPnjtXooBsrJjYaZW7+Zjbm33fg22iQkeZvptHU8tuq1iGZK6n2ibIrWkxIsH6S0qr26iKy5IjrOJgicsuHRmzvNWVPrgktzaTtAO1aAn7jVhHNp7TIuunf2NCD1vbno/Xh8bWv/zMuC1VV0GLg==J2N+RUDz3FiQGNDzoHN8Lp/BykNCm2VVnATfdoJplgLVVlJdP6fz3pfVgGSOt1D6hxG+sWVKZjn2+e7QEWo/sbBa91bQb2C6VCsffcN4Wk2TE6vVYe/DQWvuZWONG9FIlsw3NCuS0wP7HOj4rJvent8YOH5DEJ/iGRBPsnWnd1OokJI5Lni3Tfd9SQJSjiGXCyYirYTx4AqvO8wWkiRw0UAfkOHIjo+vfoOXtICOTnHLMsEvtSVyDNGDaKp2V5qJ9b+Azptb3c6fvLEd1cmjLyy1OzO7Z8OhHdSt0ZLe7IcHU0/wGsHijBR5YI7PwCKIL6Q+0wFxtLuZ0WYOKscvMw==xesLHttUvjq3+MAga+XcRwOoxA2m1zUoIn/HTw1i4FppBQYlRvDR0oRfsfvMTzBd3BynakkLN4rMEv8nfyHubCmTiI3kNzLZCkxHKstjo5PgHQz/dB6lnu8dFOh6iGMfBzsvn5cNBASisY7HXH9GdEz2CZlhTbHL6eYbj6HqWCzIgUqr5pi6fBSnzVDBQZuevxfCzN0f5675wp+mtb8cmPpTVJcfVoUIxHaPjeSKyjaRIDI1P/ADFCkzJx8ZedDGlZD09WwP8cm+t+nkae1IXoOJccYiGrk3ccacrBdfSUY6oaNCT7PTlIzQZX9uBtWLQCMWmgwoR1+ieDNDPgjBeA==0eOPIrdsNLlP4kyo0Fsr3fZ/HSyUwzTyXJUC6wXo+Lxt1d7KZP5IMEcIbiuP6qpOg5QsJH6qxpmh/A/kJZ/GwxszSgwj75hv9xTBy9vqA6NQk9WC9wef7qiOlx5vF6QXTXAtsIfKo1LcAzUTGNLrrMTy2K5HUe2CYydzv4ydCqOck7POY09p+8cPdurcqg7nAFsHrCAO0nR3M/fFMIiPwxMwRApiPi2lrNnx23C+zMoFPNrdacfsnSITYa/jbG7sPblj9etOcZffRuxM0PesHLABsXUIDRwVhYiPsbxgdcG1hOVy77vygYvh83ASVq5hc86HPT5hDGi7cON3ItQpaA==ln8LZBaF5CHqWoHXjBy8/1yxxtegANkpljQN8yk1d2vokjCy1+qZZMiQMbKgOSrwA5/f0nw5CVBjiAbCdHgWhWWN25Y/S4nYKw1qEEcjnBcR8pn6RS1u7RoypvaSUtrTW2XOY9uQmHbyvTR1WGENgMW3QzkL6mQjMJIDs7BarZ3l7lIfgdB2pXbVC7Gd6Ej1e9/hXhSO7QQcyL/G9PoHgJd7/RJFSy92V+t8YzZwZEi4SVzgNzTMRaov70M1Ztf/YCl5CH16j/yRdQCQ0UNu6vlL5pKu5RaeGt1vGCtYoaDJ4m6cPIkXdm/Cm16fPa1BEPJYaUc3cDO7zH5g6eoogw==0eOPIrdsNLlP4kyo0Fsr3fZ/HSyUwzTyXJUC6wXo+Lxt1d7KZP5IMEcIbiuP6qpOg5QsJH6qxpmh/A/kJZ/GwxszSgwj75hv9xTBy9vqA6NQk9WC9wef7qiOlx5vF6QXTXAtsIfKo1LcAzUTGNLrrMTy2K5HUe2CYydzv4ydCqOck7POY09p+8cPdurcqg7nAFsHrCAO0nR3M/fFMIiPwxMwRApiPi2lrNnx23C+zMoFPNrdacfsnSITYa/jbG7sPblj9etOcZffRuxM0PesHLABsXUIDRwVhYiPsbxgdcG1hOVy77vygYvh83ASVq5hc86HPT5hDGi7cON3ItQpaA==cQQnc/6ME6WkLWtLNCtfhTWVC96WAXcI5BlDqa6FWLc/2/3oYzKX5Ry8eaQ1iRLe7uOARzpPjAr/tBtOsf7/VUYVpxed5LR+hLu66ndCfjb7FOj2BQJcMedgps5q+Q7a6CLl0XzdA73S1iq6oKj8qImuEAelC/i4fXW2AOp4s3YUy7EVqveliOIKLGevJ9oavM2VkFEydZln/K5D6116O6HlKx1/vG1IJtextvjiYsJvL3tTURNc1KKkKUnn+9mZlrpqRCjN09TGgwBDQFfNQtsI6UqQyhdOpseyr6dDKP1NjSzL7vWGcz4dZrEtfMUueommGy5cUea2qOYlYcYahg==Cs9irTAF0cjdrvbU64l74Zdvu9UzNys7Y1fUZxNYrN2FnubPmgW+q7lpmqmoboFD94VC1mnCNW3oOowCQO8+R3cvz7UXTj/NIg1e0l9zYZtiKdZXIIXXq8nHpgftNQklT++pyzvzOp9o68kRSudJ0X2/UKReX/jEmUMOF/6ngmXU/OiqLrQmQBqBXaZ8mWKuJMBltUQKzKIbKmZ/boNKFIZlKfzZWCHkX20ixzCTvkCQgYBTnNv7gFuYLI/Do/z2igYCEIuKBc5cHKNf96ZZuofCg4RrwHlslgVgkPNPQAhm1RZ3UN33kWYm033YyGZe+egpuLNeuCCCLATU0k4gHQ==N/fxqvgXlwh/1u1i2GMakiWPQPTn+dCk8/vT32c15Sf+3PWeJ2RsYzlJ4wtkOxlq1dXdHaNHukBaxMMcRCRiOqIzbIVSz5y/UNFlhi8T5029jZgW5dGML1IZdV3I02rnGXLCMz/DKjLBCmNSaUGTZO6xh8CVmApQ8sBTfcXIlAVWH10BtY7ZcURu7Ifsxx0yEm6/7Z47S+sWK5vgpBH16nIt72XaZRXvJlnVbPetvaHirXax+bX14jYVkYggCBBm1dYpotqUw3sbtSxftlHFXPT4c04LoxrkAzJj2ouf7ccO/myNvNVnto+lloQ/YwbqspFccF04tP2iW3Ce0C5vVg==KrK/XcLj7FJaq3Af+oVcdXwIz+K/cvmgLDDvvEzeVNKwjR7QK82LCFn2p9N1chUjFIm4j10HlIfnzeBJDH46IeID51U3c8MtoFYe2TY5GgqIOuAnshOASspgsrhU4ITbbcszOPJeG/4yghOsePl6lp+wCjNM5qrYwPVPDtim5NqqltFuEsuHYvaTvQJeMah4sj330n/aG/YAnEkxAbLZbjtEkx/durLqOCfcUwRzu3dMZoYiaI2PNKXEo4hSG3DvaMHH7lqm7I/z8OnHyIdj5VvrYlsbdRgvujasNGpTtVPrm80DAkc5WPRKp/30wjIdTyLpptPIVTtvW2Glq0u2aw==DajEyS+Avw2+G3V43et1+qwepojjnIiRM4/FxYZFBEX8XvmulnByIdA8CgF3uNCxNx1TBdy8bCI7OjMFmJrj4AHBzey9LHmR+UlAhrHQ/X1HQHf96SBuIrhWD0jfVxASwG6nC7CMqy0DtAacANVWGFCzWgD9strYsa5cjRO6fTR0bu3hveOr8IefbGNS/IsMBZt6HnkPm6fIIfHu0fU94ccl0bwSVGtqK2KiJvlGZE552QfxhMTfDddgVwIiEO89MANituA2Dxpn1sOIuyapiLCqKC9sgndCNBI3WyVomc83GCUyjXxZ3cUW+dAfWsrjMJjnBP3TCQRm/TsPmsxTQQ==sd+gVFBHBDkqMCnRUCKYI40L2KZlukyjFPnEGTyDp4w95DwlnqcLT84BUFb7eK+x7sVbs5dLge5/X8ibe5IlNKN868UmV9zrZ4c8Npy+DVzqE7umkBo73giK6c+i6QiS3CAym1MSoMUJP7rqzXUnQ9bkYhOwdtw+K/ZH3cKDxBbahiX+D+tTN+eDgvMDIT/4dirXerxzWHM2L+NeeVrp4If4GU0dmRnIyGjz+B2w3OCW6aARMnsHKIUXlFSAGKL/OBaa3qGmAVaeEOw0/YRBZhD2Q96Kbu6gfWYY5mXDadp9vRuhaaicD8GUvfsmS1r7xRTf5gHqv+JE/HTXEZJVNA==NK6NywoKUpj+0PLzOXyZOBD14F0piAr2svr7OZmcxsM5J5f7TB+BcaB+EZz/uJpbL3BMTls55ZA28diFPp9xYfXT6gWQbXATpq2JOYSx2uk4qRReX8Jgqw740oxkSr6/VxFveSF+WLCAGrSlLgulNrm/F0qi6fayFLfyGCPmZDJLBUGQGJxx7z81PHW2W6WAHXM5Ogl4Wr6NFV9J2LN60uGiDds81/eLOrB9Y2yWaq555FQhIUrqZYFsiv+P4gGT1ZoyYyV6z5E2Re59RsSA2F4TfHkS9n/Qsw5jSwfFWkofErBUbZhRT5ZSecprC9KYSzBKKCWbc6J4bMjDlaDHdw==0eOPIrdsNLlP4kyo0Fsr3fZ/HSyUwzTyXJUC6wXo+Lxt1d7KZP5IMEcIbiuP6qpOg5QsJH6qxpmh/A/kJZ/GwxszSgwj75hv9xTBy9vqA6NQk9WC9wef7qiOlx5vF6QXTXAtsIfKo1LcAzUTGNLrrMTy2K5HUe2CYydzv4ydCqOck7POY09p+8cPdurcqg7nAFsHrCAO0nR3M/fFMIiPwxMwRApiPi2lrNnx23C+zMoFPNrdacfsnSITYa/jbG7sPblj9etOcZffRuxM0PesHLABsXUIDRwVhYiPsbxgdcG1hOVy77vygYvh83ASVq5hc86HPT5hDGi7cON3ItQpaA==rbQjXDGwRI/HIdQ2vTAvsqid2i7ICNKFtmq4S2sLHAob/F8D7GmrQ6KAgkGh8PHxiGPLg8Sb6M3vKlWSGedgFdIsTmBmFMOsrF0MJqPEGk0JM4/HlHP6rAqLnZ1UNyMEsvDoOa2FvCuWRUqU+cB4ACsf0rolyNdJXnxMEQ3Q05iI7rB6DohT5yLcT+h0BJHYXHXsP99McHGFCqxI3nRg50twH7eZ9Jv58ZU9WqDjVEwaorYwVTQjXS+8ZZEFIihPHkurO6lxXx/cqO2EW5HNBX8G2M74NQpi9kOPeBQrF+NgCZSXw8uWLjXjRdDDT91QTxDvFIQg7vSrJUW779lgWA==N/fxqvgXlwh/1u1i2GMakiWPQPTn+dCk8/vT32c15Sf+3PWeJ2RsYzlJ4wtkOxlq1dXdHaNHukBaxMMcRCRiOqIzbIVSz5y/UNFlhi8T5029jZgW5dGML1IZdV3I02rnGXLCMz/DKjLBCmNSaUGTZO6xh8CVmApQ8sBTfcXIlAVWH10BtY7ZcURu7Ifsxx0yEm6/7Z47S+sWK5vgpBH16nIt72XaZRXvJlnVbPetvaHirXax+bX14jYVkYggCBBm1dYpotqUw3sbtSxftlHFXPT4c04LoxrkAzJj2ouf7ccO/myNvNVnto+lloQ/YwbqspFccF04tP2iW3Ce0C5vVg==LtunaYjem3mHKOAGYvlUZCSGaTkHQMXzM7GpXL/9pcRe1gK5W3X+nhTuoBS+8YtxoqXbPzTcs+Sd253Y7rtNk1zkew+rWdOSANLBEjoWCKjzdjnzUGoOLdGgId61pVHv2MVJTv95MEI+kIc1vLZ73aZ/jS5FkYjofqq0rO1g5D+yogGpr2aFykCcaN5arybRa8DtofkufSJwRFmeZ9O3pK5HaBaJ/rc0KxacI9cbBD6KyBLjm9tZRS9ZHBiX0XV5Hnd28KyO9LwqpVKLZAlG9oQQJbiPY45gOSzgpICsEzHCOuaytR6NlY8FUAnEfbfzoMThoR7GAO9DSYQh96jFZw==KrK/XcLj7FJaq3Af+oVcdXwIz+K/cvmgLDDvvEzeVNKwjR7QK82LCFn2p9N1chUjFIm4j10HlIfnzeBJDH46IeID51U3c8MtoFYe2TY5GgqIOuAnshOASspgsrhU4ITbbcszOPJeG/4yghOsePl6lp+wCjNM5qrYwPVPDtim5NqqltFuEsuHYvaTvQJeMah4sj330n/aG/YAnEkxAbLZbjtEkx/durLqOCfcUwRzu3dMZoYiaI2PNKXEo4hSG3DvaMHH7lqm7I/z8OnHyIdj5VvrYlsbdRgvujasNGpTtVPrm80DAkc5WPRKp/30wjIdTyLpptPIVTtvW2Glq0u2aw==0eOPIrdsNLlP4kyo0Fsr3fZ/HSyUwzTyXJUC6wXo+Lxt1d7KZP5IMEcIbiuP6qpOg5QsJH6qxpmh/A/kJZ/GwxszSgwj75hv9xTBy9vqA6NQk9WC9wef7qiOlx5vF6QXTXAtsIfKo1LcAzUTGNLrrMTy2K5HUe2CYydzv4ydCqOck7POY09p+8cPdurcqg7nAFsHrCAO0nR3M/fFMIiPwxMwRApiPi2lrNnx23C+zMoFPNrdacfsnSITYa/jbG7sPblj9etOcZffRuxM0PesHLABsXUIDRwVhYiPsbxgdcG1hOVy77vygYvh83ASVq5hc86HPT5hDGi7cON3ItQpaA==PMs25W0yr+ECEnTZZBpAlcyqvMt6JLnqMIcjUYl6rsigZyBNFgYG6yGK+9MlIPsOm/IGmU30GWQG7SK057MKYF+50lPLwpwdTXAkw0wWyeq2+YLlbkAUcProvOfwD3EEJcoxDItTUc/D551IrmW2nfMPuS62snAhHh0z/n7WDyDCLSAMynzgEa+gQGzTJVtDCqc/q8hFZBD3fzl0mr1B0FSAzkRKUQErj41hj8IK/7zPaku9sL5CCCOBeTGSIp8YJp+ssLwCr/QEBiYfya6ILE4g028S2gbXePfO6FiUhIqOAJ1Bm/a4lX78JbN5CLW88Gom/OwaxlmphRSMp1jiPQ==KrK/XcLj7FJaq3Af+oVcdXwIz+K/cvmgLDDvvEzeVNKwjR7QK82LCFn2p9N1chUjFIm4j10HlIfnzeBJDH46IeID51U3c8MtoFYe2TY5GgqIOuAnshOASspgsrhU4ITbbcszOPJeG/4yghOsePl6lp+wCjNM5qrYwPVPDtim5NqqltFuEsuHYvaTvQJeMah4sj330n/aG/YAnEkxAbLZbjtEkx/durLqOCfcUwRzu3dMZoYiaI2PNKXEo4hSG3DvaMHH7lqm7I/z8OnHyIdj5VvrYlsbdRgvujasNGpTtVPrm80DAkc5WPRKp/30wjIdTyLpptPIVTtvW2Glq0u2aw==0eOPIrdsNLlP4kyo0Fsr3fZ/HSyUwzTyXJUC6wXo+Lxt1d7KZP5IMEcIbiuP6qpOg5QsJH6qxpmh/A/kJZ/GwxszSgwj75hv9xTBy9vqA6NQk9WC9wef7qiOlx5vF6QXTXAtsIfKo1LcAzUTGNLrrMTy2K5HUe2CYydzv4ydCqOck7POY09p+8cPdurcqg7nAFsHrCAO0nR3M/fFMIiPwxMwRApiPi2lrNnx23C+zMoFPNrdacfsnSITYa/jbG7sPblj9etOcZffRuxM0PesHLABsXUIDRwVhYiPsbxgdcG1hOVy77vygYvh83ASVq5hc86HPT5hDGi7cON3ItQpaA==ln8LZBaF5CHqWoHXjBy8/1yxxtegANkpljQN8yk1d2vokjCy1+qZZMiQMbKgOSrwA5/f0nw5CVBjiAbCdHgWhWWN25Y/S4nYKw1qEEcjnBcR8pn6RS1u7RoypvaSUtrTW2XOY9uQmHbyvTR1WGENgMW3QzkL6mQjMJIDs7BarZ3l7lIfgdB2pXbVC7Gd6Ej1e9/hXhSO7QQcyL/G9PoHgJd7/RJFSy92V+t8YzZwZEi4SVzgNzTMRaov70M1Ztf/YCl5CH16j/yRdQCQ0UNu6vlL5pKu5RaeGt1vGCtYoaDJ4m6cPIkXdm/Cm16fPa1BEPJYaUc3cDO7zH5g6eoogw==0eOPIrdsNLlP4kyo0Fsr3fZ/HSyUwzTyXJUC6wXo+Lxt1d7KZP5IMEcIbiuP6qpOg5QsJH6qxpmh/A/kJZ/GwxszSgwj75hv9xTBy9vqA6NQk9WC9wef7qiOlx5vF6QXTXAtsIfKo1LcAzUTGNLrrMTy2K5HUe2CYydzv4ydCqOck7POY09p+8cPdurcqg7nAFsHrCAO0nR3M/fFMIiPwxMwRApiPi2lrNnx23C+zMoFPNrdacfsnSITYa/jbG7sPblj9etOcZffRuxM0PesHLABsXUIDRwVhYiPsbxgdcG1hOVy77vygYvh83ASVq5hc86HPT5hDGi7cON3ItQpaA==PMs25W0yr+ECEnTZZBpAlcyqvMt6JLnqMIcjUYl6rsigZyBNFgYG6yGK+9MlIPsOm/IGmU30GWQG7SK057MKYF+50lPLwpwdTXAkw0wWyeq2+YLlbkAUcProvOfwD3EEJcoxDItTUc/D551IrmW2nfMPuS62snAhHh0z/n7WDyDCLSAMynzgEa+gQGzTJVtDCqc/q8hFZBD3fzl0mr1B0FSAzkRKUQErj41hj8IK/7zPaku9sL5CCCOBeTGSIp8YJp+ssLwCr/QEBiYfya6ILE4g028S2gbXePfO6FiUhIqOAJ1Bm/a4lX78JbN5CLW88Gom/OwaxlmphRSMp1jiPQ==KrK/XcLj7FJaq3Af+oVcdXwIz+K/cvmgLDDvvEzeVNKwjR7QK82LCFn2p9N1chUjFIm4j10HlIfnzeBJDH46IeID51U3c8MtoFYe2TY5GgqIOuAnshOASspgsrhU4ITbbcszOPJeG/4yghOsePl6lp+wCjNM5qrYwPVPDtim5NqqltFuEsuHYvaTvQJeMah4sj330n/aG/YAnEkxAbLZbjtEkx/durLqOCfcUwRzu3dMZoYiaI2PNKXEo4hSG3DvaMHH7lqm7I/z8OnHyIdj5VvrYlsbdRgvujasNGpTtVPrm80DAkc5WPRKp/30wjIdTyLpptPIVTtvW2Glq0u2aw==PMs25W0yr+ECEnTZZBpAlcyqvMt6JLnqMIcjUYl6rsigZyBNFgYG6yGK+9MlIPsOm/IGmU30GWQG7SK057MKYF+50lPLwpwdTXAkw0wWyeq2+YLlbkAUcProvOfwD3EEJcoxDItTUc/D551IrmW2nfMPuS62snAhHh0z/n7WDyDCLSAMynzgEa+gQGzTJVtDCqc/q8hFZBD3fzl0mr1B0FSAzkRKUQErj41hj8IK/7zPaku9sL5CCCOBeTGSIp8YJp+ssLwCr/QEBiYfya6ILE4g028S2gbXePfO6FiUhIqOAJ1Bm/a4lX78JbN5CLW88Gom/OwaxlmphRSMp1jiPQ==+Odta1ic6a+7yteFxAUpFnqdzOmcl7ldnXfNBSRIInQyrUmpJkykfckKPsalEjnbLQ9avd9U7Omuj99IYQ44aqqv1SFNGZNuMaUAltIegqD1YXBXdNkpT7NEFCqCp4aW0gWt5NVuJh7VAV9apolrqUTkXJ7qpvyOixCno0HDGJFXK3cMJpZFp/+mFu9noJDG4tX+a8dWQvHeFCX9dOVRcl53SiG3ess8qTTChb4Vj5J66xkDf9h8cBGMo/TuClpQdCV59tic4KGitmV7uu9ctPubZFvZkUjbU3dQbVNBB6CxiHJYCiuOo6D7yyt79XNyOYyEkjWWugRXDsrFLwrSGQ==Cs9irTAF0cjdrvbU64l74Zdvu9UzNys7Y1fUZxNYrN2FnubPmgW+q7lpmqmoboFD94VC1mnCNW3oOowCQO8+R3cvz7UXTj/NIg1e0l9zYZtiKdZXIIXXq8nHpgftNQklT++pyzvzOp9o68kRSudJ0X2/UKReX/jEmUMOF/6ngmXU/OiqLrQmQBqBXaZ8mWKuJMBltUQKzKIbKmZ/boNKFIZlKfzZWCHkX20ixzCTvkCQgYBTnNv7gFuYLI/Do/z2igYCEIuKBc5cHKNf96ZZuofCg4RrwHlslgVgkPNPQAhm1RZ3UN33kWYm033YyGZe+egpuLNeuCCCLATU0k4gHQ==qYtabdpcAEmW8PR8x3Kkshy5I8mXhbiTZdCT26qE8du/9Gu1AM5nrvc7o0/nQzvlqFX5Yr6a9uCcWPII1mYe3iIfjeS+ktgqZvqGtnjXwqyG2/lKjRWWc3D+Jb5iA+7o3UxHhwoxHraHKOwgkeBrT8whCzkNKocimLmj/RouXFzqiIGGF4OV41tvFQFD3DrEUfUQ1iefRrsNO4BCdzzDYlgUAQoAcG+2xU5eR+1PkqEllnRqJqpi5dLvf6E6z1kQR6ReVixXG7g4GNvZgPJ3ihPXMXBCNn5URyTEUHgP1/WSYaza+/4c1gPWtgkz1ogtY50RhhnG/YxKLRsNVGxVEA==0eOPIrdsNLlP4kyo0Fsr3fZ/HSyUwzTyXJUC6wXo+Lxt1d7KZP5IMEcIbiuP6qpOg5QsJH6qxpmh/A/kJZ/GwxszSgwj75hv9xTBy9vqA6NQk9WC9wef7qiOlx5vF6QXTXAtsIfKo1LcAzUTGNLrrMTy2K5HUe2CYydzv4ydCqOck7POY09p+8cPdurcqg7nAFsHrCAO0nR3M/fFMIiPwxMwRApiPi2lrNnx23C+zMoFPNrdacfsnSITYa/jbG7sPblj9etOcZffRuxM0PesHLABsXUIDRwVhYiPsbxgdcG1hOVy77vygYvh83ASVq5hc86HPT5hDGi7cON3ItQpaA==cysDIWYMjL4oW6kflFpH9YHEvfjDl7e8ZKBCzni/sKeDdCd6Qj4tXpaL/9bSVVPDVe/LVRtx++b2Ng6Vb0S+Q521tgKULsfAgOmoZ9M++ZxElstNs8ibc8WrhxKZ2fjISkxcM0XPVHu/qgBBPEDN7noqp34gAb1YGb/o4UWGGb2Ddqqvy28TNvuF14ag7J1K8NJczMjjmcVhDVDwFPhV6KK8ByiHcuYfuWM8/wgoOu3kTwO+bFqLZElXXTwoqMMGWBBoaphv1ghFUQtNGVNjzLt+jH82VbDyv+NFtTXVXH67MC1cKwf6Yc5Z1+cZFD4pB/IzuF6HROKspJ4FMMzeHg==0eOPIrdsNLlP4kyo0Fsr3fZ/HSyUwzTyXJUC6wXo+Lxt1d7KZP5IMEcIbiuP6qpOg5QsJH6qxpmh/A/kJZ/GwxszSgwj75hv9xTBy9vqA6NQk9WC9wef7qiOlx5vF6QXTXAtsIfKo1LcAzUTGNLrrMTy2K5HUe2CYydzv4ydCqOck7POY09p+8cPdurcqg7nAFsHrCAO0nR3M/fFMIiPwxMwRApiPi2lrNnx23C+zMoFPNrdacfsnSITYa/jbG7sPblj9etOcZffRuxM0PesHLABsXUIDRwVhYiPsbxgdcG1hOVy77vygYvh83ASVq5hc86HPT5hDGi7cON3ItQpaA==5ugKnShSnO4RluPlhyBi+pkiDy0HYJcXIs10txMs95FlJOvUlvwuCkHH2yT45mmPGJK/5KS6DW5cqUWSp23vaLERLvSxreV4BcRwRobAcYswKjMQUfNloY+xZzl7YW0SxOezy4x1PA7bpMZyevZdqaeQ7GebUBVJfvcZwGb505DYS0vrGREEcUl1nXprY2YQI/Hiwml5cpcA5S+l0ro6cXV5cVToesKCbx+aI1GsgdVPaxNH8BaU2IJ57SN5qt8gX4PxnLc7+HDmMDnRVZJeUvq5xI6NkNQi04N7Y0Ph+AmjDfyJKGJdezMAlyizSlvoj34Z16MXNDNY5aStIN1EZQ==ln8LZBaF5CHqWoHXjBy8/1yxxtegANkpljQN8yk1d2vokjCy1+qZZMiQMbKgOSrwA5/f0nw5CVBjiAbCdHgWhWWN25Y/S4nYKw1qEEcjnBcR8pn6RS1u7RoypvaSUtrTW2XOY9uQmHbyvTR1WGENgMW3QzkL6mQjMJIDs7BarZ3l7lIfgdB2pXbVC7Gd6Ej1e9/hXhSO7QQcyL/G9PoHgJd7/RJFSy92V+t8YzZwZEi4SVzgNzTMRaov70M1Ztf/YCl5CH16j/yRdQCQ0UNu6vlL5pKu5RaeGt1vGCtYoaDJ4m6cPIkXdm/Cm16fPa1BEPJYaUc3cDO7zH5g6eoogw==DajEyS+Avw2+G3V43et1+qwepojjnIiRM4/FxYZFBEX8XvmulnByIdA8CgF3uNCxNx1TBdy8bCI7OjMFmJrj4AHBzey9LHmR+UlAhrHQ/X1HQHf96SBuIrhWD0jfVxASwG6nC7CMqy0DtAacANVWGFCzWgD9strYsa5cjRO6fTR0bu3hveOr8IefbGNS/IsMBZt6HnkPm6fIIfHu0fU94ccl0bwSVGtqK2KiJvlGZE552QfxhMTfDddgVwIiEO89MANituA2Dxpn1sOIuyapiLCqKC9sgndCNBI3WyVomc83GCUyjXxZ3cUW+dAfWsrjMJjnBP3TCQRm/TsPmsxTQQ==0eOPIrdsNLlP4kyo0Fsr3fZ/HSyUwzTyXJUC6wXo+Lxt1d7KZP5IMEcIbiuP6qpOg5QsJH6qxpmh/A/kJZ/GwxszSgwj75hv9xTBy9vqA6NQk9WC9wef7qiOlx5vF6QXTXAtsIfKo1LcAzUTGNLrrMTy2K5HUe2CYydzv4ydCqOck7POY09p+8cPdurcqg7nAFsHrCAO0nR3M/fFMIiPwxMwRApiPi2lrNnx23C+zMoFPNrdacfsnSITYa/jbG7sPblj9etOcZffRuxM0PesHLABsXUIDRwVhYiPsbxgdcG1hOVy77vygYvh83ASVq5hc86HPT5hDGi7cON3ItQpaA==I4W0pwnMLtoMaxbspUp+GUvlYssI+tfX5VDFqGr+e5933SVdDtkzWy5ihy/C5ETOMnvGLMVZw84eAYbLgjynPf7PLdTZIb4VAs+PXG/FXHfpEHBWi8REDSP1f9AkAgAfjINRqyq/CeARwLgKmClFf3v2vpsFwRGDXJjaNCZUhLFK7tpwOxWNekZCr77e/9vXL+hiPnjtXooBsrJjYaZW7+Zjbm33fg22iQkeZvptHU8tuq1iGZK6n2ibIrWkxIsH6S0qr26iKy5IjrOJgicsuHRmzvNWVPrgktzaTtAO1aAn7jVhHNp7TIuunf2NCD1vbno/Xh8bWv/zMuC1VV0GLg==J2N+RUDz3FiQGNDzoHN8Lp/BykNCm2VVnATfdoJplgLVVlJdP6fz3pfVgGSOt1D6hxG+sWVKZjn2+e7QEWo/sbBa91bQb2C6VCsffcN4Wk2TE6vVYe/DQWvuZWONG9FIlsw3NCuS0wP7HOj4rJvent8YOH5DEJ/iGRBPsnWnd1OokJI5Lni3Tfd9SQJSjiGXCyYirYTx4AqvO8wWkiRw0UAfkOHIjo+vfoOXtICOTnHLMsEvtSVyDNGDaKp2V5qJ9b+Azptb3c6fvLEd1cmjLyy1OzO7Z8OhHdSt0ZLe7IcHU0/wGsHijBR5YI7PwCKIL6Q+0wFxtLuZ0WYOKscvMw==KrK/XcLj7FJaq3Af+oVcdXwIz+K/cvmgLDDvvEzeVNKwjR7QK82LCFn2p9N1chUjFIm4j10HlIfnzeBJDH46IeID51U3c8MtoFYe2TY5GgqIOuAnshOASspgsrhU4ITbbcszOPJeG/4yghOsePl6lp+wCjNM5qrYwPVPDtim5NqqltFuEsuHYvaTvQJeMah4sj330n/aG/YAnEkxAbLZbjtEkx/durLqOCfcUwRzu3dMZoYiaI2PNKXEo4hSG3DvaMHH7lqm7I/z8OnHyIdj5VvrYlsbdRgvujasNGpTtVPrm80DAkc5WPRKp/30wjIdTyLpptPIVTtvW2Glq0u2aw==NK6NywoKUpj+0PLzOXyZOBD14F0piAr2svr7OZmcxsM5J5f7TB+BcaB+EZz/uJpbL3BMTls55ZA28diFPp9xYfXT6gWQbXATpq2JOYSx2uk4qRReX8Jgqw740oxkSr6/VxFveSF+WLCAGrSlLgulNrm/F0qi6fayFLfyGCPmZDJLBUGQGJxx7z81PHW2W6WAHXM5Ogl4Wr6NFV9J2LN60uGiDds81/eLOrB9Y2yWaq555FQhIUrqZYFsiv+P4gGT1ZoyYyV6z5E2Re59RsSA2F4TfHkS9n/Qsw5jSwfFWkofErBUbZhRT5ZSecprC9KYSzBKKCWbc6J4bMjDlaDHdw==\n"
     ]
    }
   ],
   "source": [
    "cipher = rsa_key.encrypt(plain_text)\n",
    "print(''.join(cipher))"
   ]
  },
  {
   "cell_type": "code",
   "execution_count": 6,
   "id": "ced5f2de",
   "metadata": {},
   "outputs": [
    {
     "data": {
      "text/plain": [
       "\"All I ask is if this is my last night with you, hold me like I'm more than just a friend. Give me a memory I can use.\""
      ]
     },
     "execution_count": 6,
     "metadata": {},
     "output_type": "execute_result"
    }
   ],
   "source": [
    "''.join(rsa_key.decrypt(cipher)).replace('\\x00', '')"
   ]
  },
  {
   "cell_type": "markdown",
   "id": "33570939",
   "metadata": {},
   "source": [
    "---"
   ]
  },
  {
   "cell_type": "markdown",
   "id": "4088c3d3",
   "metadata": {},
   "source": [
    "# 數位信封"
   ]
  },
  {
   "cell_type": "markdown",
   "id": "f6df25ec",
   "metadata": {},
   "source": [
    "## 產生對稱式金鑰"
   ]
  },
  {
   "cell_type": "markdown",
   "id": "179763c8",
   "metadata": {},
   "source": [
    "### 沒有 IV 會導致前 16 個字無法解碼"
   ]
  },
  {
   "cell_type": "code",
   "execution_count": 7,
   "id": "a9986c7e",
   "metadata": {},
   "outputs": [
    {
     "name": "stdout",
     "output_type": "stream",
     "text": [
      "b'\\x1b\\x90g\\xdc\\\\\\x9c`sa\\xbcz\\x1a\\x13\\xcb\\xef\\xc9h\\x9f~C\\xa58\\x0e\\xcb\\x8a&\\x8a,,T\\x1e1'\n",
      "b'of\\xbeH\\x9a\\xfeO\\x8e\\xa0\\xbeN\\x83\\xfd\\xda\\x8fL'\n"
     ]
    }
   ],
   "source": [
    "def generate_aes_key(bytes: int) -> str:\n",
    "    key = b''.join([(random.randint(0, 0xFF).to_bytes(1, 'little')) for _ in range(bytes)])\n",
    "    return key\n",
    "\n",
    "aes_key = generate_aes_key(32)\n",
    "IV = generate_aes_key(16)\n",
    "print(aes_key, IV, sep='\\n')"
   ]
  },
  {
   "cell_type": "markdown",
   "id": "5257ce4b",
   "metadata": {},
   "source": [
    "## 加密明文"
   ]
  },
  {
   "cell_type": "code",
   "execution_count": 8,
   "id": "3ea8ce41",
   "metadata": {},
   "outputs": [],
   "source": [
    "plain_text = \"All I ask is if this is my last night with you, hold me like I'm more than just a friend. Give me a memory I can use.\""
   ]
  },
  {
   "cell_type": "markdown",
   "id": "51a04243",
   "metadata": {},
   "source": [
    "### Padding"
   ]
  },
  {
   "cell_type": "code",
   "execution_count": 9,
   "id": "ee3adc64",
   "metadata": {},
   "outputs": [],
   "source": [
    "def padding(text):\n",
    "    if type(text) is str:\n",
    "        text = text.encode('utf8')\n",
    "    elif type(text) is bytes:\n",
    "        pass\n",
    "    else:\n",
    "        raise TypeError('請輸入字串或位元組資料')\n",
    "    if len(text) % 16 != 0:\n",
    "        text += ('\\0'.encode('utf8') * (16 - (len(text) % 16)))\n",
    "        \n",
    "    return text"
   ]
  },
  {
   "cell_type": "code",
   "execution_count": 10,
   "id": "cdbedfcb",
   "metadata": {},
   "outputs": [
    {
     "data": {
      "text/plain": [
       "b\"All I ask is if this is my last night with you, hold me like I'm more than just a friend. Give me a memory I can use.\\x00\\x00\\x00\\x00\\x00\\x00\\x00\\x00\\x00\\x00\\x00\""
      ]
     },
     "execution_count": 10,
     "metadata": {},
     "output_type": "execute_result"
    }
   ],
   "source": [
    "plain_text = padding(plain_text)\n",
    "plain_text"
   ]
  },
  {
   "cell_type": "code",
   "execution_count": 11,
   "id": "9e2856f2",
   "metadata": {},
   "outputs": [
    {
     "data": {
      "text/plain": [
       "128"
      ]
     },
     "execution_count": 11,
     "metadata": {},
     "output_type": "execute_result"
    }
   ],
   "source": [
    "len(plain_text)"
   ]
  },
  {
   "cell_type": "code",
   "execution_count": 12,
   "id": "71a70597",
   "metadata": {},
   "outputs": [],
   "source": [
    "from Crypto.Cipher import AES\n",
    "\n",
    "cipher_aes = AES.new(aes_key, AES.MODE_CBC, IV)\n",
    "try:\n",
    "    cipher = cipher_aes.encrypt(plain_text)\n",
    "except TypeError:\n",
    "    cipher = cipher_aes.encrypt(plain_text.encode())\n",
    "except Exception as e:\n",
    "    print(e)"
   ]
  },
  {
   "cell_type": "code",
   "execution_count": 13,
   "id": "c181ce33",
   "metadata": {},
   "outputs": [
    {
     "data": {
      "text/plain": [
       "b'\\xc3\\xfe-\\x00\\xf1M#\\xe9\\xc5e\\xd9\\x98\\x8f\\x0fr\\x8e\\x98\\xdb\\xe6\\x92\\x83H\\x94\\x02\\x7f\\t\\x85\\xa4&`\\xe0\\xfa r[U\\xe7\\x03\\x1dJy\"5\\x07\\x01\\xf9u\\x9f\\x8e\\xb3/B\\x89\\x98\\xcf*\\x9bO\\x06\\xd8\\xd4QD\\tC\\xbc+\\xb9\\x13Pi\\xeeX\\xaa\\xceM\\x9c\\xb1F+Q\\xec\\x17zGp\\xd4\\xb7\\xf5\\xe6DC\\xd9p\\xc73\\xf2\\xab\\xab*\\xa2\\xbfE);\\x9e\\xa2\\xa0e\\xc9\\x87\\x16u?\\xc2\\xc5\\x19\\xaa\\xa40^U\\xceS\\xeaZy\\xd2'"
      ]
     },
     "execution_count": 13,
     "metadata": {},
     "output_type": "execute_result"
    }
   ],
   "source": [
    "cipher"
   ]
  },
  {
   "cell_type": "markdown",
   "id": "fa29f140",
   "metadata": {},
   "source": [
    "## 數位信封RSA演算法"
   ]
  },
  {
   "cell_type": "code",
   "execution_count": 14,
   "id": "20256c2d",
   "metadata": {},
   "outputs": [],
   "source": [
    "class DigitalRSA(RSA):  \n",
    "    def encrypt(self, secret_key: bytes):\n",
    "        cipher = []\n",
    "        for B in secret_key:\n",
    "            cipher.append(base64.b64encode(self.exponentiation(B, self.e, self.n).to_bytes(self.bits//8, byteorder='little')))\n",
    "        return cipher\n",
    "    \n",
    "    def decrypt(self, encrypted_secret_key: list):\n",
    "        decrypted_key = []\n",
    "        for B in encrypted_secret_key:\n",
    "            decrypted_key.append(self.exponentiation(int.from_bytes(base64.b64decode(B), 'little'), self.d, self.n).to_bytes(1, 'little'))\n",
    "        return decrypted_key"
   ]
  },
  {
   "cell_type": "markdown",
   "id": "847ce909",
   "metadata": {},
   "source": [
    "## 加密AES金鑰"
   ]
  },
  {
   "cell_type": "code",
   "execution_count": 15,
   "id": "bd6cc607",
   "metadata": {},
   "outputs": [],
   "source": [
    "d_rsa = DigitalRSA(2048)\n",
    "key = d_rsa.encrypt(aes_key)"
   ]
  },
  {
   "cell_type": "code",
   "execution_count": 16,
   "id": "1f8ad43c",
   "metadata": {},
   "outputs": [
    {
     "name": "stdout",
     "output_type": "stream",
     "text": [
      "\n",
      "私鑰：\u001b[33m5356437298160291059319730104423405030154238107520981469014804225150237671135167626192977617089664028413833876615658227561948570375600214507010363061149015524059751443236903343657421453954435678661844903568723343898163674674379423872320993975373634485197260258358006160800406812203526205108147354975444653935216006872257794344345459320990601215545593321767085440248265222245031127420348684482211216972512962877957004024486251520168959711720273411986389621869835634015907494683226000239396491252149149555869095852081422756270698573659430211363076857011850305336914792568732115128043938732836117438575799002459818439553\u001b[0m\n",
      "\n",
      "公鑰：\u001b[33m65537\u001b[0m]\n"
     ]
    }
   ],
   "source": [
    "print(f'\\n私鑰：\\033[33m{d_rsa.d}\\033[0m\\n\\n公鑰：\\033[33m{d_rsa.e}\\033[0m]')"
   ]
  },
  {
   "cell_type": "code",
   "execution_count": 17,
   "id": "dd2ef20a",
   "metadata": {
    "tags": []
   },
   "outputs": [
    {
     "data": {
      "text/plain": [
       "b'DZpj1fVHElGBcNnGVP25hiF4y8Tc7cT8os2Vfnoyvl8giqtHE4fj4kcgOz+ITCfRfV3DQGFkgcjj+aRQS/mWyG+8k7XKHwbMrskqKZiPy3FeoOjNA3Z86VhUZ9JdoUDKpRe1CmDur0ZkS9mMYGl4lftG70AJjkcmP8ZWy3g49QPqUfIhIVzwTEflLsi9mOiNDFjFhI5RTcB60N9Bky5q3jBtELYp+dhhyNVpyvyF62c8kNdJWhwttXdQoE4JNURpe9H9J4vI8DB2Lmvev5mNNpJiADCaEwAAuTWdS0qJEJNw0gVTOFJzdylFsNhaKnAOrb05BMtY3rdS15+ony5Ofw==Iq/qrxsvf99f4urgkY9VNiGfML/nXI/wtWoHmlP3NnZ7VyGU0QZKViobmPndZmJoE1g1pzOjrb5S/THbtNY7JoqkYc+seVcn3FEEGwfDqgmrmGwEiR/c8WwV6X68zr80NSCu/YFpmuKdVxKSOig5XPuyNm2duLYjlVQoCP0ZIvqV206uQ4lMndIgN1n/MXjbGPHGrKUVAYkXp90EGP1V+OJUIhcJ7vUPEVJ/f4COZ068/+UOi5qpZSnP8eCaph0qPamHJ6AjVsHgCWn9mBtBTds0tSMWJkmZ4XFea+MRhZLg8HyXaYHVCbEfwVmp7llnxGrFVeNzv3gx31pPDQaZaw==htTlC3ThRpDjcxtu77p9zI8zKlIylLUCeM2eLPPHyGB80tJ1g1WuU3po2rxUHXpJ1SRKmyIaQJw6gGuERCGj7fWiIL1rr0xuw5RSlxYHUk+CQKYbcCbL9OLp/+DzBW69R66iIo5V/Pbs6PfPYM9pRVwSoAmBYMAcoW1kxYfR+bmGICPkOFhgOrcU5V78PlG8SBPej1T1y0+t+AJcezT2TBd36UQ5hd/hL4KT9AJeAIzK65rYLrlYO4qyA2dXXHEbO/sSanl/FYmz721jBVjA1xGw/QlO/LZYxk0xSYzhi9RHqOREG2LUQwVl9DuQR+hMC7X/YHYk6Kf+ItzzNBeiSw==MhqkkENfahktt8p2B8hK/iE3u6Zm0Zse0pqxc7ccfUP1itNUu5yB8Iqx1QOsfghGEMjob2eY0BPv7o4FF98S51y3Ai5dMYuBLjb2S1a10hhqd7SfXOB/zkt4iVqvQl/xUCrUMKmjYecdYxxogXBlrQSc2wqN4LvnPpVUHK9MZpMVK6Yh765J34Xw6TYeQdeaEt2o+Nv4kNo0nv31jY3+d5lIGaTJIhz/FUPUQZEi5XHvvhJWOwB0BiPuSY87Qx3oSaC7FeJB+fJnxEwmS8lton0BH2a/4EwVoK6D9b9/M11x3u5FGQnaTRwsPLRiMD7oNcTOaeMjysQMEJajIj71Pg==Ly+4P/Hko9hQr7e2STkP8dGxzKkVAxD3LPwCg2XsQH0ZS6xJlYA+xchSaJPeK29kbE4rUhpqDNHBkQ6ovP7O8sF2ypqe4na5lJ+egqSl+fngS9nfhXRNfJAzVttV+V/czVCNE3lO3MKqxJrgBvRwLruVHyggr57dgo5NfzHQ/lYoG0gHA4MZo2WE4F3C1jz+Qfa5lRFsSDcBmYQuab55IPoQWMNfhnDCwM8BVDFEtxQa1kNIobkfNf4wAhDn57lodcF3XTWPog63WI+6l41u7NL6zllEM7FrbvHW/pjDfJNXcocAoOpEfaGnW6B0aM/MOP6Ws6R0/GmKSPX9ztOJXA==8IORPKrHSqj9o7HLWehzfHqW0TPDuSd+FNfqd8cLThWjl5AW5skRQsxmR61ztkCsn2GwUhkI+XNAEwVXQW73SoVRMk+wqJtNnOkEq6SS7gnaos4l7UB0zpEcXSpaaE2amQKIjIk+JZvoHSvHKcb/FYT5HyJry49xAZLiKr65e8yIloBLwUEivAET7ylbxLEdhrNhoawgLWVjVCznnV3DoFEA0CBgEF5KNUX7E1sMXSpYiT2QbqRLB7Lt37MeHguyBH2TsiWN0dSVGIQpGXdI0NHmD5gW6qC0vqRxgKq9S5eHmOHCOFZ8URhCteAAG1uJnSXBbyxfO79nLKLPmMSmfQ==IeZ5C9pfsXCx2bkM4MaGT9T2cqSVtmdWSucQ2wXcuEnKJM3IjRg5k0/0u8xjXIExAQ7UuJxrYAMxNYBAd3D8cbpAXkp6sDidiusgKe98lRx7azGDn2a8cP70J5ZB3YhDL4TBBy9RbiDG3RLASw9t2BBZuynYFnOxrcG1nqAHNdzvzcg/buMitIaruzXPsCo9Un2wYwpr+dq7KQXNDgf2pgtlsaCDjEMap71miBMuoV+GBgQpDoNpea8HJ9ts9RFQ5zwGzYEKHdGMLBIfluVk7K8ABfdr9EAQn7uiObzkA0czsfpY2l2Kcs97aLgDsbZnhNb9NZG6B2OENcwEcwJtdQ==vTxTJY1OpWgx39kxlet8Wx4aOxcC9OEn8tepxerURorTo/pts8dVaJ9SA+LXgxc5iUseRa4/VLQ/KEL6xndnICbzKszt8s+BnvJgyviHCtWkjRv3GUvxYZm7lyuWHsSiciD1cfT8f1Sv48gMQx1pxbkIFRIwNG+F8bZA6uZnqs/QNyWDg2Sc09aWRXMKWbhRD421vgGZRGNeJkNfFrRaH4xAjIu849jQOydHT4mwzEDfhtWlR6UDWdPtACigjDPQzG+Pscw+2sKB3rEdLKMM4v/IgXFEAZZgdLZ1B87Ci3jRbYKLCFQCo0ogOg/UrWLhNptwnwlW4sLdmRMN88wLCQ==dT9gSveVG4fAMRHSBPlTVnS6/1xbHueSH3GWg0wJp7nQpl3aqm7B86AcT96TXg+LJ+Rh9ozf63k3p8PVSvUj3To+AKwCb7PoU+WvomhIeQLWU/qbpZGbW1IuwY3TBGfnkfyi1MBtS8bVdYqT1vRVGwPZ5DdG32jurCvIu6rO0/1WwTR8Y9U7cMX+ycUztw9Z+lXRDMau5P/orBas7aaMFcI2guUYjK9dU4I5Ch+wGBnOoeBM84QzSucporKIBnY0EB30x0LgkpH+0bP64aSqSEYpF7i6BjHL9usY0wGXkJSTe0+qnSQBZHqfppmo0J+Dj0hNjP/davcGG1ipPzj/Sw==UVA2ZdF96t6p7vq5UiGf4Ga2J94LKn9wi890OI5FoIF+xo6hZn9U+TnGQ1hOnF4SCS90CQeHVX9PvasTsZTMWilg8hRZ4yxO+1VbIDEUlH7Lu+aqnafW5N7VAvUTpbCdn7GaiyZAb8Pk76s3xHQxAyGKxVnyYyEvQJU5EAF7hfQRH1TYKEADMQ3NJoz3r0Vmy+MO1P4ydFAy74si0FX7zKYV8uo5Q8ZWiKa+0fQaHYSF8OJWdpS7z2miVNoAy9ap+zqkFlgzurOgH8Gb+06rvGZpO9EaMwlfFqPQ0ECExZ47p0R6RsynHCn0/bPikv8YDpRGpzAtixbwWureL3K8AQ==f1DJZYkHYMfuyNe4cRTgwVYMSqBO8z2Ro1+aKWgnuBN1xCdiQ50zY0lNAvgdVHyPaeF81Lf2QHaJpRs/wdeSHY1inl9/VofgeJyv5QZq9CUse/MrRzeIPRLyqnGjTqcm2Vd6+PPWQlWsPxJbDE76SbsGYnbVvya6N2w16T6jT8y7iUW4pnDSPnFjAqAMZSRrzcST5JunH9C3fEtbbwyPqznDplU0aUVa4HRC6FuKA9GzRUZGKzrG5nD95t6rA42hlr0Av/tDGtMqv6nZ6rGf7VhJ41TAkPdSVrGjezAMuRd9JRTCZ7ff0O1sUr7bNESWYrGAhYDptmXC24dsa9UvWA==E79rRbHsyCJFb4kNxmwwUhtxyP4+k99ohH8hlaQTZqmGUr2BOCRAS76uMCCjaACdatusTIY/PPeX7ZIgwqB9uatW+JsZp+mWElWp2YslxrQ4+L2piFam4II1Cdy6uOiXVSweXXU/e4BL2Ld6/AnX6jCCUT60LcNjmaTkQHT/4h0NJypRtgnqK2BNGg2sNQS4TXLZIownpYUSWDLTfVKybP2RG/u6Kv9wqdoW8d7adQ4j8esJp60rONCk9WdI58tFd5zRe0ZHR/0IAfqjEgRShwdOneA46rrGvlIR4s6vqgmotn0zxztj2JrGdy/ctpfBM/g4VTdl6HDtodFGsgmkTw==hW8zD4e+eh26s7QDPb0vxYPPZkZRj90GEsQITo9qpcUCiba5yVj9oUwAM+h//wsBGi7o//+LiJxP/sWB7N78IQjA8wzbrar+aHDwqGb87MuzQEYw/1e16ki0vzHw7ZE1gyXzmRyie8BZUpPSFvA7Ei4xd++8LhZZ7cpQLZA4KDAFHpwc/NWvBSvuQAjPUcj5B4Am8zJzdrx/a1ivMaHwf8aHTxXrGnD6cTofG2SU7aVZwT5mCFRzzdDz/p1i8Kxa+K0WCrhPLlDPZFx0O8JVgx4lmJgpWfMTPKd5jN2GNBi6OcqmVaJWwnMl0zdXFLTuAssnMNUWnj/EiRJvpXhEnQ==Tox+v671QdfZqHni5BtpqOGtXQNWF08qLLzEeh07THTEI+U0nCaXiak6etS8jjy+RNdIqJ4a7cqbACYBI+vHeqlL63RkPhOEZ1nFDE9Goly0fFqlot6KqgCBzwgttuEweIgQJyh0khZGGlu7T0NBR+3gNa+KTzcj/F7gsLxWAVR6Ipvrmf+PZqItXjt6yY8jnt51Qp50J+T+tJArLkcx2VxYD1EeFRPz7e/p+tgBvv0S6xuazMgMtBYUeFqO9Ho1ZY5rh6eoP0PvhTHiZvh8AgsM+BcbiyKWL53rlAkF0y6cur44j9ey6scWZmOGUmEmF4Io+CA0uy9FNHH+Bn6cog==uDZF3QgfM6KLSqLyYUZeNsX8LMmX5fZHZbKtETDlgq0IdV4AIFW/8GeNj6WLXt3JMLL5NXZ5ZjcZARz1S0vxvgLoSXQpi8r/2QhH6pH7kILCtQ9YU8cVXNZ3oLm2KJHqIBsfm1Ga1RBMU0xW1U4nmUhRBcsPAHFovknK0K1eLTK2WTWE1qsrXPa9JqwVeJluC2C+OOAZc6CxyFuGsskb8PbYmNVyl94y9mTxaI9XZ8P1KM7BtreVWKS42BkFC3fh1m6l71pssfqKMQsZaSnXcw0uHwO48MXcSaHnZDTlhmlIiKzfoLsJK1dPmvslP9eUFFxRsyYYqOJRpnlAvhznYQ==gX+UtxbMS0rOKJzhi2u2Bxems63zXDc9b8V2AVvaJyG8YkWqbAt8eRwqx5lTzqdXsVozepsJS4I+/ZsMRIdSaUtnNAGBuGKgxGvBs2Z7Lk8bbw5ntoFUsBH+BkZS7gk4NshQaSbZ6kuu3s/v17Uf21GL1fP2x6ART2cwW21bNSh29Q5QLxFE3a4gBWHn3pTtEbTIhGFCO5k/dBIiRchfg4yJ7l8Z/9HKcNeUxvYGU2AoCD/qFa8u7vPF+oirAyclxMdMsftBZczI8uJvj5EgRNDcFNbkRuzmpdl97w2M7cORYFBeCdL16mprnpjl/+uZtBFFYQ180As4tph7bx3JfA==P3GwWKAvKD6oyReSXrU5vnDdKB3dsV2csVpz9gBEAY5WzOHOf36+XYV6o59LGNEx3F9m9jciIav8ngW3g2h85iEB6UD8WrrLuCCV+wfN6dcb82oJ7i52Mv01Z5No3uko1DModj3p1v9a7SpO3aN9eqIQgJrshfO5pgDnpQqRUZEafeQscW5ti3UeIVCV+cWUMui+MssK8XUzuyIO78i1OMi0+X0Jtdj99VAUhY8pv4KmvHTdQmJenEWMelREVZcxbZxIzpcKIt1BC75H3KFrhJ1/hLVjMlGOe0nbwVrH3/sf1AlePenB7abIvYp5hRj4b13l/s6CgNfzWw/+zVrAdQ==WbVVeTUiOvQJOyXmmvkUhK9dQhEvMc2Wc4f4S5AAFRWOovob4Qt9RAHTw9ixAkEbSNhloJxIwY/r4ZAWjBlmMVc6FyhDNUVVOiLGiwkyQJ3AJZcApTnTfRYqr8j97h3Cosm7p5+7FTX3x2J/aBUTQQpU5Ma1HJ4DNCFw6yTxQiP7jxEaRjsx/PVfzS6Le+TpnHYYvYxeE4gWxVT3KtJTSOuZFbb9x6Xvup4B+PR7KmqGe2ZNsG32hYK2+sSLbwxaMBO7/ROdM1PFqeByxkuWlso1MbFt6i+xidR6FXmSHDFWMTTxkJGRvRlX8ZEZMrhAW4EerTQ0l+5wUBxPB4ksfQ==ZEgGezpguzhK1wq68byfZ9YXSglka4oHpYeRxwwjdifw2wUSRrGGqqay8TQZ83oHiN1559asnYnNwwFR0l5nif8Jt0zEzXv2xmHXoUdzE4XAhZWihfHvPFry9UZ0Iuyq0CFaI1Xm9l4ahiQu1fx+jHijPqldpEygN8zOPjQd4+C5Wb8Nj88xh47SpTqGwj8qpS5u6oN8G8Nda4tcbaN6iHSzRUWYeMlRtXwxBOPZXilNpWn9uAN26/u4wT1vJn0nn7Vpzwg6Cha5C0sIOvHIkjo2oIUpRPpLbQrPZBGsAEEgtUOHlg+9K69/sPWcd8gD0q7nmoP9UD84rlXULUNfJQ==qwr1lCg15SVf0csOp+XihwYaOlVhOE6B9lvMU0CUSyhX8IzaVQF1G2yLH2bV0mqjQTwXsFdrPpj9eoS+CHaGFcICCYzVuUAkfs7LtYY2NTJA6MgOSIP+QuOBJqHWlCsz2TYa07V0l66kcBuJ2ICG8GEk5ycrMHVKQZQNA1+0dnZ/b7WdxYW0pLHu9ghOPIBjret/RnRwn4ejH0DBQqfvUPQuW07Z8R5JpMIL8kfjImZPFZs27w20tPgEtt59ZmxK0tS9gwPfbd/2MnmeDB+hKuCkx860koduwjbq8u3dx4QynZwdYti42Z7DLuFgoSLQxo2G63FoKJ5syDbtoUqlKg==CaUNntTOWVwv5++czROGMNW71avQjBw0qOKd9WHp7i7KpBktqiiCAKDDJK/tbFWhXen2cq/FHSMA1rL3G1Esx9sakeK6EXK6lx548aoWDdAUfG08PO+CZEy+j8GydFZ5p2bnjj1jlanwTxL0Rh090fBy5JYdilkBeBMXMsalFs1PhFIG7f0wuYXeyTxo8u8OU5Sw2qbb7FeZ0PLnJTFfQ5jU+21RIQqb1L0Uhu457QnB6jScJhELCemnWHXl3deCv8IAyDM+Dgw6S2ZK7AdqgWCPxLYleFC9sj9lVs7m/TPtnHir83heSJfatGaL6CsvLERRcmRJStJ+Ind56gwhGw==T4qUZvhbsQUEkm06Ixdgf5P2W5mpcV1soTSk0YP+Sto9C3+XD39fpsgkunemz3l3oaXv0Bbh4ztwh/2mbKGybVYUCjbINQAkQo5WfzXSmHqe+5RjSOeb3DHCsX/R/7kt8sU8cOfMB6Qn952l15GTLs9+ZbPvaSLtXSGRo+FPHHUhN0lPmb+eBVO2I+OxSJp9FR7p4YcsY/yXOVToz/ywZ2nb0mGe47goa4ur+Bkk6UyTsg4EEVJYF1V5Oezxmma2Gbtw5Vfw2jzdaFgxYU1uyFFwo5lMK4H1nW8xZmHlEYTuYUr4cpEIheYYZdnsMGhhSqmzjSHsS1ijFTsZZvKFUA==e1az1rdSyiX56iVaQHvUebBBEEoPQCzwen88Xkji3Nc+3HqZ9bagjHS2PFsM+Q/zttUsC+L6tC4JGiISV0oOTuK/4t1LWiA4jLVUhHKUkMT/sXhtX2+fH9vV+FK7AoK5iIxSs9PF1kmctcIdVhbstz+MmIY4o3GhZcq/GVaJoD2x9shlW7rkoyRLzLAet0l603K/B3+RXoXIkMDTO1IBcZECZ2/RZ+4LEdsEx0LPTUXqlgdpmyJtadQM2bWw5axNtTvjQ/HjxinF7s/pISHBYR+e3bHVMZGkf0sFqQK8CN9neC9CX9RSgdh1zoACtLgJEWMD3f1E9C26ZpIwKj+ygw==Tox+v671QdfZqHni5BtpqOGtXQNWF08qLLzEeh07THTEI+U0nCaXiak6etS8jjy+RNdIqJ4a7cqbACYBI+vHeqlL63RkPhOEZ1nFDE9Goly0fFqlot6KqgCBzwgttuEweIgQJyh0khZGGlu7T0NBR+3gNa+KTzcj/F7gsLxWAVR6Ipvrmf+PZqItXjt6yY8jnt51Qp50J+T+tJArLkcx2VxYD1EeFRPz7e/p+tgBvv0S6xuazMgMtBYUeFqO9Ho1ZY5rh6eoP0PvhTHiZvh8AgsM+BcbiyKWL53rlAkF0y6cur44j9ey6scWZmOGUmEmF4Io+CA0uy9FNHH+Bn6cog==kGuvuHVbuUMNVuqR7zyP5NJuxbCeIxqIUyAClR65gKG2qg29hdwHvMjvugsxj74LEQdicJDkXbkQwweFtKk+d32eFJREUlBlsd/oyZkRZfl2QyAUzmx4HDERMLf7qvc7nS8NIIfAElrtI0JDAl1/Ox4KBGhuxG0S9ifRfhuNcfsLmyGriJYttB8AZn5Jx7XMwBVPZAScpatlFDHE/S8u3168NO3eJVkPHmr1BKyVo0tyFlaBgVY+554aVxb/3IrbgNRTa4Y7mrJfJoGEH5BKI+c9z7GQmvdBIL39/+Q2EAw3t7CaJhD+/W+J3iQa6yq/gPrYoduGlxM2i+FTzqw1Ww==dnBK8C82QFu7hLnbC2ZQmPmIbMXuBCuOfDXvXCBFHWjlRaYGwX5RAWOScpWt6WOzPG3JBmFHnFBCGKAHoUc+tySilaCEBwY3N/Y5Buqw7eWKMG6hqBmtN604oV6ALG2YDMiWgHkiqF8A1KC3lI6vYJMTqPHtzildSO6sa+WKwV4AoM8HyqGoeFEWDYVBhFXWZjn12/9D7/yCRzkdsWBxyjKjxWJmVIPsELInMX9ZXTQKloMCHlZhAyvNJNLAFX1jgXVlmPd6/kcrGiQYaioWLEVpBmZqCRiN+q01WAG6zuaBPfzv9AHzxj2HSvFSnZ+lWdNN+3nTrRyQ289qW6Zqlw==kGuvuHVbuUMNVuqR7zyP5NJuxbCeIxqIUyAClR65gKG2qg29hdwHvMjvugsxj74LEQdicJDkXbkQwweFtKk+d32eFJREUlBlsd/oyZkRZfl2QyAUzmx4HDERMLf7qvc7nS8NIIfAElrtI0JDAl1/Ox4KBGhuxG0S9ifRfhuNcfsLmyGriJYttB8AZn5Jx7XMwBVPZAScpatlFDHE/S8u3168NO3eJVkPHmr1BKyVo0tyFlaBgVY+554aVxb/3IrbgNRTa4Y7mrJfJoGEH5BKI+c9z7GQmvdBIL39/+Q2EAw3t7CaJhD+/W+J3iQa6yq/gPrYoduGlxM2i+FTzqw1Ww==WVF+dqwRK2e2O915c4SkSzKGJfonEup2v/dC1VuvCKIsUBYHFPK58e8/j30S5MW5pqCTslLRyvJq7Jj50wLoN4IdFxbSDlz0bBdGh0pAqj4SMwsoKrmAFPnRl10vm+2ZY4XQwXmfcw+e8xu6iNqtVQtQPbfIgQ/KImBhEHKpwsh07i6xym3rrvJj7WBVgJt8FZ+LihBNW1MeNh27aWGeHN4SIKo1xfqrSg1lOIQaF3MSYZ66ybaYTApM8IHW4dquyxw972jf+sI5Gu2kfQTkJ9TcIPNi5S6oHBW9gSuyxYcnvJv6nGmmDhq0rkCK6gjlZiM7rGikqEPT2JKLfbi9fQ==WVF+dqwRK2e2O915c4SkSzKGJfonEup2v/dC1VuvCKIsUBYHFPK58e8/j30S5MW5pqCTslLRyvJq7Jj50wLoN4IdFxbSDlz0bBdGh0pAqj4SMwsoKrmAFPnRl10vm+2ZY4XQwXmfcw+e8xu6iNqtVQtQPbfIgQ/KImBhEHKpwsh07i6xym3rrvJj7WBVgJt8FZ+LihBNW1MeNh27aWGeHN4SIKo1xfqrSg1lOIQaF3MSYZ66ybaYTApM8IHW4dquyxw972jf+sI5Gu2kfQTkJ9TcIPNi5S6oHBW9gSuyxYcnvJv6nGmmDhq0rkCK6gjlZiM7rGikqEPT2JKLfbi9fQ==cg68AmgCeHsrYU9kdiIkVdG3NlItkyVo4OK+qcYTYou4jWcUUCtcTBQNvqJ8utGqzP73FzU972uyUCvRhiCcnLiQ3NbOqr38mDJWcPQ91xi/LyCkOyxJghku0Wg/61iCSILKIY2FaFcWRHCODXv8OpkTMC8jjgPsUc7pij62wwiRx+MzywLNnLwHh5u2K0sXb4Ph+jC/EfyPog0Pmj77LYPIMvKIHJ6lEVz1SsV5H0z+krbbw1q/nqhAIW816V0seRs+EqFOKwF2yD64brgI1ZHIs5m4ALDiXH1Ub+a3ovnNpwlpTLy5HGK9/WqsUWkyuZ6mZZEaD/3m3t6j7W8bZA==Jzm92fdEl+/n4H1VDtFk8DduMa8PKLwzXLC0Yp8USzzz+H0+pzBD+J0VOOVrymk74R0sLZHFaFCi2QrePkijn7IvuFbRgBYLtxf2uA8aDkQ0ThBWdJXCEFRX27851Z8gfr5TdBAZwhdGIvSOmqhrWOjcZ0k9Ia8r5Y+TuN4e7e0p86KLNQlmeV6QZ0DS+/39sjJu1liWEZ269V3xB+Uvc6YGm1GvCxCwj+CCN1d+S7Yic2FM2U7IJHehl68PM9JT7Zg0lM3mHYJpSxHF8y2oQq1P3Zv2zAG6dB/K9Z/nGIM/GjvCngzhA6+1p/z6SyNkxcIVNdrdYl5XmGki0iAYHQ==bvWJ6dECx/JId3vUCAPo/2clwlbK/FpvR5UlDCBpJDgSIVmHwUpEvgRYQX/4uVM0etWtfK+X+XwpGBLZKp8eZXhQisogeGJ1vsW0auRzf+Icpwum2W3s4scA720cS21ACmbzc+vCKG28hi+8kXE3C7NBdfd4dayPtwcFpZIUPcvMtFRpHlNArI78vm3KsrVO7Bb5KOxbv02nbdrB9ZIxZfA0ezajnRe+D0HlfQFuR7aTUobkDYHytIo9nUpxLlqVzvHZ7/WKEDWdqIwar/t9+KIgntZMoVOeDOvjSQclRa5cLH6fnwqNP+AjF5wpqpd4+LJwBuDF+3wsT9oCM42GFg=='"
      ]
     },
     "execution_count": 17,
     "metadata": {},
     "output_type": "execute_result"
    }
   ],
   "source": [
    "b''.join(key)"
   ]
  },
  {
   "cell_type": "markdown",
   "id": "eaf2b5f0",
   "metadata": {},
   "source": [
    "## 解密AES金鑰"
   ]
  },
  {
   "cell_type": "code",
   "execution_count": 18,
   "id": "b32d4a74",
   "metadata": {},
   "outputs": [],
   "source": [
    "s = bytes()\n",
    "for _ in d_rsa.decrypt(key):\n",
    "    s += _"
   ]
  },
  {
   "cell_type": "code",
   "execution_count": 19,
   "id": "95464194",
   "metadata": {},
   "outputs": [
    {
     "name": "stdout",
     "output_type": "stream",
     "text": [
      "Decrypted secret key: \u001b[33mb'\\x1b\\x90g\\xdc\\\\\\x9c`sa\\xbcz\\x1a\\x13\\xcb\\xef\\xc9h\\x9f~C\\xa58\\x0e\\xcb\\x8a&\\x8a,,T\\x1e1'\u001b[0m\n",
      " Original secret key: \u001b[33mb'\\x1b\\x90g\\xdc\\\\\\x9c`sa\\xbcz\\x1a\\x13\\xcb\\xef\\xc9h\\x9f~C\\xa58\\x0e\\xcb\\x8a&\\x8a,,T\\x1e1'\u001b[0m\n",
      "\n",
      "Equal? True\n"
     ]
    }
   ],
   "source": [
    "print(f'{\"Decrypted secret key:\":>12} \\033[33m{s}\\033[0m\\n{\"Original secret key:\":>{len(\"Decrypted secret key:\")}} \\033[33m{aes_key}\\033[0m\\n\\nEqual? {s == aes_key}')"
   ]
  },
  {
   "cell_type": "markdown",
   "id": "073d8c10",
   "metadata": {},
   "source": [
    "## 使用解密之AES金鑰解密秘文"
   ]
  },
  {
   "cell_type": "code",
   "execution_count": 20,
   "id": "004c76dc",
   "metadata": {},
   "outputs": [
    {
     "data": {
      "text/plain": [
       "\"All I ask is if this is my last night with you, hold me like I'm more than just a friend. Give me a memory I can use.\""
      ]
     },
     "execution_count": 20,
     "metadata": {},
     "output_type": "execute_result"
    }
   ],
   "source": [
    "decryptor = AES.new(s, AES.MODE_CBC, IV)\n",
    "\n",
    "decryptor.decrypt(cipher).decode('utf8').replace('\\x00', '')"
   ]
  },
  {
   "cell_type": "markdown",
   "id": "3505eb08",
   "metadata": {},
   "source": [
    "---"
   ]
  },
  {
   "cell_type": "markdown",
   "id": "26d5471c",
   "metadata": {},
   "source": [
    "# 長文章數位信封"
   ]
  },
  {
   "cell_type": "code",
   "execution_count": 21,
   "id": "7a1c0010",
   "metadata": {},
   "outputs": [
    {
     "name": "stdout",
     "output_type": "stream",
     "text": [
      "蘋果爆料達人 Jon Prosser 在最近獨家洩密新一代M2款 MacBook Air 將採用「彩色」外觀設計，與蘋果春季發表會推出的 24吋 iMac 顏色相同，規格與外觀也會迎來4大方面改進。\n",
      " \n",
      "Jon Prosser 過去就曾準確爆料 iMac 2021年款會加入多種新顏色，這次又從可靠來源得知，下一代 M2 款 MacBook Air 外觀預計也會加入多款顏色，顏色與 M1 款 iMac 完全相同，共會有7種配色，分別是藍色、 綠色、 粉紅色、 銀色、 黃色、 橙色、 紫色。\n",
      "且 Jon Prosser 也從蘋果內部知情人士得知，當前 Apple 內部已經有藍色 MacBook Air 原型機。\n",
      "至於 2021 MacBook Air 新配色會如同底下這幾張模擬圖，主要是採用淡色系，另還會加入 MagSafe 磁吸充電。\n",
      " \n",
      "至於 Apple 打算替 iMac 和 MacBook Air 加入多款彩色選擇，最主要是替產品等級區隔，對於一般消費者而言，追求的並非是效能，而是外觀和便利性，推出多顏色更能提升用戶接受度，對於需要高效能專業級別的用戶，硬體規格需求明顯大於顏色，也是會有黑色或灰色 Pro 級別款式可供選擇。\n",
      "從去年 10月蘋果發表會，蘋果推出首款多顏色 iPad Air 後，明確顯示要讓產品走向繽紛色，同時要以顏色來區隔等級。\n",
      "如同 M1款 iMac 和 iPhone 普通與專業款差異，對於一般型消費市場，則是以多顏色來搶攻普通用戶目光和荷包，同時也有專業 Pro 級別款式，則是以原色或深色款來突顯產品的強勁性能與規格。\n",
      "過去彭博社（Bloomberg）記者 Mark Gurman 也曾爆料，蘋果已經準備研發新一代更輕薄的 MacBook Air ，預計會在 2021 下半年推出，連同蘋果分析師郭明錤也曾指出，會有一款低階 MacBook 會搭載 mini-LED 螢幕。\n",
      "如從目前多方消息來看，新款 MacBook Air 2021 預計採用多顏色、M2處理器、MagSafe 磁吸充電和厚度將變更薄為主要特色，至於 mini-LED 螢幕預計會是給 MacBook Pro 系列才會搭載。\n",
      "更新：MacBook Air 2021機身曝光，搶先看6大外觀改進和發表時間\n"
     ]
    }
   ],
   "source": [
    "import requests as rq\n",
    "from bs4 import BeautifulSoup as bs\n",
    "\n",
    "\n",
    "res = rq.get('https://mrmad.com.tw/apple-redesign-macbook-air-2021-new-color')\n",
    "soup = bs(res.text, 'lxml')\n",
    "\n",
    "paragraph = []\n",
    "for p in soup.find_all('p')[: -3]:\n",
    "    p = p.text\n",
    "    if p != '':\n",
    "        paragraph.append(p)\n",
    "        \n",
    "paragraph = '\\n'.join(paragraph)\n",
    "print(paragraph)"
   ]
  },
  {
   "cell_type": "code",
   "execution_count": 22,
   "id": "abb52461",
   "metadata": {},
   "outputs": [],
   "source": [
    "from Crypto.Cipher import AES\n",
    "\n",
    "class DigitalEnvelope():\n",
    "    def __init__(self, key_bytes: int = 32, IV: bool = True):\n",
    "        self.aes_key = self.__generate_aes_key(key_bytes)\n",
    "        self.IV = self.__generate_aes_key(16) if IV else None\n",
    "        print(f'{\"AES secret key:\":>12} \\033[33m{self.aes_key}\\033[0m\\n{\"IV:\":>{len(\"AES secret key:\")}} \\033[33m{self.IV}\\033[0m')\n",
    "    \n",
    "    def __generate_aes_key(self, key_bytes: int) -> bytes:\n",
    "        key = b''.join([(random.randint(0, 0xFF).to_bytes(1, 'little')) for _ in range(key_bytes)])\n",
    "        return key\n",
    "    \n",
    "    def __padding(self, text):\n",
    "        if type(text) is str:\n",
    "            text = text.encode('utf8')\n",
    "        elif type(text) is bytes:\n",
    "            pass\n",
    "        else:\n",
    "            raise TypeError('請輸入字串或位元組資料')\n",
    "        if len(text) % 16 != 0:\n",
    "            text += ('\\0'.encode('utf8') * (16 - (len(text) % 16)))\n",
    "\n",
    "        return text\n",
    "    \n",
    "    def encrypt(self, plain_text, secret_key, IV, mode = AES.MODE_CBC):\n",
    "        plain_text = self.__padding(plain_text)\n",
    "        cipher_aes = AES.new(secret_key, mode, IV)\n",
    "        try:\n",
    "            cipher = cipher_aes.encrypt(plain_text)\n",
    "        except TypeError:\n",
    "            cipher = cipher_aes.encrypt(plain_text.encode('utf8'))\n",
    "        except AttributeError:\n",
    "            cipher = cipher_aes.encrypt(plain_text)\n",
    "        return cipher.decode('ISO-8859-1')\n",
    "\n",
    "    def decrypt(self, cipher_text, secret_key, IV, mode = AES.MODE_CBC):\n",
    "        decryptor = AES.new(secret_key, mode, IV)\n",
    "        return decryptor.decrypt(cipher_text.encode('ISO-8859-1'))\n",
    "            \n",
    "            \n",
    "class CipherKey(RSA):  \n",
    "    def encrypt(self, secret_key: bytes) -> tuple:\n",
    "        cipher_key = []\n",
    "        for B in secret_key:\n",
    "            cipher_key.append(base64.b64encode(self.exponentiation(B, self.e, self.n).to_bytes(self.bits//8, byteorder='little')))\n",
    "        return tuple(cipher_key)\n",
    "    \n",
    "    def decrypt(self, encrypted_secret_key: tuple):\n",
    "        decrypted_key = []\n",
    "        for B in encrypted_secret_key:\n",
    "            decrypted_key.append(self.exponentiation(int.from_bytes(base64.b64decode(B), 'little'), self.d, self.n).to_bytes(1, 'little'))\n",
    "        s = bytes()\n",
    "        for _ in decrypted_key:\n",
    "            s += _\n",
    "        return s"
   ]
  },
  {
   "cell_type": "code",
   "execution_count": 23,
   "id": "dc83c168",
   "metadata": {},
   "outputs": [
    {
     "name": "stdout",
     "output_type": "stream",
     "text": [
      "AES secret key: \u001b[33mb\"\\xba\\x18\\x91~\\x99\\x02\\x0eS+\\x84|\\xe1'\\xd9\\xdc\\xd5:\\x18:\\xef<\\xde\\xcem8\\xb6\\xaa~\\xa7\\x0b\\xa13\"\u001b[0m\n",
      "            IV: \u001b[33mb'\\x94\\xd4\\xd6~\\x94\\xb6Mq8\\xf0\\xbf\\xf4\\x9ce\\x17\\x96'\u001b[0m\n"
     ]
    }
   ],
   "source": [
    "plain_text = paragraph\n",
    "DE = DigitalEnvelope()\n",
    "aes_key = DE.aes_key\n",
    "IV = DE.IV"
   ]
  },
  {
   "cell_type": "code",
   "execution_count": 24,
   "id": "ee96d67f",
   "metadata": {
    "scrolled": true,
    "tags": []
   },
   "outputs": [
    {
     "data": {
      "text/plain": [
       "'¼CJÀï4r\\nÅ½ð\\x17ýe\\x8f@`a\\'Îiºº\\x11ØÐß\\x8e\\x0f7\\x9fkåþGä\\x9fÎ\\r\\x98a?\\x03è:¤L®u\\x858XN\\x8e\\x94\\x1d¦qdOS·\\x88ÿ\\x80~Û?\\x12\\x99óñ\\x9d\\x82Û\\x05M5Ì\\x19Æ\\x9cúç\\x8c\\x12îÂNßha*ê¥ÉOD\\x05±_½à\\x19§Ò\\x98$]²\\x1bqÂW,T¥\\x96[î\\x17(\\x90-Á>\\x07\\x16\\x8b\\x02\\x1bÖ\\x8dÍb4«ù.G»\\x88\\x14\\x0fÃÿ4º\\x91\\x97\\t6#Xð\\x1aïÂ\\x83{6<V\\x9f\\n\\x92ÒÐI\\x12¡Üm\\x1eÅeE\\x84÷áuà¶\\x81\\x0e\\x06t¤ágïQ¨\\x87\\x0b\\x80;L\\x89\\x16\\x9dÅÄå£\\x13\\x9fc¤\\x85mÆSÔ)\\x0e\\x1dóÊ_§ôCO\\x05êÂÜpLÓ~¨\\x0f.4\\x1aäÓ´´a\\x9a\\x92é·8×\\x0c+\\x17!4¤!8²ñûK\\x89KN5|ï\\x8a\\x8déíú°S\\x12öyR¯\\x88ó0÷%®9K\\x02U¿6Ðª\\x7fåó;Lq¶ð\\x03dû\\x05ðJ¢=\\x95\\x99&_¯ßâj{ù\\x80¼iã´8®\\x97%TJ\\x92CÕ\\x96Ä_æ\\x0cSÝpS´å¸Á\\x1dKn\\x1a\\x8a\\x12ÓSD\\x8a\\x1dÂ\\x0bi^;o\\x97TÑ\\x10¯\\rýâç)ÍÀ\\x9dê^\\x7f\\x14A\\x99~%G\\xadÈ\\xa0î¹ø¢\\x93nfú¹k° BÂ\\x86Î\\x1bM¾[t\\x944yM\\x9f¯L\\x7f\\x86\\x90Ea{C)ÜÒ\\x98zù)\\x17öô\\x18¿äiHØý\\x11\\x0c¿á9\\x06ÿ{Ñ\\x92CÔÀO3£ûdVPà&|\\x18:Ó\\x10c\\x07%$Ú^]¥¨iõ\\x1e\\x89vå!/>`¹²o\\x9bùÒ¥5{+\\x9bzÈ\\x03WÌTWóú¼ÑìjN\\x8c·IoCC\\x14§zj+ë×(\\x03)µ\\x1ca\\x19íúÔ¿A\\x11v\\x04¬¦i8:Ëd\\x84pxR29,-ò¤ßa²lïºà\\x07½1=9\\x9e\\röj~sÊl}µ\\x94 T\\x8dOìÆ_\\x14§\\x12>\\x8b\\x15pþ)ÂAhñb{\\x14\\x96nµí\\x89\\x1c\\xaduûWx\\x12ä×Ø½\\x04PR\\x90Û\\x9b±Í8m\\x93¶\\ráxø1&Jìë_\\x99[åìê®p(\\x1d\\x14À+\\x1bFeW\\x08\\x17BÛæsË\\x86\\x0c\\x185â*V.úÚC\\xa0\\x87#Î¤b\\x12I\\x14\\n\\x1f\\x08u\\x85\\x8dV\\x01ÐiF\\x89\\x90\\x82XÁ\\x8f\\x9b¢¬c\\x9f\\\\jU\\x94æ¦\\x1dÞI)6ïó\\x02½ÖµÓÂ\\x9dàÚ\\x82ý±\\nÊ\\nJ±\\x03\\x91¿Ö%O³,±\\x0bmÃIAÂ:Ã\\x17\\x14Ç^\\x90\\x8d\\x9dµ\\x9b\\x1d´±\\x94\\x9bpæ×Ñ\\x15yÃ\\x95U*\\x96m\\x93\\x82\\x0e\\x89©fAUqS\\tÌéÀ+\\x17\\x08Ö\\x10õ\\x8fýð²û;aÆA¶±KÄâ½]\\x1eØ¦O\\x03y\\nÄOL\"#pOÿ]èË\\rõ\\x0b§w\\x83âî\\x93\\x85=5\\x94|#z\\x1féæÔ\\x9f¶{«ªD<]\\x07]e´¸§:l\\x1b>i`\\x06ÕxÜ\\x0c´$\\x01(oá\\x03\\x8fd\\x85E\\x11Ô7§}æ|\\x9ew!Ô\\x8f\\x03\\x1b3\\x15µÖ½\\x8cYöw>8åÞÇ]Xp¶³À¢\\x82\\x0eçê:#®T±\\x8cÇZ\\x94Ì»h\\x1cÃ\\x13Ïi\\x85B\\x1bQµ\\rq\\x1b©Q-$Ó\\x7f\\tp\\x16lGâï0\\x8a\\x8e,\\x97`-ÁûÙ\\x92·Ãö\\x85©z\\x0e¥òÑ#\\x81\\n\\x14)c4\\x93ý\\x1bÅW\\x85åþZ\\x91ð²|u3\\x15°S¶ÐÛ\\x0biõ-\\x86±ÿ[\\x05~^).r¾´%S\\x0bõÝæ]¯Jk\\\\(\\x8bf.=Î\\x8e\\x93KÁ8\\n\\x1b.ò+K!\\x1d\\xad\\x9a\\x19Û\\x05\\x91¬\\x8a3¨\\x87\\x15æ\\x1d\\x90\\x92P£\\x89uÃ¯c\\tFÿùÔècáó`·\\x14Ï&W\\t\\x9cØS5£c»\\xadå\\x8eáÏ\\x87Y\\x00Ï\\x925\\x94Ëk\\x05»CB¿Kö\\x0b\\x92\\x0b¸Ò\\x19Î\\x93\\x0ey\\x17\\x19fly?\\x1en\\x88\\x82w\\x92·Àò\\x17d\\x12\\x8dë,;\\x1aÇ¾ÔÙÕæx%2É\\x1f$\\tR¨lº\\x16ñE¥]ÉòU\\r\\x10\\x93Û\\x16\\xadg\\x18Ön-\\tK¡ÜåM4\\'Ø²\\x89°/·_b\\x0eü\\n¥Â¿\\x9529\\x04\\x1aÐ´\\x90\\x03³X©\\x1b¬\\x80ðñí©Æ6\\x16é~n¥+L¶\\n=JP\\x0fe\\x8f®wÓ[^\\x94\\'Ø®%§¸¤¸Ðú\\x1e§\\x8e\\x8f×â\\x1ciüv[\\x8c(\\x06\\x88CdÅ\\x8c\\x01F¥\\x15\\\\ô[(\\x155¡\\x8fVô\\x0e\\x07\\x06\\x07â\\x05\\x1e\\x95{D\\x9c\\\\Z\\x9e\\x1a\\x94\\x81sx$¢\\x17\\x12J\\x11xC¿Ö\\x17_/«\\x817ÊÌ÷Z\\x16Ó¼tR%I\\x03ÔI·V\\x023p\\x8b±[QÁ/RGG\\x92°B#n\\x06\\x9b\\x87¿¼P\\x89,`Ù×w· \\x96D\\x0c(i¬\\xa0MÞ\\x12Wíh\\x11#_KV\\x83Îáº7æç[+Ê\\x9d\\x90Òó5R×Ú\\x8f>õêo\\x99ô!±ÜÛ.\\x13çNÒ\\x80\\xad23jË°Lø\\x86«\\x8e.2Òj\\x97¢fÐ\\x85\\x028dBÚ\\x1f7K \\x19¿·\\x8e+²Ph\\x9f^?þMê\\x16¸YN\\x803Ò\\xa0Ñ>\\x80vù¤%Ø\\tÉÀÎ±:amyä\\x03\\x86,G\\x95[í\\tÐ\\x1f\\x83JäceG\\x91\\x11¥\\x14\\x98Åµ#cÚñw«\\x12¼{\\x88d×x,\\x01H\\x03ÿ\\x15\\x90Z\\rM\\x8eûç»\\x05\\x92y¶Òe~~#\\x18üxÌ%ë\\x02Ue\\x85P>¡V\\x97\\x04R»«ýtå8D\\x0e<À\\x11Ù¯\\x16;\\x853íþ\\x85\\nK\\x89\\x04Bí3³nt\\x18\\x1f5\\x80áP\\x1bêoÙ\\x7f>O\\x87\\x1fd©Ê\\x92*H\\x86\\x97ÂiyYÈþ(\\x19ÅÍ°EM\\x8ds\\x92ÈÏ\\x0cÉË@Ê\\x8aáy\\x91%i¯1\\x84\\x0e.ã¥\\x8b4hÿ:}Ì½ÎÊ±ª\\x03\\x91\\x11øíºµ\\x7fF×\\x1e\\x01\\x07ýì\\x8b\\x86.:óûÅ\\x99\\x16b6)Á3\\x02\\x17\\\\h\\x8fïsÕÔ¯Fc¾Æi±qËåè ç\\x01>¶A«Qì%GáÎ¹±A1(ñ\\'\\x05\\x9fxÛÔOÄzy3>zì\\'\\x87çÛPéi7\\x14©\\x90\\x83@\\x14\\x1b\\x990§ 9\\nR\\x17i\\rÙ\\x03\\x18ý\\x8b\\x14âÅ_ð«\\x83+\\x05Aø×\\x87Õ\\tå¶Á\\x18\\x9bÝHvê\\x0b¢&þ*ÍÎâ\\x0c\\x97\\x883Q×s\\x96lÓ¨ö\\x9b\\x93]\\x15©Ëï`h\\x1c¢s\\x15§¿N«©\\x88\\x08¸ÿ®²s1q\\x1bk\\x8f¤-ÜWø»c6\\x02}\\x84üìÎ\\x16_Ñô\\x8c*AÎvy¬@\\x17HÂÓIP$µ.aÙ\\x1ax|®éýÕ±;X\\x88u\\\\\\x1av\\x97\\x99Ùa`Sà4\\nc\\x0fª\\x0bôPd®¢\\x88¡J»nVÖÔìë\\x00h6»Nq\\x00\\x87\\x05V\\x19\\x04\\x02;\\x81[_Ïù\\x82ÒÔ:Ü[«á¹r\\x0eà:´\\x96\\x82Ö\\x9bºà ·²\\x1fÇÏSªÙ\\x0bS\\x16lÙöFé\\x0eN\\x1e;ó\\x946H¡\\x02\\x1eÖ\\x16h\\x11#\\x88&¬\\x0f:LUS\\x8b0HóÊØv\\x957\\x89¹j30]_f\\xad>\\x17b®ô\\x03áØ%\\x1fù¶>5JáIºç+4³dó6Ý\\x08X\\x82w´2<Z²ÚøJkë.*éø\\x8bÚ>\\x14ÇoFM\\x89iÂ¶TtÛNu§à.®8\\x89Cü\\x0eÑ¾àÇ\\x11\\x86G\\x89\\x91Û×©\\rP?\\t$Tï\\x1ejZBf[3ò$RR\\xadL*\\x16PÞT~\\x12\\x91µµ\\x08'"
      ]
     },
     "execution_count": 24,
     "metadata": {},
     "output_type": "execute_result"
    }
   ],
   "source": [
    "cipher_text = DE.encrypt(plain_text, aes_key, IV)\n",
    "cipher_text"
   ]
  },
  {
   "cell_type": "code",
   "execution_count": 25,
   "id": "613b296d",
   "metadata": {
    "scrolled": true,
    "tags": []
   },
   "outputs": [
    {
     "data": {
      "text/plain": [
       "b'A+qdFv0qnXV/ng0TX7T427/ekYSF0+trqWq2FzxSIRha9FNkQ6HLAbQTAg466c7wK5V34ZRdGxZaMzyXlqnV8Le6AewcWVj1IgbXL3ovhRb+G/93btLEj0VaHmeeP6AY6G0/1zI6tO8tIgpi8UEKDMtpnxIztzaIkyZ+HIma0MXLCGQG3SYrldTefA4gFkR6TtYf30vjL2D9284r18iBzf87W8G0dkG4x7zvomfd2sAvEajvRhqjcyzbwEIosSREuU9tLt4uATqDyHMufOm0H39Pqng0vBnIL/u7V8FHAmTKq3K9jg38rDASYaBLY/mc9erxTgMUYnzLDJ3xEcDHSQ==vB6YFcyu1M3WZ27gSyG9/LzdOB4xhAA2lfuMaY9ZInrt0siq8nrvWeI2aWU0Movh3TRltSMOEjCjULvJX1LIT4j+fnu0ve7FlUU8dhK1FICb7v453FHylgDJ8yGJepRMQqbqQGEJcxfJZfsrpthtqUbr1nb/hO/pSCwtZTOe6dz4Wy2FwFfsUpMHCHAbGZOPm9qEYyjm5zLySSi0g7/6e5hr4tB7Dn0bpfiDM98EN/7EgvUP8CFrjcIjHAm0W94tvJJXlFsGQwLQamRfLdbcfinZn3F6GB/DDSQFtcDFKEe23Tvsi4dzUzsBhjLpnTdp39nAk2bA+h2TUFc1pb68Aw==SkgDy3ruiobRgsMqdfU4zlhn8+P7WLWWrfZDu3nj0bx8KP9IrHhtQ7CgKrub4uqA3I1PcbC22enEwkFl9BwMI+gWH+FOhG//SciscZk/V/HpZYjNR4a4JzTOU2Jrk9rJ4fCL1B5Ar0nZGS4b+kvVP6tFlYeHb+FG8Q+WG2XrwESp1PqaX/kzUFMaW42F3edm/bIJ84xTiz8zf4S4j/RMjc0pPuV15QR1CNdKZn5Tx8s7gD3qaSCmm/lwcSAtGfeLNI+letXkER8ariKomrnVa9NOROUvVinosqAjIIQ8btmH5ianFzoQYmnDOzlrpt2HdHaUP6t30/YC3AWNdkQoIg==bBg697ZCOo9vC9U6wgIWQ3LgHOvRz3lRvuYEdVWTshBYyYrtGzWOwvni9mNWYcgCX2UiAOYxjipF8Q7ZETekMkrPpDqeF1a4932w3pmg7qc0T5mzOw4NkkEoXkXJXF5kUiEOkcGwpq6XRF4cMSeZPn+5m5DYPy6zfVmnQ3wj5+qiYtOx8qLADWOOaP87kYAmCwI+tz5VPXlkWjmlXWgbxaN60VGn3AhMdFtbvxbd20KDG6Wy0xIYlQ95Ebq7DJE/p8VMGHRecluGSGuby2VFjmBT8cjRmlBdClN3TWvbT6DokMZ/GyuoeXy9qjVuLMOtqDqG1qZ32L07G4sOj8zvFw==G/EWl9t0npO/YlxZG3UlLdDeuU+HJbF+pV7uNOCmjve2y+kkaz0RKsPR2rm9EYyMWsafMR+PscRRON7LwDPBKTozDM/Wjbx+0RsLbD6XG+DwO62Ekp7ZKFe1IVljoJejU9zKF3RCohNZ1iEyKif8dGlVNO0jSpMiZbNawp65/7uq9o8qrThLE+bjrwEVFbJZmvx41+uRmwEs25G+pLIZqeNLvi6+hWDQzG11R+pQqpevaIFUBw+Wk/SzzIn92FZkCe3BoQ9LI0aOJmutFHIrBwkQy+vFzeM7XDG89Xb07vDi0LeWZqb9EMk+kvtuD4AjOaJ+27DqyFiRCEm629BLRw==TdLsyWqiRDR7+MWeKrrBVbTE9s2Q0UFjGzbNkK6JoHf5o+5fL201kjU+yqLBAuSzcI1FWIk1QZfRObirj8cpZeYoenZmjb6oDhP14ih6Ak21NOVP4rtaRyI585h2Z+X+Zrx469Z5bCElTcStLgL2RmCSeVEmN0r1CRkeGPMd8/MQAFw5n/DiRPZNgQanTgSOvz9CZ3jjQJ1TeR3XJnSi6j3TfAvDPx2IGlXBLIPYuwb4vbRwLuWroBS2VDfDSf2esBWzarMKsAoKKha5CO+lCzxZdASbbs+rI/UtDsFqt502gidlAJWRsi1O/ADYFpQ1boZf4NjyAs0tFgTfGsaICg==NEQ8/8tO9p84/DkO75gHotS2VMVJBFkBg71p4vp2sA3rCb4ptdgopxsijzwnBBb7uBzOUNEppypdawFmN9bcEjJGHKJDqiARwVj7FX80EYexpRXd7uGXXQv6Jul8dZsKQnGFEg7kKD6sulHnPR9OKaVWZADbBD+EApJymiUP9YFwtl/H40TfD+KpNcGaNgsuPYFNTSeFIg4sDICkGGzDSOdbWGTBT5/6D14jgwXsMSRCG1LwY/AVYKBD/Yu7cDdqJw7/YFambG0IVsd0vMRExhRnqSKwbR/Imbze9hxTgy0K+oGeX+HaMCOSmFCfqm4VxNRaTcAhnZ2xgIg6ScWfBg==LwTYLgJjIQu5RQiWJshg2cESxqC1Ici+N5HDuUCq/40ceA7fHz/nWBy97VhJE4SDQQRqc/NzGraZLXaUK/fpxXpC/BYdJa7EWZSJ6S2UwOaGkF+4ZAfH5qRCFfgYvOtoCJlM5BFVLzpDemm8UoVwWkfmOWAZU7lTTctaHhwx6m2zyuOh620cq83jPwuGGy58QmdsQSUbanlzzOgXFljQYJ6iNzYDywN91j4wKgYjkpD3kiRAj0NJ69WKlrmKhNvyGRlq4f+1G173ZYB8D302F0lqwGtyMevsAZeMZyO4Hs/iZVDQ+VoozT5YutwT4qoL7gIxbsWpCmHUOoNc2lIlCg==t+XtssA97pdJdRz1f4wmKWbPXms28yARUztXSstuM1YcudgFAAcURfZ3fZibVwNGplJPMbRZn4b3RvYD+KDz6I9iUPjSpeoZKU1PpVXLycvQ7+waf8NOFRp9+mxcJ0dx9oVm9ZvlDL58h13kevBSQZF1f2YBRvFYSy6un5mYdShMoYfe4iGkZXepJu86Tzjv8rhbZxIGIeeRr4xsH7unyO5dpEWkzvRVSVLhpsnNochLNvawdKc1/3k5MtgRoEMuGHae1v0wvyec3+h4XwpqE0v3D+okZjMX4EM6zgbzUStmRKqa3wSxgXiaZMM8fnh+2/ymmdCRCufZV7Z2cQcABw==Fa5jTj4a+0KL/r9EW8F6uhXl8VMlRCJpv5H2neTEsFupi98ZukA1EtPoHwtgPrIBiZIq6K5p0/kDaD2mgWfMg10sA5530nT78oZkwD3j2VwRYoZVRVZ8p6pPEFB7n0voRvM2WH3jtpUWp4JZerfVwEmBZbNNCBExCrDTgTHAZsIAmFUbOqacF3QxzikgaGguPxMBfEsr+wklGougKjHe+VV0YyfQ1YWwPRhMuY/XH3hax2TfOrwFW3jpRJAZJcsmhTmVKlaqowIUxQm9qxirwOMnwqcG7/aAwHMfX0UEoTS4sbWV5hbsxYq3P/aRnT7JK7Do82pOQ0jIja4AJnUUAQ==WIQhDSUN2nY4yFKpg5AOkPZj6slJ2EJpyq7aH0IkFaphKe29lzlRAbBzB4WDI2JMbgEitD7PU+SNWWbrwOdfzuLvw24oJyQapH2VWFP41tW1VVpm63MyKqXz7dnFgVO+PzTkyLTVkuzXUvVU3Pc8Llo241hHPKwp+hZUEfK1dmooqVKsMPfp1Q7KxlcV4I6c3auBdI/++AMKgzcu+YWFnGtTV/tR9OKhOaxCBbW3uP1HLsXUmR6pqWPo6pyx/eWUC+A4Z3yfNzoZE0FwWVAYbu9kLp3+D4YHkt5sDUQamBsiv2J7w0wXaX8frMPbn5AfcNmStxrD3VwieHqPp4VlHg==f9SZmdhSLoB6U9O0hgr2uFXlP7o4LXm0AvpHCIVwR+2vvnzmDH6jkw1t+WZio81oAvEklfPyCxh3+ae+0Qvw6gOgluXz9Pa+hp9o+jbg7K4pAcQ1YleBZ2s+dz65NOcnyHurlu3IFsC6IaLtzA21Yn1GJXFzraWp1pDoKlpEAF2HrBVAfQH85M5McngsHos2JlgpqD3HNk5wprGGmGflaobiLEug00b2y1Eth8fGZJrnI5MhZkQ/o+MTJdYaxCwfk1SCpOnKpGjF7KGg5NeMyZ6ctZ1Eru02epTbpaa1umz5gWiRQpJhUyuwbT86NnPH3gcwSbNGohx4rtkSWPEbVg==6GhRGsFimJ47xLyluOTDmz5JwrDfwtWbN/JwQFsF/JICbHyoVBrGAIfURuQAEsSZ3LyKKVcx/+WiJBTfmHemo5BOkPeqmxNfd44zmECl1rROH/piabBqskBXXVEw4WDB0hQ0xt+NuefHYRToxXl3S+iTDjVz9qleE3Y0qUSXO8Nk2NJSOTjcAvgn3CiUSsl7H8vZEG9fvobg+IyV8o5N5Om9AQPpRcuwKF9lwNofwmATjkDctEZc6NSfdR10ciLQO94Bc1Os1dpcn9q+B9UFh1aE8PkYm2OIwS1aHI5SVhm5onI6B/GIzkQNRmdJQSjiVHpMN+8S7AsdFT+2QrSoTw==GS5g5mGkN7E7YzAwZn967Tn4R0luaL9xwLUhVjimGXtIMjdvowk1CTlzrAkopXYTtb8kt9yVPs9erccSIsQrB+o3l9zPZGDqplgUl8tF9IW5JQYCbYs+R8IlVZ/VsReFkgJnD1/3XGVRg8X6iV402ytU/fY6f3uGnNqv4K6KcTaxI2mBSdkRxv+KZf43Xb3dUdgbc6Ea+iJgbTLyWax57n5jSaXKjPXxlPK6D8PgSUsIsQKuih5H2G3OlJBe00wJzWDKz3VKmnRaN2BkeyujnKCmYbNCBl73OwuSDx9hWA9zuvgQ9svSBGsb5yboDYQMt98ekeJwwHJZsH+vEK8QKQ==BpJgmCsWcobSe6oFT07h5v9oR1ExqAoXwaxD613pvFix9nj2DoZMVFgwc5Wn4wkiT7f4nyJUdqa8M7BH35Gn3kCy+ErTU6KyYm0OyV89pEXYhfOh5AGL2iImXuJp/iMoHbKhqhTet+nOD4Z0JDBZYCDOYdMSdGy/8y5zyTbZA4rVgvFts1JxWDJzHKiscoHd3lounE4jJgsGmQd61aC1G5KwbBWwctGFQbUfxqWpu8aCPKZ5GFZseF1361WjeT4RfI0S37VDpR7wCQFLQAgpT0KA1nmNjGNmASSalXFlS+g+YtTr5LXkWBQSWHy5zQsC8Z2YQMKuiZ14JjFVmdT+JA==W73N1lccB0GwcdYctGgxLbfYISzp0qrXYgTasjzZS9GcKYk9OXDHp53FKfHgZ7VCrXhlDTklkVGMy/1fjFXZ8+qKKBpiSMqoi5laMkDgp1/XlUu/XV0UZtoeBWfwY5RXuync50XZ1KeM/lBCw3prZ5uv1SCNrv3tVypRIqlBkokx1cMoQwbqbtfw2+eiFN8yhAHGlPVIWQilzd/nJyNjGeNV9gHrJh68wZZb+K4po/1nouRUEMwA1f5PC3dRBK4eJeaPKCKkXnm+bKQGvu5LVcoiksBdYB/bEAI5ufX0QnBgfZZrpvqumpxEU2MtKgFVqwXMfpfFyiols38Ho7cdFg==fqDHO/reENXvWcPyXHdCUNkS06Ahx5S87MI2+l5omtkAp3MrJc0fRMo4xY+8SSfNIhULk3ouKAXjkotqD7f7bLQatasxOzI2HlwoWsC1JGvo70vWlxJUDAgSPOWwVC2dixoJr3uU1Q41pHG+ft57pl8pyC1xr93bOjOYfq1yJTeUT9gM4qrEKZxOhTwZKdIPscbvJk3KM9FHP2ushP1C+bXdYwsAoU4BQebR44MruM99X5DE+ze0cnJEM+myFPddZ2GC85jIi3gozUQMFhWIMB/Slr0x/+8P4s0++iHbHxY4Wkke7L28Ro9DV2w7CyFz2kbXTmizVr5S9hIXnYiaUg==vB6YFcyu1M3WZ27gSyG9/LzdOB4xhAA2lfuMaY9ZInrt0siq8nrvWeI2aWU0Movh3TRltSMOEjCjULvJX1LIT4j+fnu0ve7FlUU8dhK1FICb7v453FHylgDJ8yGJepRMQqbqQGEJcxfJZfsrpthtqUbr1nb/hO/pSCwtZTOe6dz4Wy2FwFfsUpMHCHAbGZOPm9qEYyjm5zLySSi0g7/6e5hr4tB7Dn0bpfiDM98EN/7EgvUP8CFrjcIjHAm0W94tvJJXlFsGQwLQamRfLdbcfinZn3F6GB/DDSQFtcDFKEe23Tvsi4dzUzsBhjLpnTdp39nAk2bA+h2TUFc1pb68Aw==fqDHO/reENXvWcPyXHdCUNkS06Ahx5S87MI2+l5omtkAp3MrJc0fRMo4xY+8SSfNIhULk3ouKAXjkotqD7f7bLQatasxOzI2HlwoWsC1JGvo70vWlxJUDAgSPOWwVC2dixoJr3uU1Q41pHG+ft57pl8pyC1xr93bOjOYfq1yJTeUT9gM4qrEKZxOhTwZKdIPscbvJk3KM9FHP2ushP1C+bXdYwsAoU4BQebR44MruM99X5DE+ze0cnJEM+myFPddZ2GC85jIi3gozUQMFhWIMB/Slr0x/+8P4s0++iHbHxY4Wkke7L28Ro9DV2w7CyFz2kbXTmizVr5S9hIXnYiaUg==ITJFv4HGTVejQFXKLxFmCQUaCmtlfuZPbyqOkCW5CFf0AtSkchxBufBiaUZ8J6rRBnuuGS7JIJK83rSOZ/YtSG9aY5Fev6IZ4RNi6wWW0gmnhpYM0bb7B4RqCyym/d9CbYSMXiUHDdTyF8Z3RLuzJ7cf6aybeH9OPHPGpR14btRI6IfGAnk1gAa2yTtSH7/BkDhA7duqo2MNLH1UXB2Wpmg3VT2uGC3CD4TmIzRLeqlOdUv8qWmmok4xEWEMQD/39ug8CltMj8+OH2rxiLlg++rK1qoa9yrlAzxhXtFldmx+YPOgkz8dAftm1dFQ2VNymEuO1xX98/bcxyns3vM1HA==bM0oXHsxEadnCb96eKO4lNz9PRTVSFviksip8DNEES+NViRfIBiSy0lx7mOdj1QP6jqN9+jaK0JEfjBhltW+O/4dL7GULaPk8ytB7RtI0Q7qDLstpviwcrvQN1+8W59t2/+/G2xafMoJ9GIuNYG9dTS1uwbe8p8GgEoXmZKA0XPHh8zdvUPFJFG/kvXQ2AbD1sjxHSF8YnaAIUtAyPtrFzOoA67CM2OY083XpBTK+q37QVxxLcHsioM8AxjSIgP67DFJHIRbX+PzH1mXkI+sPS0FaZgN6c2LNPMTD2SvUI0irLwc2iSTsto4GwnPsQ+0AA9luCl8FBbteUYvS5UTKw==aeHLWpygXdhcUMNJ2ABc2jqMJxy7xHy3VGJyjJBpbD3KxPpgRGEe1BBu6plgDeFAEBFyCBCfzxpmQ3rjWur49iiSRx1zs6jOYUqyGnTlIqjGRMeUlC7NU7ONeGcfvi/SbBV+aDYEYG2wDrSTKUcQ1MXKwZZoIBF54fDvVOrVR5ungJzTZvSHV1LA89cCWrWhWZ5nVEPSWa5dC3mMZ9Cz51MdIFPiPaOJW416o7nbOhTuFTJQiRteHB7E20MKl44bBUe0hWPQybQZIKZDNMXfeZ5hwXenZdq1iO8NhBYnWlXa6q936GeVgSr+WIws9d6ejcwQMF8tx1HXje8EXDHmVA==wbifSZvzSr7NZHTuiaKALTdTCQf8xMzr2UImPCFBA7fG8Wfs7I4yHrbpsQws/tHHleB0F1Rd5LObHT1DQ9/wGC8L7lAfgrleJpo41VmflYBKf1+Pa1ln5vELTBe7cVq79MqUsYObKSEGbfaHBirGXU4Skx2QVIq/q8qcdf1sqn38Omnw6WZ/hsEziihzweIItUFT3j7yWSlexhJb5h5K4S/ZENOxAYfzO+B3mHFoOUlqoyK1Xtykgs3NG5VnJY4bXFHvJ3r2vUyTzat2VZrheQC3xoHYIMPscBiMWrsX5uN4YVvPKt0f7cC8PJ5ibTi0927R76VMc5fAhP7kyvYEVA==mITBQw6Skowpoo5YDU1eyr3jUw8aqdGintIkoZsNyQa3NyEffb9WcgRvqyOTduzZQ85MWbS8RWAHcbdOi53+F7WyCRJ5qKCz6+bi6G5x7Ifc5oQZ35cG0W7/IEXdh3imHGublNkakg08BuBdrUiiWTbED3RjCndh1w0K9WrqRT1Az0j6jTyvOYWWWf4ON9nI1uVPzrVBfDT44xFTlecBZZvjnUYYbh4OQwSeeE1LgPvQOwGoJ2kBr4L1QZsTy96TXb2SATv00a9AnF92kPatHQwZznDg+WV4DlAV9oNzW5Fr+hkwZbxMgU57Py18cu9+5cOsyMQbQOKzu42o6i6MNw==ZaaMjztWq4+6b8p1+MqSpSwOkDcYu4IZIJZEWe3XjZSlA+MGH3+jRYZwlKRa6nQ4qEwtZ/xDO4QXpxXhSluaCa66d1RoeGRExl4RC5DdPKGWK2xhB8qdxyr7i7LaiyQlt0J8vGTvPfDq/zUWApVGlE9Giq6TE4tQGd13U02HfnLjgArZgjuzsK3wR8tdiSxio+kMdiSy2G6H9W42y1fDROzB7QmlewPGDXSamVP1oOkdFeRTae6iy+DD8wC1Ur/uNI/Ff6l9MViHzgrIek4W3InawZick5eaRy8O22GEnHyv9VAjEI1KLnnDE0952YzNjIJyA3q6CN51ze/1gdJALA==1yIJD9OUwJdBhZBHt0AM+/1PDBKu7iA6QSly6gmBsXH7K2y/OK9YVAgEwSeg0yoCLxXG9yLSoo8hHXXpXffRerb5ScBuV0Da3iXjYl7pXRqdY9XU+b/dLvl+UnMHXfW0JT+EV64ZJR4wzHOXGVPC+aB0jTPJgTql5INhfOWRSWRLJAHSjJCjd428wjXsaV4iSb8l7Rcsu8i2qpxViv5rKVjIxQ5+z5ic6GxM3X6nf1W2LQrLHzo04mq6o0CCscsS5mEllJA3C9cbIJ9eedQ0vWuJBHsIEaO2vWki2PEL9f31oTmpcKH/UQHlrpEtSW7a8AbLqvnp+2vaA9Co0GmQSw==4gAFLVgNcXgnc4h7qwKaDEnBKz8zhsqo/BP7L6iBgdtedG+jPI+vqqFeF3wjiI9WrhnXk2tDkhfb26N8K/164RlzafXxTevrl5nct5mC4yWNWlfro7tPk7gpTcPMQ8HpjfSO2o3MuEooRUbyFneV9Hnca0dgPgHfkR+HtEAPY1T3lr1Jwph1wCuYtCXtoTHgRm5U1ZEDcPIXKquxRExZE3uMzczWFdGYNK37hGQWXpjR1DQawR4hiQDQPeJRD7MZ2yj2tGAymkRqwdJ1c/BBJ80OIzlU4J4VDDRHpO+EON41MkXNH0vKS94vA/7BdSqSA2wWFi3EkGl1ZiJuDne5Kg==bBg697ZCOo9vC9U6wgIWQ3LgHOvRz3lRvuYEdVWTshBYyYrtGzWOwvni9mNWYcgCX2UiAOYxjipF8Q7ZETekMkrPpDqeF1a4932w3pmg7qc0T5mzOw4NkkEoXkXJXF5kUiEOkcGwpq6XRF4cMSeZPn+5m5DYPy6zfVmnQ3wj5+qiYtOx8qLADWOOaP87kYAmCwI+tz5VPXlkWjmlXWgbxaN60VGn3AhMdFtbvxbd20KDG6Wy0xIYlQ95Ebq7DJE/p8VMGHRecluGSGuby2VFjmBT8cjRmlBdClN3TWvbT6DokMZ/GyuoeXy9qjVuLMOtqDqG1qZ32L07G4sOj8zvFw==65vpimpEAI2PTL0DdRY3z9XmZNp5PFbYECrwleoEpk+2b61khobzB3lFQFb+ozQDJTjzhF17JfUGbkfl8wNnT16ToK+Yb3+BBu/yUtaaaKdpL/Pvms3weafs0Hatr5g+oGalJeWmnJZlY7I2AxVHq9Fo3zAIcVx5TEsi82tMUcOD4+z0mkC/laEnOjg6n7B/1oPjQcBD70A4ahbcbOXJ6s3XuQWCfIQY8Iv6M5Ll+jUoQ3u+GK/BhXxepazefSpw2jruYuiwlI2nAAfyjhttlyZLWrkRr+9wb+5Tf3Q3aDjEjG0dwyKV+e+1TyYjV2e7r9rxCWXH7NSGohhllQK7VQ==ZuzPYCAD4jzHbyo87mngQeZ5s/o9y7UQvdGqrqtREJquxRH6buPRpp7N5KWLouuwwsYvtNKsz0x5G/Fbud3Rg0StUSGR/BXTz/aCebOMG5muTzqmE0Txxm9anjSs25J/TxyHAWga8HfVxhPfRalAn1OSYbcTMYBKDJzJ1t+InNtLiuS/aOjf/20treAgABShL9lOgk5Z7sqQx3nQr/2snLHeZlEGgLpkUGm6eJPgywy3CiCpy0FkQEyPZuXsX9ANDoTYM/ZXBPQywEtEagYo0u4RvNXSdgKP4745RKBPSLMVVD+ulEz6sJXpIwcfeBRp/Ox5eL9QboukxNT7YCo/Nw==VNoaiX2Prd8JFXEBsCMqKeQbD8HyRzK3YV/ICaEllMLAoqykSjVAAV270ki+j3d2lhEChm96riOYafz+20PDn2LRaj/DZozZQrqeqpvetkkwciHZTqnPTJSDQ6GDS6eKI7xs3uhC8JlhZ1L7Z88iXZeyLhI5bhgM+XbgS82DERbautN4K+owj60smcBHlhcaF2qaCv62tMtmO6tKn+8JxShOshdICEHJ5ucB8/u+HMGbeZHOvnSnm3a+i9x8s4tpFG/yreGXszj3tFrZ2W0dcUiJGEMcb0nDoW7/APc/UEnh/nEUm+ZtA7d5uFsuRlvjQrfAhQIg8vU3yoXuuVY+CQ==iWcpU3MRZ1JrIAHH9wmAaWjbFzg4hCXRQ1sMdKF9d+cMk+pksgULh2SZ638Paqz+tjbtGpJraRLY4nMDWYWnTc5LJpjDPHYiH955QmvilSnGMt3fZ0ChRSyxpEI0WI04hYb7AZnb1xQ9fQDhlUlE14ET0UkQZ8/BykeDH0q0mWxHooux54fpGlSvH2Mj5/IzSwARXyCdBwoChQ2kp8766fZAsqn2mdQvuGjity/lPGFUCSrfAn+Zn4b0vVffiKk+AvxzhtWuERt60wfN2htZNWfDDkU9hXbThKb5us9qeBiDweUIa221cMEalVs2NfvoQWaqsl9cZkc0G/BmpiF6GQ=='"
      ]
     },
     "execution_count": 25,
     "metadata": {},
     "output_type": "execute_result"
    }
   ],
   "source": [
    "d_rsa = CipherKey(2048)\n",
    "encrypted_aes_key = d_rsa.encrypt(aes_key)\n",
    "b''.join(encrypted_aes_key)"
   ]
  },
  {
   "cell_type": "code",
   "execution_count": 26,
   "id": "13751eee",
   "metadata": {},
   "outputs": [
    {
     "data": {
      "text/plain": [
       "b\"\\xba\\x18\\x91~\\x99\\x02\\x0eS+\\x84|\\xe1'\\xd9\\xdc\\xd5:\\x18:\\xef<\\xde\\xcem8\\xb6\\xaa~\\xa7\\x0b\\xa13\""
      ]
     },
     "execution_count": 26,
     "metadata": {},
     "output_type": "execute_result"
    }
   ],
   "source": [
    "decrypted_aes_key = d_rsa.decrypt(encrypted_aes_key)\n",
    "decrypted_aes_key"
   ]
  },
  {
   "cell_type": "code",
   "execution_count": 27,
   "id": "2f55c787",
   "metadata": {},
   "outputs": [
    {
     "name": "stdout",
     "output_type": "stream",
     "text": [
      "蘋果爆料達人 Jon Prosser 在最近獨家洩密新一代M2款 MacBook Air 將採用「彩色」外觀設計，與蘋果春季發表會推出的 24吋 iMac 顏色相同，規格與外觀也會迎來4大方面改進。\n",
      " \n",
      "Jon Prosser 過去就曾準確爆料 iMac 2021年款會加入多種新顏色，這次又從可靠來源得知，下一代 M2 款 MacBook Air 外觀預計也會加入多款顏色，顏色與 M1 款 iMac 完全相同，共會有7種配色，分別是藍色、 綠色、 粉紅色、 銀色、 黃色、 橙色、 紫色。\n",
      "且 Jon Prosser 也從蘋果內部知情人士得知，當前 Apple 內部已經有藍色 MacBook Air 原型機。\n",
      "至於 2021 MacBook Air 新配色會如同底下這幾張模擬圖，主要是採用淡色系，另還會加入 MagSafe 磁吸充電。\n",
      " \n",
      "至於 Apple 打算替 iMac 和 MacBook Air 加入多款彩色選擇，最主要是替產品等級區隔，對於一般消費者而言，追求的並非是效能，而是外觀和便利性，推出多顏色更能提升用戶接受度，對於需要高效能專業級別的用戶，硬體規格需求明顯大於顏色，也是會有黑色或灰色 Pro 級別款式可供選擇。\n",
      "從去年 10月蘋果發表會，蘋果推出首款多顏色 iPad Air 後，明確顯示要讓產品走向繽紛色，同時要以顏色來區隔等級。\n",
      "如同 M1款 iMac 和 iPhone 普通與專業款差異，對於一般型消費市場，則是以多顏色來搶攻普通用戶目光和荷包，同時也有專業 Pro 級別款式，則是以原色或深色款來突顯產品的強勁性能與規格。\n",
      "過去彭博社（Bloomberg）記者 Mark Gurman 也曾爆料，蘋果已經準備研發新一代更輕薄的 MacBook Air ，預計會在 2021 下半年推出，連同蘋果分析師郭明錤也曾指出，會有一款低階 MacBook 會搭載 mini-LED 螢幕。\n",
      "如從目前多方消息來看，新款 MacBook Air 2021 預計採用多顏色、M2處理器、MagSafe 磁吸充電和厚度將變更薄為主要特色，至於 mini-LED 螢幕預計會是給 MacBook Pro 系列才會搭載。\n",
      "更新：MacBook Air 2021機身曝光，搶先看6大外觀改進和發表時間\n"
     ]
    }
   ],
   "source": [
    "print(DE.decrypt(cipher_text, decrypted_aes_key, IV).decode('utf8').rstrip('\\x00'))"
   ]
  },
  {
   "cell_type": "code",
   "execution_count": null,
   "id": "af0ca38f",
   "metadata": {},
   "outputs": [],
   "source": []
  }
 ],
 "metadata": {
  "kernelspec": {
   "display_name": "Python 3",
   "language": "python",
   "name": "python3"
  },
  "language_info": {
   "codemirror_mode": {
    "name": "ipython",
    "version": 3
   },
   "file_extension": ".py",
   "mimetype": "text/x-python",
   "name": "python",
   "nbconvert_exporter": "python",
   "pygments_lexer": "ipython3",
   "version": "3.8.8"
  }
 },
 "nbformat": 4,
 "nbformat_minor": 5
}
