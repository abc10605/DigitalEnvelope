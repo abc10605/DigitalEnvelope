{
 "cells": [
  {
   "cell_type": "markdown",
   "id": "3f2460b2",
   "metadata": {},
   "source": [
    "# RSA演算法"
   ]
  },
  {
   "cell_type": "markdown",
   "id": "f643aa5e",
   "metadata": {},
   "source": [
    "[米勒-拉賓質數判定法](https://zh.wikipedia.org/wiki/%E7%B1%B3%E5%8B%92-%E6%8B%89%E5%AE%BE%E6%A3%80%E9%AA%8C)"
   ]
  },
  {
   "cell_type": "code",
   "execution_count": 1,
   "id": "c33622b4",
   "metadata": {},
   "outputs": [],
   "source": [
    "import base64\n",
    "import random\n",
    "\n",
    "\n",
    "class RSA():\n",
    "    def __init__(self, bits: int, e: int = 65537):\n",
    "        self.e = e\n",
    "        self.bits = bits\n",
    "        self.__rsa(bits, e)\n",
    "        \n",
    "    def __rsa(self, bits, e):\n",
    "        for _ in range(2):\n",
    "            while True:\n",
    "                prime_bits = '1' + ''.join([random.choice(['0', '1']) for __ in range(bits//2-2)]) + '1'\n",
    "                prime = int(prime_bits, 2)\n",
    "                if self.__miller_rabin(prime, 3):\n",
    "                    if _ == 0:\n",
    "                        self.p = prime\n",
    "                    else:\n",
    "                        self.q = prime\n",
    "                    break\n",
    "                else:\n",
    "                    continue\n",
    "        self.n = self.p * self.q\n",
    "        phi_n = (self.p - 1) * (self.q - 1)\n",
    "        self.d = self.__euclid(self.e, phi_n)\n",
    "\n",
    "    def __miller_rabin(self, n, k):\n",
    "        if n == 2 or n == 3:\n",
    "            return True\n",
    "\n",
    "        if n % 2 == 0:\n",
    "            return False\n",
    "\n",
    "        r, s = 0, n - 1\n",
    "        while s % 2 == 0:\n",
    "            r += 1\n",
    "            s //= 2\n",
    "\n",
    "        for _ in range(k):\n",
    "            a = random.randrange(2, n - 1)\n",
    "            x = pow(a, s, n)\n",
    "            if x == 1 or x == n - 1:\n",
    "                continue\n",
    "            for _ in range(r - 1):\n",
    "                x = pow(x, 2, n)\n",
    "                if x == n - 1:\n",
    "                    break\n",
    "            else:\n",
    "                return False\n",
    "        return True\n",
    "    \n",
    "    def __euclid(self, e: int, n: int) -> int:\n",
    "        r1 = n\n",
    "        r2 = e\n",
    "        t1 = 0\n",
    "        t2 = 1\n",
    "        while r1 != 1:\n",
    "            q = r1 // r2\n",
    "            r = r1 % r2\n",
    "            r1 = r2\n",
    "            r2 = r\n",
    "            t = t1 - (q * t2)\n",
    "            t1 = t2\n",
    "            t2 = t\n",
    "        if t1 < 0:\n",
    "            t1 += n\n",
    "        return t1\n",
    "    \n",
    "    def exponentiation(self, base, exp, N):\n",
    "        t = 1\n",
    "        while(exp > 0): \n",
    "            if (exp % 2 != 0):\n",
    "                t = (t * base) % N\n",
    "            base = (base * base) % N\n",
    "            exp = exp // 2\n",
    "        return t % N\n",
    "        \n",
    "    def encrypt(self, plain_text: str) -> tuple:\n",
    "        cipher = []\n",
    "        for char in plain_text:\n",
    "            cipher.append(base64.b64encode(self.exponentiation(int.from_bytes(char.encode('big5'), 'little'), self.e, self.n).to_bytes(self.bits//8, byteorder='little')).decode('utf-8'))\n",
    "        return tuple(cipher)\n",
    "            \n",
    "    def decrypt(self, cipher: tuple) -> tuple:\n",
    "        msg = []\n",
    "        for char in cipher:\n",
    "            msg.append((self.exponentiation(int.from_bytes(base64.b64decode(char.encode('utf-8')), 'little'), self.d, self.n)).to_bytes(2, 'little').decode('big5'))\n",
    "        return tuple(msg)"
   ]
  },
  {
   "cell_type": "code",
   "execution_count": 2,
   "id": "0dea0101",
   "metadata": {},
   "outputs": [],
   "source": [
    "rsa_key = RSA(2048)"
   ]
  },
  {
   "cell_type": "code",
   "execution_count": 3,
   "id": "2d9d8ef2",
   "metadata": {},
   "outputs": [
    {
     "name": "stdout",
     "output_type": "stream",
     "text": [
      "\n",
      "私鑰：\u001b[33m9828801162294202516249089844878591782589184364158640517542566889301093726799529224082721754748107867260275181450965357973239358338472248485562111314052714521203309606778262911281065976441357663961600538952179401283081694215525460489342112978660672085256399495411687105207075987539344372661597111086109748223703436460623902278068028314799814620868297204261707971102949989882563255991544639053107782938463159027775200914329697202860145267491590178297555511240405040771059519090937769712076742383624558182153271608999319046415207220496414019797455530597830753330492260160163828127219234307889971122677174581999028650913\u001b[0m\n",
      "\n",
      "公鑰：\u001b[33m65537\u001b[0m\n"
     ]
    }
   ],
   "source": [
    "print(f'\\n私鑰：\\033[33m{rsa_key.d}\\033[0m\\n\\n公鑰：\\033[33m{rsa_key.e}\\033[0m')"
   ]
  },
  {
   "cell_type": "code",
   "execution_count": 4,
   "id": "d26e8ac2",
   "metadata": {},
   "outputs": [],
   "source": [
    "plain_text = \"All I ask is if this is my last night with you, hold me like I'm more than just a friend. Give me a memory I can use.\""
   ]
  },
  {
   "cell_type": "code",
   "execution_count": 5,
   "id": "880956bb",
   "metadata": {
    "scrolled": true,
    "tags": []
   },
   "outputs": [
    {
     "name": "stdout",
     "output_type": "stream",
     "text": [
      "EEqwwSGMykbHEV0UgORFoVSeaoiAa4GXZDagk35kju8I5HxziQ87720iIsU/jKgq0D46QJEKyRFyvDArjHNW/QEgVMdyLlgboOCI5E9xzwlGZOSe/CTStlGfAz6vB4DsuOlszFcrHsnvVqHdZQpi9oDye69EIz4kKHoRtZ4R7d06FEvlO7AMdR8IdEhB4A1qyynKytXEnprOudic7/kWGCj/Qh8aF7LTOn/sIqYLyeIUQ9vZxBl/e//EsfN6/KTDekrMk4GbtNU2ZT4nkp3lCZJVkS6wRJp09ToxKUp+TpU/m1j5JCq9Z+7KB/iG9+UG00fNfx6EBsyinpfS+fwmDQ==x0XnoiUyFeKryXv3Htnn6tN9GeuPmxma4KXXch044LikXjoAyZ0Z5h9S83/bGmnhIqXBscstey6PZPhXihCKoLAaWyCs57mzjDqRTTYxiYqo0W8IRXBt0ClGhxwS8ILkYiR2+jUJ1lD1sZr35Qw3Gpl/GMN58NLKmvo1WfXZ3wD0jrvpzpzIl80v0CAUPowe58lQQWBkzLLAZZJP/xXHc9VqAFRS1aI1S5H7NWDR6E4o1XKIf/pLeOiYQD9HnZfrhq9FapRu4Ru5fQ0AZpzkIWyPjV5+RSUBGN85RKB78AE7mVECcaJvsibHSqZ/ndEp/UKuhRC270tlcSBb9+SdDQ==x0XnoiUyFeKryXv3Htnn6tN9GeuPmxma4KXXch044LikXjoAyZ0Z5h9S83/bGmnhIqXBscstey6PZPhXihCKoLAaWyCs57mzjDqRTTYxiYqo0W8IRXBt0ClGhxwS8ILkYiR2+jUJ1lD1sZr35Qw3Gpl/GMN58NLKmvo1WfXZ3wD0jrvpzpzIl80v0CAUPowe58lQQWBkzLLAZZJP/xXHc9VqAFRS1aI1S5H7NWDR6E4o1XKIf/pLeOiYQD9HnZfrhq9FapRu4Ru5fQ0AZpzkIWyPjV5+RSUBGN85RKB78AE7mVECcaJvsibHSqZ/ndEp/UKuhRC270tlcSBb9+SdDQ==Dc1c/8PwqrAmVrvtrSTvDtiesbaO1qLCNlQnsxsB+Q6DZuSo6WGypIjCP1Q8lEf/FOaVCMN93PCG5jisseTP+9Hy/HrmM7HAubNuYAKWvrvClXLRnl9rhW9YKIi+JK25ZamirWu3crBz6YpzmbYcMAM180YvteeIofYYy2Yzdw3YqoZtr4WX+y5pHkbMccFypF8dXrANNRqEUbeh4KbiEhnQG3bcTeQRyasX7H/E67e0a01zq14QVUiqyxFuqdHYqi9rZcIDEXbnK68MdekNE2XPIQC3a9a7qeoa2KvYLGSfXTlprUygSG760H+8V13uk5CLWxn3de5R8ykcmvR0Pw==jBdPiEV54ok1vizlkL1S07yrKpwzSaGjdMYFKg383R2mnzPp8yUkr6p4BRqu+uehX3W5lnqxt0u7juDWQxAe5kYXTBdCP//kbZjqqWNMLO/goJA329NflxCbJFAvGjZPMF+V0g8Pj7QBNLgJBUqZjDgWFt6pVpQDXHrZaoy65ompcKzN+gUn1jUCIh6VAzjWpRWPWvng9ZNbdhWpJVNRIDk/NSfv60HaMnP2wUIQ7aMX7zYwFL4rxmJyGq1m+w+qpScfKXoCx0EReY0XsTiKj+rhbrByVe7w29ZXd9JhV8TcORD/cFnEmeG2t42gpkNB84AvBGLtHocRsMZysQIGJA==Dc1c/8PwqrAmVrvtrSTvDtiesbaO1qLCNlQnsxsB+Q6DZuSo6WGypIjCP1Q8lEf/FOaVCMN93PCG5jisseTP+9Hy/HrmM7HAubNuYAKWvrvClXLRnl9rhW9YKIi+JK25ZamirWu3crBz6YpzmbYcMAM180YvteeIofYYy2Yzdw3YqoZtr4WX+y5pHkbMccFypF8dXrANNRqEUbeh4KbiEhnQG3bcTeQRyasX7H/E67e0a01zq14QVUiqyxFuqdHYqi9rZcIDEXbnK68MdekNE2XPIQC3a9a7qeoa2KvYLGSfXTlprUygSG760H+8V13uk5CLWxn3de5R8ykcmvR0Pw==0klErCeKQ0cEGnF7Y8AHkSgJBHq1IM0MxWVVdvL/mjt5GBviuT3wPGvShMI8tycEwVxtOaUoCr3rYQrj/ccI6goa+e+3cjXUgG8pRfaFJsqUM3s+VghBvAFfC/zv3yb3KMt6tHg8zttMah+4+VkUmViH43GJ+lOaNMsg3wZKAUEv0QbSQfN2AxEsQC7GUIZYpTY0qhz3pc73AQklEH/kn4pywuryhk7qFwJUqAqcBiHDKK9V2XzYuRKjqSkhruHU9qn4aPbAGkD68bA2iffA78R1NBSX7oId2kp2/9e3M2loy4x5Skn+BYky0xrOkWkHRJ+L58Wzit49VYkd58/TCA==EF3QMoA0Fzr8SFSXYFdDwNdp75H8GOluITG0wGF6QENMYHkunR+o/ra58joFnn8nx3gPGcjD2V9FyzJNMTgEWb8cOaPfyA8EO+jU5Z1amjXr71n/5K+we0RHr1SKrMgPxFYjOKfTNWKGkV8Ao/3qR6lo5T/LWmwvICi5kbxJ93gXVH1YebV+mg8Ec7VBnTkL5jJ2HNf82RU7nnUo47Su8Jde6giFP3dMyVs/oOUg0DCtz+FV8Xg+xl+abB3y2lC5lzpZFSyrxdYM2b05h7kzdGd/QcAuUwj50aYWQTG2zkRNvBMxTWGjYeiWUTeVq6y5q1PH35tZYY3PFysW67ZEEQ==YRSdLXFHLQ46E1Yd53OFl6bGo+vgRGGClbuegycKZq3fxpbJ/2hb9KJRf/x7fJSt1fath/P774+er1FGLqiVALCb3D6KKyifFjTd+JOFFBRqlPXldTzhwmE8tCvsJ8BRgDjaTkC6ahp4bsGwS9jlw0hYZW+fr3qjCNiwJ23f+plHpTGUUZYwqGtfg2zq+2VDnTMKIoa9SIsDk1E8MyTOrHL3Iit4XFoyO14vp1FB0+pjBOEfuDSb0wIt/3u4KGLZ5/lmyS5RAySGFugrWuUF4cc8bwABNYyNWSvFK4hqtZicUIbaOtEhPcZjMqQz7/nQG4d4W3W41KFhkX9zZWVcBA==Dc1c/8PwqrAmVrvtrSTvDtiesbaO1qLCNlQnsxsB+Q6DZuSo6WGypIjCP1Q8lEf/FOaVCMN93PCG5jisseTP+9Hy/HrmM7HAubNuYAKWvrvClXLRnl9rhW9YKIi+JK25ZamirWu3crBz6YpzmbYcMAM180YvteeIofYYy2Yzdw3YqoZtr4WX+y5pHkbMccFypF8dXrANNRqEUbeh4KbiEhnQG3bcTeQRyasX7H/E67e0a01zq14QVUiqyxFuqdHYqi9rZcIDEXbnK68MdekNE2XPIQC3a9a7qeoa2KvYLGSfXTlprUygSG760H+8V13uk5CLWxn3de5R8ykcmvR0Pw==J6Hge1hMkjN/2KGmn9vkxWzYYK+9DyqPL11aVZQi/efdbMFP6yFbyqgZ716qJjo8qAskOd5au6ZbrWd0FArQSF+dq0j42E0F65zCnLedWHFnAbfLVxQ3ntq8vLw2/9eGQLZsCl/UPQGFn67baIs2zscpZjAsQkTv75tyEXGsZAt8vWUYjcAyloNdfeZXvpEtn/kzENYd9LAbQ5GlWL8r9ylSbLgNAbGvPRbKitvCH/KGkmJkRqGT3pas1S7eFfEienCB7XtCdvF5wdQrUeXrUSDSBmC+SywO2Norpspt7QnpNVBRTK0pSf3Xb1BJ2ayaz7J8MSVsxmxi7LbpxDCTIA==EF3QMoA0Fzr8SFSXYFdDwNdp75H8GOluITG0wGF6QENMYHkunR+o/ra58joFnn8nx3gPGcjD2V9FyzJNMTgEWb8cOaPfyA8EO+jU5Z1amjXr71n/5K+we0RHr1SKrMgPxFYjOKfTNWKGkV8Ao/3qR6lo5T/LWmwvICi5kbxJ93gXVH1YebV+mg8Ec7VBnTkL5jJ2HNf82RU7nnUo47Su8Jde6giFP3dMyVs/oOUg0DCtz+FV8Xg+xl+abB3y2lC5lzpZFSyrxdYM2b05h7kzdGd/QcAuUwj50aYWQTG2zkRNvBMxTWGjYeiWUTeVq6y5q1PH35tZYY3PFysW67ZEEQ==Dc1c/8PwqrAmVrvtrSTvDtiesbaO1qLCNlQnsxsB+Q6DZuSo6WGypIjCP1Q8lEf/FOaVCMN93PCG5jisseTP+9Hy/HrmM7HAubNuYAKWvrvClXLRnl9rhW9YKIi+JK25ZamirWu3crBz6YpzmbYcMAM180YvteeIofYYy2Yzdw3YqoZtr4WX+y5pHkbMccFypF8dXrANNRqEUbeh4KbiEhnQG3bcTeQRyasX7H/E67e0a01zq14QVUiqyxFuqdHYqi9rZcIDEXbnK68MdekNE2XPIQC3a9a7qeoa2KvYLGSfXTlprUygSG760H+8V13uk5CLWxn3de5R8ykcmvR0Pw==J6Hge1hMkjN/2KGmn9vkxWzYYK+9DyqPL11aVZQi/efdbMFP6yFbyqgZ716qJjo8qAskOd5au6ZbrWd0FArQSF+dq0j42E0F65zCnLedWHFnAbfLVxQ3ntq8vLw2/9eGQLZsCl/UPQGFn67baIs2zscpZjAsQkTv75tyEXGsZAt8vWUYjcAyloNdfeZXvpEtn/kzENYd9LAbQ5GlWL8r9ylSbLgNAbGvPRbKitvCH/KGkmJkRqGT3pas1S7eFfEienCB7XtCdvF5wdQrUeXrUSDSBmC+SywO2Norpspt7QnpNVBRTK0pSf3Xb1BJ2ayaz7J8MSVsxmxi7LbpxDCTIA==G8qnpvuuH0Nn+hEnH+ubv2VBu6wfayznWTCerTqPq7IW69jtql7k2AulzifE8d4YlwOyjIeAAFZFSMN1jP/DY9z8uEUkvmDegw6OtXrAOBEJPdIv+XP+8yiNRADWHC+XVthJlrEy+zXLMX41dqeo/6JrM9D1Pqsxf/XKbudXRfYK7d4ZQuxZG+2Dun21yOLNcly2DW+5PKv9WZb/dLXhy96O0chIYmyPDItbBOHDqRMtkxhMDZ0iOwBezVJ8WXtviwnKIG7UTmysMICordbJ31QGVcEVsnjSx+JmZZ4lV2PqTAACiMWYLvWdrysEz9cEqP1NGaRbS91d7UIFpUzTBA==Dc1c/8PwqrAmVrvtrSTvDtiesbaO1qLCNlQnsxsB+Q6DZuSo6WGypIjCP1Q8lEf/FOaVCMN93PCG5jisseTP+9Hy/HrmM7HAubNuYAKWvrvClXLRnl9rhW9YKIi+JK25ZamirWu3crBz6YpzmbYcMAM180YvteeIofYYy2Yzdw3YqoZtr4WX+y5pHkbMccFypF8dXrANNRqEUbeh4KbiEhnQG3bcTeQRyasX7H/E67e0a01zq14QVUiqyxFuqdHYqi9rZcIDEXbnK68MdekNE2XPIQC3a9a7qeoa2KvYLGSfXTlprUygSG760H+8V13uk5CLWxn3de5R8ykcmvR0Pw==aiGGywYG7FdCgKKicXE8VuDtTmwtvNsmNHQU6Og71nkHXi2fejJbHgpJXH36NImJWkLcKPA6IXNg1yWx+dsOZcEBOmG6HNiYN16f8k5SIXedIneNZkskB8QD1+YwPfqTAjfxd5UabYarPk46nvjB8UFh7oWIawMJzFQzmf9N2OVAGGhtz2ZkNxhGn/6cK2/3IFsIzdKuIAo0s1kY6prbpf7pnTj6rwPGFzUodYLhL6okVdI0a2dCVhrgwnotrVAgBBnc3rIsbjb5KoQizd/BzbbpIyqOAl0G7DAbrl574fXKvS+P/oW//oAUn3gvQ32uEgObLLqdKXsPZ893dkimQQ==2VlADngBDPV1UNPtB/N5BJ76/A9Kb2wVwOjCViCl4R3y5eYgt385bH8yEXZ2zZLQxAVYQfCsCdPckx2F8v/whi+ueIFCielCVu9iQkzfl5GHp6cyFfKH083tL4OJxmK+YY72Ot9hHbHzgbKvWz8w+fgmdeH5AV4U5jUvQwArT7Mdj232CsBLnl0HkP7yqOOkM4VYDJvXw8IgPQAH7WuS9kmGzkGY7lT9CH13GNaII33Bs8DxnBqhytTxlBnqS1tgd2c+TXpZC3PP20l7CURC9Aj0B8tb2lEVtlYbFRlt/BdDedOK6Yt8qZfsGUj2nsAmE9RP+eC3mwrPFnG6TDKeHg==J6Hge1hMkjN/2KGmn9vkxWzYYK+9DyqPL11aVZQi/efdbMFP6yFbyqgZ716qJjo8qAskOd5au6ZbrWd0FArQSF+dq0j42E0F65zCnLedWHFnAbfLVxQ3ntq8vLw2/9eGQLZsCl/UPQGFn67baIs2zscpZjAsQkTv75tyEXGsZAt8vWUYjcAyloNdfeZXvpEtn/kzENYd9LAbQ5GlWL8r9ylSbLgNAbGvPRbKitvCH/KGkmJkRqGT3pas1S7eFfEienCB7XtCdvF5wdQrUeXrUSDSBmC+SywO2Norpspt7QnpNVBRTK0pSf3Xb1BJ2ayaz7J8MSVsxmxi7LbpxDCTIA==EF3QMoA0Fzr8SFSXYFdDwNdp75H8GOluITG0wGF6QENMYHkunR+o/ra58joFnn8nx3gPGcjD2V9FyzJNMTgEWb8cOaPfyA8EO+jU5Z1amjXr71n/5K+we0RHr1SKrMgPxFYjOKfTNWKGkV8Ao/3qR6lo5T/LWmwvICi5kbxJ93gXVH1YebV+mg8Ec7VBnTkL5jJ2HNf82RU7nnUo47Su8Jde6giFP3dMyVs/oOUg0DCtz+FV8Xg+xl+abB3y2lC5lzpZFSyrxdYM2b05h7kzdGd/QcAuUwj50aYWQTG2zkRNvBMxTWGjYeiWUTeVq6y5q1PH35tZYY3PFysW67ZEEQ==Dc1c/8PwqrAmVrvtrSTvDtiesbaO1qLCNlQnsxsB+Q6DZuSo6WGypIjCP1Q8lEf/FOaVCMN93PCG5jisseTP+9Hy/HrmM7HAubNuYAKWvrvClXLRnl9rhW9YKIi+JK25ZamirWu3crBz6YpzmbYcMAM180YvteeIofYYy2Yzdw3YqoZtr4WX+y5pHkbMccFypF8dXrANNRqEUbeh4KbiEhnQG3bcTeQRyasX7H/E67e0a01zq14QVUiqyxFuqdHYqi9rZcIDEXbnK68MdekNE2XPIQC3a9a7qeoa2KvYLGSfXTlprUygSG760H+8V13uk5CLWxn3de5R8ykcmvR0Pw==J6Hge1hMkjN/2KGmn9vkxWzYYK+9DyqPL11aVZQi/efdbMFP6yFbyqgZ716qJjo8qAskOd5au6ZbrWd0FArQSF+dq0j42E0F65zCnLedWHFnAbfLVxQ3ntq8vLw2/9eGQLZsCl/UPQGFn67baIs2zscpZjAsQkTv75tyEXGsZAt8vWUYjcAyloNdfeZXvpEtn/kzENYd9LAbQ5GlWL8r9ylSbLgNAbGvPRbKitvCH/KGkmJkRqGT3pas1S7eFfEienCB7XtCdvF5wdQrUeXrUSDSBmC+SywO2Norpspt7QnpNVBRTK0pSf3Xb1BJ2ayaz7J8MSVsxmxi7LbpxDCTIA==EF3QMoA0Fzr8SFSXYFdDwNdp75H8GOluITG0wGF6QENMYHkunR+o/ra58joFnn8nx3gPGcjD2V9FyzJNMTgEWb8cOaPfyA8EO+jU5Z1amjXr71n/5K+we0RHr1SKrMgPxFYjOKfTNWKGkV8Ao/3qR6lo5T/LWmwvICi5kbxJ93gXVH1YebV+mg8Ec7VBnTkL5jJ2HNf82RU7nnUo47Su8Jde6giFP3dMyVs/oOUg0DCtz+FV8Xg+xl+abB3y2lC5lzpZFSyrxdYM2b05h7kzdGd/QcAuUwj50aYWQTG2zkRNvBMxTWGjYeiWUTeVq6y5q1PH35tZYY3PFysW67ZEEQ==Dc1c/8PwqrAmVrvtrSTvDtiesbaO1qLCNlQnsxsB+Q6DZuSo6WGypIjCP1Q8lEf/FOaVCMN93PCG5jisseTP+9Hy/HrmM7HAubNuYAKWvrvClXLRnl9rhW9YKIi+JK25ZamirWu3crBz6YpzmbYcMAM180YvteeIofYYy2Yzdw3YqoZtr4WX+y5pHkbMccFypF8dXrANNRqEUbeh4KbiEhnQG3bcTeQRyasX7H/E67e0a01zq14QVUiqyxFuqdHYqi9rZcIDEXbnK68MdekNE2XPIQC3a9a7qeoa2KvYLGSfXTlprUygSG760H+8V13uk5CLWxn3de5R8ykcmvR0Pw==DNwvtH/GItVuPhgu89xaLRjVOloZh+H/xV/NFcfXyYPtNSeJ8oTtb0n759BRgHpLVTMXwE9Toi/Cak2cpN9U2PKAI0enSVjFg8uw+XJQfki3wLNN++6ePdfdEithEk6DAXQi9uK+VkeCbdpLFapCALYlgQ26KuYnwL3HAcW4rKroJsn623JlyPuE41pyg0MKIPJ//1/mENj02boQ2YIyCClmyR7j1Jz3KtGo+3DqnsTwRimiKvyqMMiCcCdufQPxitt6SVXF3nomtVG/Kkkw0cHRbmlY6tJL8Np2YBIg1KcGKt3D3ECAOnD+z5d/DiHgNnx+lRFn9TDBT6UoT2DvUQ==JHorBr0nixldzhSqv5S69HRjlHhIaBHYuw1Bzrz907OGhj6ZPzh8PK9lPrOSJFtQ9Ht7/0/UqMnlsV+ihlJaGOSzHl6SCHS/c0qay8VAVmt4inQVJIZuEGpAJSt8W31F/WSZtZT3bH3kLEf5cmM2tc4gsX3+hnFaLk1jI8oQcEF8ojXNmFeeA2TyQN11DNlOdEuOTXwmvxSGlT5d52pN2SXbw+EU6sT+vGFjqp7WsBfQoe7QdqmE07933rCQTSqTPfcz4fJ0mNDXH44p0W40PmgKYb/Lvdsw/mqggFEX6JkvQv+SNGiZJcqyCWGrRI6rNkf8RKUiDZnOj+DvKy14YA==Dc1c/8PwqrAmVrvtrSTvDtiesbaO1qLCNlQnsxsB+Q6DZuSo6WGypIjCP1Q8lEf/FOaVCMN93PCG5jisseTP+9Hy/HrmM7HAubNuYAKWvrvClXLRnl9rhW9YKIi+JK25ZamirWu3crBz6YpzmbYcMAM180YvteeIofYYy2Yzdw3YqoZtr4WX+y5pHkbMccFypF8dXrANNRqEUbeh4KbiEhnQG3bcTeQRyasX7H/E67e0a01zq14QVUiqyxFuqdHYqi9rZcIDEXbnK68MdekNE2XPIQC3a9a7qeoa2KvYLGSfXTlprUygSG760H+8V13uk5CLWxn3de5R8ykcmvR0Pw==x0XnoiUyFeKryXv3Htnn6tN9GeuPmxma4KXXch044LikXjoAyZ0Z5h9S83/bGmnhIqXBscstey6PZPhXihCKoLAaWyCs57mzjDqRTTYxiYqo0W8IRXBt0ClGhxwS8ILkYiR2+jUJ1lD1sZr35Qw3Gpl/GMN58NLKmvo1WfXZ3wD0jrvpzpzIl80v0CAUPowe58lQQWBkzLLAZZJP/xXHc9VqAFRS1aI1S5H7NWDR6E4o1XKIf/pLeOiYQD9HnZfrhq9FapRu4Ru5fQ0AZpzkIWyPjV5+RSUBGN85RKB78AE7mVECcaJvsibHSqZ/ndEp/UKuhRC270tlcSBb9+SdDQ==0klErCeKQ0cEGnF7Y8AHkSgJBHq1IM0MxWVVdvL/mjt5GBviuT3wPGvShMI8tycEwVxtOaUoCr3rYQrj/ccI6goa+e+3cjXUgG8pRfaFJsqUM3s+VghBvAFfC/zv3yb3KMt6tHg8zttMah+4+VkUmViH43GJ+lOaNMsg3wZKAUEv0QbSQfN2AxEsQC7GUIZYpTY0qhz3pc73AQklEH/kn4pywuryhk7qFwJUqAqcBiHDKK9V2XzYuRKjqSkhruHU9qn4aPbAGkD68bA2iffA78R1NBSX7oId2kp2/9e3M2loy4x5Skn+BYky0xrOkWkHRJ+L58Wzit49VYkd58/TCA==EF3QMoA0Fzr8SFSXYFdDwNdp75H8GOluITG0wGF6QENMYHkunR+o/ra58joFnn8nx3gPGcjD2V9FyzJNMTgEWb8cOaPfyA8EO+jU5Z1amjXr71n/5K+we0RHr1SKrMgPxFYjOKfTNWKGkV8Ao/3qR6lo5T/LWmwvICi5kbxJ93gXVH1YebV+mg8Ec7VBnTkL5jJ2HNf82RU7nnUo47Su8Jde6giFP3dMyVs/oOUg0DCtz+FV8Xg+xl+abB3y2lC5lzpZFSyrxdYM2b05h7kzdGd/QcAuUwj50aYWQTG2zkRNvBMxTWGjYeiWUTeVq6y5q1PH35tZYY3PFysW67ZEEQ==aiGGywYG7FdCgKKicXE8VuDtTmwtvNsmNHQU6Og71nkHXi2fejJbHgpJXH36NImJWkLcKPA6IXNg1yWx+dsOZcEBOmG6HNiYN16f8k5SIXedIneNZkskB8QD1+YwPfqTAjfxd5UabYarPk46nvjB8UFh7oWIawMJzFQzmf9N2OVAGGhtz2ZkNxhGn/6cK2/3IFsIzdKuIAo0s1kY6prbpf7pnTj6rwPGFzUodYLhL6okVdI0a2dCVhrgwnotrVAgBBnc3rIsbjb5KoQizd/BzbbpIyqOAl0G7DAbrl574fXKvS+P/oW//oAUn3gvQ32uEgObLLqdKXsPZ893dkimQQ==Dc1c/8PwqrAmVrvtrSTvDtiesbaO1qLCNlQnsxsB+Q6DZuSo6WGypIjCP1Q8lEf/FOaVCMN93PCG5jisseTP+9Hy/HrmM7HAubNuYAKWvrvClXLRnl9rhW9YKIi+JK25ZamirWu3crBz6YpzmbYcMAM180YvteeIofYYy2Yzdw3YqoZtr4WX+y5pHkbMccFypF8dXrANNRqEUbeh4KbiEhnQG3bcTeQRyasX7H/E67e0a01zq14QVUiqyxFuqdHYqi9rZcIDEXbnK68MdekNE2XPIQC3a9a7qeoa2KvYLGSfXTlprUygSG760H+8V13uk5CLWxn3de5R8ykcmvR0Pw==OlaM708yWAAD58ksDg20K/HLWBQ4wSC8cOmAzZRvjH1lZk9O49TOXhdWRIaY64DeFw+ueGEDPt3ovfDlHBEGon5gcB2p3RsvRH8czFjFEfLrdPIFbLIfBRT1d7wm0NFoXvGSg3McE+e0zSL4TdLtelLLBh4ZCQ5S2qxKT+eBSRc36STj/4Rq9HNI/mwWA6GoejsO/USmV3xuGI3ZbDtuK9zERXBGmfUBhCyl14c58N5wUWkecV4+FwRDNMDRIMysvXfUKcQt81h4uDqikmDsSAQ3dNM7NHkZO1BjPPe3wJQDDx3dvC8/YIEUyTl6/U8Rof8Re6bQmIc9SzGutyqSJg==J6Hge1hMkjN/2KGmn9vkxWzYYK+9DyqPL11aVZQi/efdbMFP6yFbyqgZ716qJjo8qAskOd5au6ZbrWd0FArQSF+dq0j42E0F65zCnLedWHFnAbfLVxQ3ntq8vLw2/9eGQLZsCl/UPQGFn67baIs2zscpZjAsQkTv75tyEXGsZAt8vWUYjcAyloNdfeZXvpEtn/kzENYd9LAbQ5GlWL8r9ylSbLgNAbGvPRbKitvCH/KGkmJkRqGT3pas1S7eFfEienCB7XtCdvF5wdQrUeXrUSDSBmC+SywO2Norpspt7QnpNVBRTK0pSf3Xb1BJ2ayaz7J8MSVsxmxi7LbpxDCTIA==JvabhbCdzPha9lv84tkiFB1UQ17kispApbbGs8cbJdTyZXNEeVqbFuyte3FcXjBlZ5XGkvDXdXd/DIFz6PcIU3ppT40XHsy2OjkBh4xmlujsHVs44MABUbMR53ifKUh8USY9N+eYUoum7FEOEYGdnXeUfAKH618Jv6pz4lrSpH657Q8fr2PAxrFdT/D8tv+Co7WJvcc/yfegQ4CNQMTG9rE0WOH8fK5CfqcX//iEllOuByPXbzwosfkUnhUdqL/KJ6ykEBF0zWL1ACP3jJ4SSPe9zDXPLCZPQlypOegbLxnsn0LNrsN9pJR5ATu2wLid9spooMYi3ZfAgEKSvH20Wg==2VlADngBDPV1UNPtB/N5BJ76/A9Kb2wVwOjCViCl4R3y5eYgt385bH8yEXZ2zZLQxAVYQfCsCdPckx2F8v/whi+ueIFCielCVu9iQkzfl5GHp6cyFfKH083tL4OJxmK+YY72Ot9hHbHzgbKvWz8w+fgmdeH5AV4U5jUvQwArT7Mdj232CsBLnl0HkP7yqOOkM4VYDJvXw8IgPQAH7WuS9kmGzkGY7lT9CH13GNaII33Bs8DxnBqhytTxlBnqS1tgd2c+TXpZC3PP20l7CURC9Aj0B8tb2lEVtlYbFRlt/BdDedOK6Yt8qZfsGUj2nsAmE9RP+eC3mwrPFnG6TDKeHg==aiGGywYG7FdCgKKicXE8VuDtTmwtvNsmNHQU6Og71nkHXi2fejJbHgpJXH36NImJWkLcKPA6IXNg1yWx+dsOZcEBOmG6HNiYN16f8k5SIXedIneNZkskB8QD1+YwPfqTAjfxd5UabYarPk46nvjB8UFh7oWIawMJzFQzmf9N2OVAGGhtz2ZkNxhGn/6cK2/3IFsIzdKuIAo0s1kY6prbpf7pnTj6rwPGFzUodYLhL6okVdI0a2dCVhrgwnotrVAgBBnc3rIsbjb5KoQizd/BzbbpIyqOAl0G7DAbrl574fXKvS+P/oW//oAUn3gvQ32uEgObLLqdKXsPZ893dkimQQ==Dc1c/8PwqrAmVrvtrSTvDtiesbaO1qLCNlQnsxsB+Q6DZuSo6WGypIjCP1Q8lEf/FOaVCMN93PCG5jisseTP+9Hy/HrmM7HAubNuYAKWvrvClXLRnl9rhW9YKIi+JK25ZamirWu3crBz6YpzmbYcMAM180YvteeIofYYy2Yzdw3YqoZtr4WX+y5pHkbMccFypF8dXrANNRqEUbeh4KbiEhnQG3bcTeQRyasX7H/E67e0a01zq14QVUiqyxFuqdHYqi9rZcIDEXbnK68MdekNE2XPIQC3a9a7qeoa2KvYLGSfXTlprUygSG760H+8V13uk5CLWxn3de5R8ykcmvR0Pw==gZSfz5r5cU0PRXnDpehghNCNEeLfWlcxoNpk/fpnfbXCFRLBSQ+EM+3jFhu/Ctg/tEP1fPp2l2fHvqWMrA1FlJFvCr+Ols0swWYuA9SmN516FjvnTWJmjKZyFFSyMUKnj/IA1E28rkrh+pzX+6Nx//GHwXoVbm2tpIoHSc7OjPjpMtOGMlFnuxNduA/p9CVQrin30THdSnIXwrIjKGM8gH7SQaYvbtn3AS0fqB9Dj3QRGAB0x4P3p5lwf0w/nn2yXeCbhdClwhplgsO93b0pg60LVZ3eYfuMXZZs8YEffS5mUHu9roBYoKb5gCmsZrVN5qe8/v27aiX9cVkqnTytHA==J6Hge1hMkjN/2KGmn9vkxWzYYK+9DyqPL11aVZQi/efdbMFP6yFbyqgZ716qJjo8qAskOd5au6ZbrWd0FArQSF+dq0j42E0F65zCnLedWHFnAbfLVxQ3ntq8vLw2/9eGQLZsCl/UPQGFn67baIs2zscpZjAsQkTv75tyEXGsZAt8vWUYjcAyloNdfeZXvpEtn/kzENYd9LAbQ5GlWL8r9ylSbLgNAbGvPRbKitvCH/KGkmJkRqGT3pas1S7eFfEienCB7XtCdvF5wdQrUeXrUSDSBmC+SywO2Norpspt7QnpNVBRTK0pSf3Xb1BJ2ayaz7J8MSVsxmxi7LbpxDCTIA==aiGGywYG7FdCgKKicXE8VuDtTmwtvNsmNHQU6Og71nkHXi2fejJbHgpJXH36NImJWkLcKPA6IXNg1yWx+dsOZcEBOmG6HNiYN16f8k5SIXedIneNZkskB8QD1+YwPfqTAjfxd5UabYarPk46nvjB8UFh7oWIawMJzFQzmf9N2OVAGGhtz2ZkNxhGn/6cK2/3IFsIzdKuIAo0s1kY6prbpf7pnTj6rwPGFzUodYLhL6okVdI0a2dCVhrgwnotrVAgBBnc3rIsbjb5KoQizd/BzbbpIyqOAl0G7DAbrl574fXKvS+P/oW//oAUn3gvQ32uEgObLLqdKXsPZ893dkimQQ==2VlADngBDPV1UNPtB/N5BJ76/A9Kb2wVwOjCViCl4R3y5eYgt385bH8yEXZ2zZLQxAVYQfCsCdPckx2F8v/whi+ueIFCielCVu9iQkzfl5GHp6cyFfKH083tL4OJxmK+YY72Ot9hHbHzgbKvWz8w+fgmdeH5AV4U5jUvQwArT7Mdj232CsBLnl0HkP7yqOOkM4VYDJvXw8IgPQAH7WuS9kmGzkGY7lT9CH13GNaII33Bs8DxnBqhytTxlBnqS1tgd2c+TXpZC3PP20l7CURC9Aj0B8tb2lEVtlYbFRlt/BdDedOK6Yt8qZfsGUj2nsAmE9RP+eC3mwrPFnG6TDKeHg==Dc1c/8PwqrAmVrvtrSTvDtiesbaO1qLCNlQnsxsB+Q6DZuSo6WGypIjCP1Q8lEf/FOaVCMN93PCG5jisseTP+9Hy/HrmM7HAubNuYAKWvrvClXLRnl9rhW9YKIi+JK25ZamirWu3crBz6YpzmbYcMAM180YvteeIofYYy2Yzdw3YqoZtr4WX+y5pHkbMccFypF8dXrANNRqEUbeh4KbiEhnQG3bcTeQRyasX7H/E67e0a01zq14QVUiqyxFuqdHYqi9rZcIDEXbnK68MdekNE2XPIQC3a9a7qeoa2KvYLGSfXTlprUygSG760H+8V13uk5CLWxn3de5R8ykcmvR0Pw==JHorBr0nixldzhSqv5S69HRjlHhIaBHYuw1Bzrz907OGhj6ZPzh8PK9lPrOSJFtQ9Ht7/0/UqMnlsV+ihlJaGOSzHl6SCHS/c0qay8VAVmt4inQVJIZuEGpAJSt8W31F/WSZtZT3bH3kLEf5cmM2tc4gsX3+hnFaLk1jI8oQcEF8ojXNmFeeA2TyQN11DNlOdEuOTXwmvxSGlT5d52pN2SXbw+EU6sT+vGFjqp7WsBfQoe7QdqmE07933rCQTSqTPfcz4fJ0mNDXH44p0W40PmgKYb/Lvdsw/mqggFEX6JkvQv+SNGiZJcqyCWGrRI6rNkf8RKUiDZnOj+DvKy14YA==eMbuSjA6gAPzc4oR0urLsvdE893Glg7cO1jAxF2XaXIO0axMJhZot4obPgAjJuhZSuIw9q4mD+yHzN7utOfbw9sguI7CYCzAOv+8pXwu/ttLLRcFNbFGPEEyaQPImqvSmJJ94AK4+NhZiqflLc8x6TdBGWgk7ZZo6zMs+gTGpU7rCK+dvzDqONpeAtqhQgfWk5UYL5GsGhwJVZboo8pys/H8SMteb2MwBCKSj7VO96pE/ftcfSKLPUtwXXJR8CUpvjeN3/zTCYR4xsUSMDeSVusEMqATxeUZ2leJIkla+StLvl10iXs0jXGTtwA9nuq1S6hI/gumep6T4ymVbU5uRA==DVaZDOvhAnC11TPj6LmlNN/o8ltn52u0Yttel3Pr92k3S2Jg/Z6psqhj14dftBw9T+HsXipdnvXavDeDZmT1X6tug/sNycehvZFqCKJVllNe6KZI82tf3V4umniMo2IbElUhieTdAi+F3Tz8s3TDx58pS9h0ruobOjXybw82Renv9oQSEnVohMsvRKoYT0c5H2Gg5lZYKFy6SSktwJ3FZTOOcO480UqX5lvygzXI5t7scSr2XtTh2p9nl0Cg9rvR1CTZXDrIyfbjofw2sDTHpo6rfNggGGg6Nptv5k4I1Pw1707XMtu0jRiPWx1mzJvzKYFuwExQSduO2QLO8l1ZKQ==VeYjXLWNGaSJgDTwuhXeaIgeaJWjFxmkn2BnVCseD4ZVL5v87wXEvVqyYHeLkWjjsZBQi+osotJpyi6TW/0b7vwqqkb2YNL3Ruy7SeY+TI4sEbRzA79InbN4Br6HF9hkzQqU8rFuwr90Mr2l3uaZqoreB/UBcZLbd6pmr4yG5Ke5PxxalcTy8xbj6rDjRm+eWCL+IzE8Y2JazAbEiUEEmV2bSlrJzCvcpj++wz/d/gsjEn1eJJMimrXQNUhP/UN0fBeDxUsFjozlppj/RvgL/CA7y+89r4+/CiPTaD9yWKmhwV4bINu5mPMcNJ4/BFJsObKBqoyq/a7SfJXctpaICg==Dc1c/8PwqrAmVrvtrSTvDtiesbaO1qLCNlQnsxsB+Q6DZuSo6WGypIjCP1Q8lEf/FOaVCMN93PCG5jisseTP+9Hy/HrmM7HAubNuYAKWvrvClXLRnl9rhW9YKIi+JK25ZamirWu3crBz6YpzmbYcMAM180YvteeIofYYy2Yzdw3YqoZtr4WX+y5pHkbMccFypF8dXrANNRqEUbeh4KbiEhnQG3bcTeQRyasX7H/E67e0a01zq14QVUiqyxFuqdHYqi9rZcIDEXbnK68MdekNE2XPIQC3a9a7qeoa2KvYLGSfXTlprUygSG760H+8V13uk5CLWxn3de5R8ykcmvR0Pw==2VlADngBDPV1UNPtB/N5BJ76/A9Kb2wVwOjCViCl4R3y5eYgt385bH8yEXZ2zZLQxAVYQfCsCdPckx2F8v/whi+ueIFCielCVu9iQkzfl5GHp6cyFfKH083tL4OJxmK+YY72Ot9hHbHzgbKvWz8w+fgmdeH5AV4U5jUvQwArT7Mdj232CsBLnl0HkP7yqOOkM4VYDJvXw8IgPQAH7WuS9kmGzkGY7lT9CH13GNaII33Bs8DxnBqhytTxlBnqS1tgd2c+TXpZC3PP20l7CURC9Aj0B8tb2lEVtlYbFRlt/BdDedOK6Yt8qZfsGUj2nsAmE9RP+eC3mwrPFnG6TDKeHg==eMbuSjA6gAPzc4oR0urLsvdE893Glg7cO1jAxF2XaXIO0axMJhZot4obPgAjJuhZSuIw9q4mD+yHzN7utOfbw9sguI7CYCzAOv+8pXwu/ttLLRcFNbFGPEEyaQPImqvSmJJ94AK4+NhZiqflLc8x6TdBGWgk7ZZo6zMs+gTGpU7rCK+dvzDqONpeAtqhQgfWk5UYL5GsGhwJVZboo8pys/H8SMteb2MwBCKSj7VO96pE/ftcfSKLPUtwXXJR8CUpvjeN3/zTCYR4xsUSMDeSVusEMqATxeUZ2leJIkla+StLvl10iXs0jXGTtwA9nuq1S6hI/gumep6T4ymVbU5uRA==x0XnoiUyFeKryXv3Htnn6tN9GeuPmxma4KXXch044LikXjoAyZ0Z5h9S83/bGmnhIqXBscstey6PZPhXihCKoLAaWyCs57mzjDqRTTYxiYqo0W8IRXBt0ClGhxwS8ILkYiR2+jUJ1lD1sZr35Qw3Gpl/GMN58NLKmvo1WfXZ3wD0jrvpzpzIl80v0CAUPowe58lQQWBkzLLAZZJP/xXHc9VqAFRS1aI1S5H7NWDR6E4o1XKIf/pLeOiYQD9HnZfrhq9FapRu4Ru5fQ0AZpzkIWyPjV5+RSUBGN85RKB78AE7mVECcaJvsibHSqZ/ndEp/UKuhRC270tlcSBb9+SdDQ==zOpU6SpZ8O3doYlahpP69mlYjbie6z1IhTLxeXDgIrkCLNqSLQtJHJz5gX3e9pDY+7Sda6u4bJ/xuHzcPVvQpIfc6sMMYYP2UDVOIB+nNDGD1O1Qn+iHdvov4/lYpbecjbmpnoOxZikDCXkol0DN1h3Wi5hUhu6N0B/nLrtD+l8hWnlxIwZ5IHiMiC0vondB/e5UyIGL3Rf1umOpnFVMWb+sND2MoBd9ejJVwarQIeiWbhhn6VF81iaDSCCEX7r4BzqrSvhfg0A2/r/Ha7s008qyQv7fAYWoAqWvm85+haRmrK7fp7mMLrbzsfyRx+wNOAvFM21OZ0s1ncAlhmvURw==Dc1c/8PwqrAmVrvtrSTvDtiesbaO1qLCNlQnsxsB+Q6DZuSo6WGypIjCP1Q8lEf/FOaVCMN93PCG5jisseTP+9Hy/HrmM7HAubNuYAKWvrvClXLRnl9rhW9YKIi+JK25ZamirWu3crBz6YpzmbYcMAM180YvteeIofYYy2Yzdw3YqoZtr4WX+y5pHkbMccFypF8dXrANNRqEUbeh4KbiEhnQG3bcTeQRyasX7H/E67e0a01zq14QVUiqyxFuqdHYqi9rZcIDEXbnK68MdekNE2XPIQC3a9a7qeoa2KvYLGSfXTlprUygSG760H+8V13uk5CLWxn3de5R8ykcmvR0Pw==DNwvtH/GItVuPhgu89xaLRjVOloZh+H/xV/NFcfXyYPtNSeJ8oTtb0n759BRgHpLVTMXwE9Toi/Cak2cpN9U2PKAI0enSVjFg8uw+XJQfki3wLNN++6ePdfdEithEk6DAXQi9uK+VkeCbdpLFapCALYlgQ26KuYnwL3HAcW4rKroJsn623JlyPuE41pyg0MKIPJ//1/mENj02boQ2YIyCClmyR7j1Jz3KtGo+3DqnsTwRimiKvyqMMiCcCdufQPxitt6SVXF3nomtVG/Kkkw0cHRbmlY6tJL8Np2YBIg1KcGKt3D3ECAOnD+z5d/DiHgNnx+lRFn9TDBT6UoT2DvUQ==cG7brcxHcrw6qOAtc4WY5I5FLVeqgQVSIKTZsxmjblKuk4p3PoooajbsYxFPmwo+hCYtCw1eYUxvpsLEZhgpvsoNo3ZqCvs1KeR7av05FEXhJBkZmNw8xtL6BR3xKO05UTm857bF16mrO50fJkE6VxygURbtqFSjt1SnmtDeSbPjD+dFJG/8adC/WDj/3pak4tDCdy+/HLHQWmGnEqcKlW7dx/eKJv+sUmbcGzfS8/v9vAlWa7Ec1sKI4fRoegjDmpGkBl9Ut5rOYcJXEcSQ4gG6gv/KYLqozOLndyuKSCdi+BJKHVsdKzci5T8Tc+4N6g6PQQJZ0CSn3XvROjVRDg==Dc1c/8PwqrAmVrvtrSTvDtiesbaO1qLCNlQnsxsB+Q6DZuSo6WGypIjCP1Q8lEf/FOaVCMN93PCG5jisseTP+9Hy/HrmM7HAubNuYAKWvrvClXLRnl9rhW9YKIi+JK25ZamirWu3crBz6YpzmbYcMAM180YvteeIofYYy2Yzdw3YqoZtr4WX+y5pHkbMccFypF8dXrANNRqEUbeh4KbiEhnQG3bcTeQRyasX7H/E67e0a01zq14QVUiqyxFuqdHYqi9rZcIDEXbnK68MdekNE2XPIQC3a9a7qeoa2KvYLGSfXTlprUygSG760H+8V13uk5CLWxn3de5R8ykcmvR0Pw==x0XnoiUyFeKryXv3Htnn6tN9GeuPmxma4KXXch044LikXjoAyZ0Z5h9S83/bGmnhIqXBscstey6PZPhXihCKoLAaWyCs57mzjDqRTTYxiYqo0W8IRXBt0ClGhxwS8ILkYiR2+jUJ1lD1sZr35Qw3Gpl/GMN58NLKmvo1WfXZ3wD0jrvpzpzIl80v0CAUPowe58lQQWBkzLLAZZJP/xXHc9VqAFRS1aI1S5H7NWDR6E4o1XKIf/pLeOiYQD9HnZfrhq9FapRu4Ru5fQ0AZpzkIWyPjV5+RSUBGN85RKB78AE7mVECcaJvsibHSqZ/ndEp/UKuhRC270tlcSBb9+SdDQ==J6Hge1hMkjN/2KGmn9vkxWzYYK+9DyqPL11aVZQi/efdbMFP6yFbyqgZ716qJjo8qAskOd5au6ZbrWd0FArQSF+dq0j42E0F65zCnLedWHFnAbfLVxQ3ntq8vLw2/9eGQLZsCl/UPQGFn67baIs2zscpZjAsQkTv75tyEXGsZAt8vWUYjcAyloNdfeZXvpEtn/kzENYd9LAbQ5GlWL8r9ylSbLgNAbGvPRbKitvCH/KGkmJkRqGT3pas1S7eFfEienCB7XtCdvF5wdQrUeXrUSDSBmC+SywO2Norpspt7QnpNVBRTK0pSf3Xb1BJ2ayaz7J8MSVsxmxi7LbpxDCTIA==YRSdLXFHLQ46E1Yd53OFl6bGo+vgRGGClbuegycKZq3fxpbJ/2hb9KJRf/x7fJSt1fath/P774+er1FGLqiVALCb3D6KKyifFjTd+JOFFBRqlPXldTzhwmE8tCvsJ8BRgDjaTkC6ahp4bsGwS9jlw0hYZW+fr3qjCNiwJ23f+plHpTGUUZYwqGtfg2zq+2VDnTMKIoa9SIsDk1E8MyTOrHL3Iit4XFoyO14vp1FB0+pjBOEfuDSb0wIt/3u4KGLZ5/lmyS5RAySGFugrWuUF4cc8bwABNYyNWSvFK4hqtZicUIbaOtEhPcZjMqQz7/nQG4d4W3W41KFhkX9zZWVcBA==cG7brcxHcrw6qOAtc4WY5I5FLVeqgQVSIKTZsxmjblKuk4p3PoooajbsYxFPmwo+hCYtCw1eYUxvpsLEZhgpvsoNo3ZqCvs1KeR7av05FEXhJBkZmNw8xtL6BR3xKO05UTm857bF16mrO50fJkE6VxygURbtqFSjt1SnmtDeSbPjD+dFJG/8adC/WDj/3pak4tDCdy+/HLHQWmGnEqcKlW7dx/eKJv+sUmbcGzfS8/v9vAlWa7Ec1sKI4fRoegjDmpGkBl9Ut5rOYcJXEcSQ4gG6gv/KYLqozOLndyuKSCdi+BJKHVsdKzci5T8Tc+4N6g6PQQJZ0CSn3XvROjVRDg==Dc1c/8PwqrAmVrvtrSTvDtiesbaO1qLCNlQnsxsB+Q6DZuSo6WGypIjCP1Q8lEf/FOaVCMN93PCG5jisseTP+9Hy/HrmM7HAubNuYAKWvrvClXLRnl9rhW9YKIi+JK25ZamirWu3crBz6YpzmbYcMAM180YvteeIofYYy2Yzdw3YqoZtr4WX+y5pHkbMccFypF8dXrANNRqEUbeh4KbiEhnQG3bcTeQRyasX7H/E67e0a01zq14QVUiqyxFuqdHYqi9rZcIDEXbnK68MdekNE2XPIQC3a9a7qeoa2KvYLGSfXTlprUygSG760H+8V13uk5CLWxn3de5R8ykcmvR0Pw==jBdPiEV54ok1vizlkL1S07yrKpwzSaGjdMYFKg383R2mnzPp8yUkr6p4BRqu+uehX3W5lnqxt0u7juDWQxAe5kYXTBdCP//kbZjqqWNMLO/goJA329NflxCbJFAvGjZPMF+V0g8Pj7QBNLgJBUqZjDgWFt6pVpQDXHrZaoy65ompcKzN+gUn1jUCIh6VAzjWpRWPWvng9ZNbdhWpJVNRIDk/NSfv60HaMnP2wUIQ7aMX7zYwFL4rxmJyGq1m+w+qpScfKXoCx0EReY0XsTiKj+rhbrByVe7w29ZXd9JhV8TcORD/cFnEmeG2t42gpkNB84AvBGLtHocRsMZysQIGJA==Ziafxzi83v5eic5NqUirSZPU1jg8wdxGoVKGrVDlnEqCU6qRkhyV4wHJYpX5LqPb3mZIwVlNQ3FLbL8cm2FvmTEU2pavUbyVKV8zR5MX7zSgSVFvsx9F1t3RSwaiGRot0r3LSpRbzSxjaftLMpVfuU26d1t9BtBcx1Tvfrn/KDj4dP/QqXFFzVHkrkzqEbDDaVF5FKYlVeYI0ASgmhwHZKTno8cJu9RNDAx+7R8uIzlF4BOU0K0y+KMt4z/ozo2egKiM0PXiwsgBvGO0dNnL9uOASTq90VVTPr3phVkVQDu7a1uyoX7dqqy/MXV4Nl5yiey094gEVLM0+3Br9uNlOw==DNwvtH/GItVuPhgu89xaLRjVOloZh+H/xV/NFcfXyYPtNSeJ8oTtb0n759BRgHpLVTMXwE9Toi/Cak2cpN9U2PKAI0enSVjFg8uw+XJQfki3wLNN++6ePdfdEithEk6DAXQi9uK+VkeCbdpLFapCALYlgQ26KuYnwL3HAcW4rKroJsn623JlyPuE41pyg0MKIPJ//1/mENj02boQ2YIyCClmyR7j1Jz3KtGo+3DqnsTwRimiKvyqMMiCcCdufQPxitt6SVXF3nomtVG/Kkkw0cHRbmlY6tJL8Np2YBIg1KcGKt3D3ECAOnD+z5d/DiHgNnx+lRFn9TDBT6UoT2DvUQ==Dc1c/8PwqrAmVrvtrSTvDtiesbaO1qLCNlQnsxsB+Q6DZuSo6WGypIjCP1Q8lEf/FOaVCMN93PCG5jisseTP+9Hy/HrmM7HAubNuYAKWvrvClXLRnl9rhW9YKIi+JK25ZamirWu3crBz6YpzmbYcMAM180YvteeIofYYy2Yzdw3YqoZtr4WX+y5pHkbMccFypF8dXrANNRqEUbeh4KbiEhnQG3bcTeQRyasX7H/E67e0a01zq14QVUiqyxFuqdHYqi9rZcIDEXbnK68MdekNE2XPIQC3a9a7qeoa2KvYLGSfXTlprUygSG760H+8V13uk5CLWxn3de5R8ykcmvR0Pw==DNwvtH/GItVuPhgu89xaLRjVOloZh+H/xV/NFcfXyYPtNSeJ8oTtb0n759BRgHpLVTMXwE9Toi/Cak2cpN9U2PKAI0enSVjFg8uw+XJQfki3wLNN++6ePdfdEithEk6DAXQi9uK+VkeCbdpLFapCALYlgQ26KuYnwL3HAcW4rKroJsn623JlyPuE41pyg0MKIPJ//1/mENj02boQ2YIyCClmyR7j1Jz3KtGo+3DqnsTwRimiKvyqMMiCcCdufQPxitt6SVXF3nomtVG/Kkkw0cHRbmlY6tJL8Np2YBIg1KcGKt3D3ECAOnD+z5d/DiHgNnx+lRFn9TDBT6UoT2DvUQ==eMbuSjA6gAPzc4oR0urLsvdE893Glg7cO1jAxF2XaXIO0axMJhZot4obPgAjJuhZSuIw9q4mD+yHzN7utOfbw9sguI7CYCzAOv+8pXwu/ttLLRcFNbFGPEEyaQPImqvSmJJ94AK4+NhZiqflLc8x6TdBGWgk7ZZo6zMs+gTGpU7rCK+dvzDqONpeAtqhQgfWk5UYL5GsGhwJVZboo8pys/H8SMteb2MwBCKSj7VO96pE/ftcfSKLPUtwXXJR8CUpvjeN3/zTCYR4xsUSMDeSVusEMqATxeUZ2leJIkla+StLvl10iXs0jXGTtwA9nuq1S6hI/gumep6T4ymVbU5uRA==hGQnFNTpAc4TC8KHZtkC8/+a0MJ8B69KWJ3LGS9Z9kTV0beqO7+S2bLkq60lj4wafplykT/d+e33JDuVpDYpIeVy8Lr77FP/T/v3AorgEITKh6ZsP226orgPxUsILuHpU/FPilr0uUJBcMZXcDIS1mg3DrYBOAjgBEFbcvoCpGprDolOB/Ui32ac9i5G9xg4WygSHk+NPylNwgjzU/y6mzVPIhacDspIaAuaTaimSsDDFzwahVBz/HEk09dozcJVThh209dXM2E2wRlJ3MOOzwcz2fD8m5wM7y+nW4oiiAXzeA5hhRq9uJwkLHmcDSazQhgMGlQ3FxK5BsQgpgGYZQ==cG7brcxHcrw6qOAtc4WY5I5FLVeqgQVSIKTZsxmjblKuk4p3PoooajbsYxFPmwo+hCYtCw1eYUxvpsLEZhgpvsoNo3ZqCvs1KeR7av05FEXhJBkZmNw8xtL6BR3xKO05UTm857bF16mrO50fJkE6VxygURbtqFSjt1SnmtDeSbPjD+dFJG/8adC/WDj/3pak4tDCdy+/HLHQWmGnEqcKlW7dx/eKJv+sUmbcGzfS8/v9vAlWa7Ec1sKI4fRoegjDmpGkBl9Ut5rOYcJXEcSQ4gG6gv/KYLqozOLndyuKSCdi+BJKHVsdKzci5T8Tc+4N6g6PQQJZ0CSn3XvROjVRDg==Dc1c/8PwqrAmVrvtrSTvDtiesbaO1qLCNlQnsxsB+Q6DZuSo6WGypIjCP1Q8lEf/FOaVCMN93PCG5jisseTP+9Hy/HrmM7HAubNuYAKWvrvClXLRnl9rhW9YKIi+JK25ZamirWu3crBz6YpzmbYcMAM180YvteeIofYYy2Yzdw3YqoZtr4WX+y5pHkbMccFypF8dXrANNRqEUbeh4KbiEhnQG3bcTeQRyasX7H/E67e0a01zq14QVUiqyxFuqdHYqi9rZcIDEXbnK68MdekNE2XPIQC3a9a7qeoa2KvYLGSfXTlprUygSG760H+8V13uk5CLWxn3de5R8ykcmvR0Pw==aiGGywYG7FdCgKKicXE8VuDtTmwtvNsmNHQU6Og71nkHXi2fejJbHgpJXH36NImJWkLcKPA6IXNg1yWx+dsOZcEBOmG6HNiYN16f8k5SIXedIneNZkskB8QD1+YwPfqTAjfxd5UabYarPk46nvjB8UFh7oWIawMJzFQzmf9N2OVAGGhtz2ZkNxhGn/6cK2/3IFsIzdKuIAo0s1kY6prbpf7pnTj6rwPGFzUodYLhL6okVdI0a2dCVhrgwnotrVAgBBnc3rIsbjb5KoQizd/BzbbpIyqOAl0G7DAbrl574fXKvS+P/oW//oAUn3gvQ32uEgObLLqdKXsPZ893dkimQQ==2VlADngBDPV1UNPtB/N5BJ76/A9Kb2wVwOjCViCl4R3y5eYgt385bH8yEXZ2zZLQxAVYQfCsCdPckx2F8v/whi+ueIFCielCVu9iQkzfl5GHp6cyFfKH083tL4OJxmK+YY72Ot9hHbHzgbKvWz8w+fgmdeH5AV4U5jUvQwArT7Mdj232CsBLnl0HkP7yqOOkM4VYDJvXw8IgPQAH7WuS9kmGzkGY7lT9CH13GNaII33Bs8DxnBqhytTxlBnqS1tgd2c+TXpZC3PP20l7CURC9Aj0B8tb2lEVtlYbFRlt/BdDedOK6Yt8qZfsGUj2nsAmE9RP+eC3mwrPFnG6TDKeHg==0klErCeKQ0cEGnF7Y8AHkSgJBHq1IM0MxWVVdvL/mjt5GBviuT3wPGvShMI8tycEwVxtOaUoCr3rYQrj/ccI6goa+e+3cjXUgG8pRfaFJsqUM3s+VghBvAFfC/zv3yb3KMt6tHg8zttMah+4+VkUmViH43GJ+lOaNMsg3wZKAUEv0QbSQfN2AxEsQC7GUIZYpTY0qhz3pc73AQklEH/kn4pywuryhk7qFwJUqAqcBiHDKK9V2XzYuRKjqSkhruHU9qn4aPbAGkD68bA2iffA78R1NBSX7oId2kp2/9e3M2loy4x5Skn+BYky0xrOkWkHRJ+L58Wzit49VYkd58/TCA==OlaM708yWAAD58ksDg20K/HLWBQ4wSC8cOmAzZRvjH1lZk9O49TOXhdWRIaY64DeFw+ueGEDPt3ovfDlHBEGon5gcB2p3RsvRH8czFjFEfLrdPIFbLIfBRT1d7wm0NFoXvGSg3McE+e0zSL4TdLtelLLBh4ZCQ5S2qxKT+eBSRc36STj/4Rq9HNI/mwWA6GoejsO/USmV3xuGI3ZbDtuK9zERXBGmfUBhCyl14c58N5wUWkecV4+FwRDNMDRIMysvXfUKcQt81h4uDqikmDsSAQ3dNM7NHkZO1BjPPe3wJQDDx3dvC8/YIEUyTl6/U8Rof8Re6bQmIc9SzGutyqSJg==Dc1c/8PwqrAmVrvtrSTvDtiesbaO1qLCNlQnsxsB+Q6DZuSo6WGypIjCP1Q8lEf/FOaVCMN93PCG5jisseTP+9Hy/HrmM7HAubNuYAKWvrvClXLRnl9rhW9YKIi+JK25ZamirWu3crBz6YpzmbYcMAM180YvteeIofYYy2Yzdw3YqoZtr4WX+y5pHkbMccFypF8dXrANNRqEUbeh4KbiEhnQG3bcTeQRyasX7H/E67e0a01zq14QVUiqyxFuqdHYqi9rZcIDEXbnK68MdekNE2XPIQC3a9a7qeoa2KvYLGSfXTlprUygSG760H+8V13uk5CLWxn3de5R8ykcmvR0Pw==qXruCoA5aO80/V+oguSeu4soU3RHTumoduqb9Ms6kztixuib6qhfx3iN9an0OUgBBYdiOgdSFXriT5tpaI1G0c91q/poDmwGGF1qjQ2PYl2LXkpbjRFGEDsR07jkCC9oQl/lVGUkpcnhyicsQNKKTgrWhiGQBLc1TdOieFuffZLShSor+RmSWyXgxRzhya2qlvgyMAUOt2awxsi9/6MtyL5dx0fZUfDuzKxToj8su79F2faX2FGZ2p4AvzQcnHN8witCC0V/GW0lV/hTIwrbV9qvSOT1ieYG4Ehy+1AruvZtE18GnLBea1xoG4n7cODMrK7p012v5TdVdLLiAC64VA==DVaZDOvhAnC11TPj6LmlNN/o8ltn52u0Yttel3Pr92k3S2Jg/Z6psqhj14dftBw9T+HsXipdnvXavDeDZmT1X6tug/sNycehvZFqCKJVllNe6KZI82tf3V4umniMo2IbElUhieTdAi+F3Tz8s3TDx58pS9h0ruobOjXybw82Renv9oQSEnVohMsvRKoYT0c5H2Gg5lZYKFy6SSktwJ3FZTOOcO480UqX5lvygzXI5t7scSr2XtTh2p9nl0Cg9rvR1CTZXDrIyfbjofw2sDTHpo6rfNggGGg6Nptv5k4I1Pw1707XMtu0jRiPWx1mzJvzKYFuwExQSduO2QLO8l1ZKQ==EF3QMoA0Fzr8SFSXYFdDwNdp75H8GOluITG0wGF6QENMYHkunR+o/ra58joFnn8nx3gPGcjD2V9FyzJNMTgEWb8cOaPfyA8EO+jU5Z1amjXr71n/5K+we0RHr1SKrMgPxFYjOKfTNWKGkV8Ao/3qR6lo5T/LWmwvICi5kbxJ93gXVH1YebV+mg8Ec7VBnTkL5jJ2HNf82RU7nnUo47Su8Jde6giFP3dMyVs/oOUg0DCtz+FV8Xg+xl+abB3y2lC5lzpZFSyrxdYM2b05h7kzdGd/QcAuUwj50aYWQTG2zkRNvBMxTWGjYeiWUTeVq6y5q1PH35tZYY3PFysW67ZEEQ==aiGGywYG7FdCgKKicXE8VuDtTmwtvNsmNHQU6Og71nkHXi2fejJbHgpJXH36NImJWkLcKPA6IXNg1yWx+dsOZcEBOmG6HNiYN16f8k5SIXedIneNZkskB8QD1+YwPfqTAjfxd5UabYarPk46nvjB8UFh7oWIawMJzFQzmf9N2OVAGGhtz2ZkNxhGn/6cK2/3IFsIzdKuIAo0s1kY6prbpf7pnTj6rwPGFzUodYLhL6okVdI0a2dCVhrgwnotrVAgBBnc3rIsbjb5KoQizd/BzbbpIyqOAl0G7DAbrl574fXKvS+P/oW//oAUn3gvQ32uEgObLLqdKXsPZ893dkimQQ==Dc1c/8PwqrAmVrvtrSTvDtiesbaO1qLCNlQnsxsB+Q6DZuSo6WGypIjCP1Q8lEf/FOaVCMN93PCG5jisseTP+9Hy/HrmM7HAubNuYAKWvrvClXLRnl9rhW9YKIi+JK25ZamirWu3crBz6YpzmbYcMAM180YvteeIofYYy2Yzdw3YqoZtr4WX+y5pHkbMccFypF8dXrANNRqEUbeh4KbiEhnQG3bcTeQRyasX7H/E67e0a01zq14QVUiqyxFuqdHYqi9rZcIDEXbnK68MdekNE2XPIQC3a9a7qeoa2KvYLGSfXTlprUygSG760H+8V13uk5CLWxn3de5R8ykcmvR0Pw==0klErCeKQ0cEGnF7Y8AHkSgJBHq1IM0MxWVVdvL/mjt5GBviuT3wPGvShMI8tycEwVxtOaUoCr3rYQrj/ccI6goa+e+3cjXUgG8pRfaFJsqUM3s+VghBvAFfC/zv3yb3KMt6tHg8zttMah+4+VkUmViH43GJ+lOaNMsg3wZKAUEv0QbSQfN2AxEsQC7GUIZYpTY0qhz3pc73AQklEH/kn4pywuryhk7qFwJUqAqcBiHDKK9V2XzYuRKjqSkhruHU9qn4aPbAGkD68bA2iffA78R1NBSX7oId2kp2/9e3M2loy4x5Skn+BYky0xrOkWkHRJ+L58Wzit49VYkd58/TCA==Dc1c/8PwqrAmVrvtrSTvDtiesbaO1qLCNlQnsxsB+Q6DZuSo6WGypIjCP1Q8lEf/FOaVCMN93PCG5jisseTP+9Hy/HrmM7HAubNuYAKWvrvClXLRnl9rhW9YKIi+JK25ZamirWu3crBz6YpzmbYcMAM180YvteeIofYYy2Yzdw3YqoZtr4WX+y5pHkbMccFypF8dXrANNRqEUbeh4KbiEhnQG3bcTeQRyasX7H/E67e0a01zq14QVUiqyxFuqdHYqi9rZcIDEXbnK68MdekNE2XPIQC3a9a7qeoa2KvYLGSfXTlprUygSG760H+8V13uk5CLWxn3de5R8ykcmvR0Pw==G8qnpvuuH0Nn+hEnH+ubv2VBu6wfayznWTCerTqPq7IW69jtql7k2AulzifE8d4YlwOyjIeAAFZFSMN1jP/DY9z8uEUkvmDegw6OtXrAOBEJPdIv+XP+8yiNRADWHC+XVthJlrEy+zXLMX41dqeo/6JrM9D1Pqsxf/XKbudXRfYK7d4ZQuxZG+2Dun21yOLNcly2DW+5PKv9WZb/dLXhy96O0chIYmyPDItbBOHDqRMtkxhMDZ0iOwBezVJ8WXtviwnKIG7UTmysMICordbJ31QGVcEVsnjSx+JmZZ4lV2PqTAACiMWYLvWdrysEz9cEqP1NGaRbS91d7UIFpUzTBA==hGQnFNTpAc4TC8KHZtkC8/+a0MJ8B69KWJ3LGS9Z9kTV0beqO7+S2bLkq60lj4wafplykT/d+e33JDuVpDYpIeVy8Lr77FP/T/v3AorgEITKh6ZsP226orgPxUsILuHpU/FPilr0uUJBcMZXcDIS1mg3DrYBOAjgBEFbcvoCpGprDolOB/Ui32ac9i5G9xg4WygSHk+NPylNwgjzU/y6mzVPIhacDspIaAuaTaimSsDDFzwahVBz/HEk09dozcJVThh209dXM2E2wRlJ3MOOzwcz2fD8m5wM7y+nW4oiiAXzeA5hhRq9uJwkLHmcDSazQhgMGlQ3FxK5BsQgpgGYZQ==J6Hge1hMkjN/2KGmn9vkxWzYYK+9DyqPL11aVZQi/efdbMFP6yFbyqgZ716qJjo8qAskOd5au6ZbrWd0FArQSF+dq0j42E0F65zCnLedWHFnAbfLVxQ3ntq8vLw2/9eGQLZsCl/UPQGFn67baIs2zscpZjAsQkTv75tyEXGsZAt8vWUYjcAyloNdfeZXvpEtn/kzENYd9LAbQ5GlWL8r9ylSbLgNAbGvPRbKitvCH/KGkmJkRqGT3pas1S7eFfEienCB7XtCdvF5wdQrUeXrUSDSBmC+SywO2Norpspt7QnpNVBRTK0pSf3Xb1BJ2ayaz7J8MSVsxmxi7LbpxDCTIA==cG7brcxHcrw6qOAtc4WY5I5FLVeqgQVSIKTZsxmjblKuk4p3PoooajbsYxFPmwo+hCYtCw1eYUxvpsLEZhgpvsoNo3ZqCvs1KeR7av05FEXhJBkZmNw8xtL6BR3xKO05UTm857bF16mrO50fJkE6VxygURbtqFSjt1SnmtDeSbPjD+dFJG/8adC/WDj/3pak4tDCdy+/HLHQWmGnEqcKlW7dx/eKJv+sUmbcGzfS8/v9vAlWa7Ec1sKI4fRoegjDmpGkBl9Ut5rOYcJXEcSQ4gG6gv/KYLqozOLndyuKSCdi+BJKHVsdKzci5T8Tc+4N6g6PQQJZ0CSn3XvROjVRDg==OlaM708yWAAD58ksDg20K/HLWBQ4wSC8cOmAzZRvjH1lZk9O49TOXhdWRIaY64DeFw+ueGEDPt3ovfDlHBEGon5gcB2p3RsvRH8czFjFEfLrdPIFbLIfBRT1d7wm0NFoXvGSg3McE+e0zSL4TdLtelLLBh4ZCQ5S2qxKT+eBSRc36STj/4Rq9HNI/mwWA6GoejsO/USmV3xuGI3ZbDtuK9zERXBGmfUBhCyl14c58N5wUWkecV4+FwRDNMDRIMysvXfUKcQt81h4uDqikmDsSAQ3dNM7NHkZO1BjPPe3wJQDDx3dvC8/YIEUyTl6/U8Rof8Re6bQmIc9SzGutyqSJg==zOpU6SpZ8O3doYlahpP69mlYjbie6z1IhTLxeXDgIrkCLNqSLQtJHJz5gX3e9pDY+7Sda6u4bJ/xuHzcPVvQpIfc6sMMYYP2UDVOIB+nNDGD1O1Qn+iHdvov4/lYpbecjbmpnoOxZikDCXkol0DN1h3Wi5hUhu6N0B/nLrtD+l8hWnlxIwZ5IHiMiC0vondB/e5UyIGL3Rf1umOpnFVMWb+sND2MoBd9ejJVwarQIeiWbhhn6VF81iaDSCCEX7r4BzqrSvhfg0A2/r/Ha7s008qyQv7fAYWoAqWvm85+haRmrK7fp7mMLrbzsfyRx+wNOAvFM21OZ0s1ncAlhmvURw==0BWsCDwBMhOyNYpG30hHzpa3a6U8a4oy4egnWHE7vPubrYctLQtTHzlHyCJQkUwuw6JHGz0Pdpz1u30mwUJ7kxAsMcRX3pMNBeQsmdks4P0VN35kAYXWyKM4y+qGuHm37tIuaUxQFtu0IPE4o7rEUJhz+1204V7/auO/kLsKzxrjgwvYHoSArqxyDFDnDzhGnVXUQ+L6TzOb/JTusLUbKGGuL12KtmzxLzeLfvpuJmV9coPUx+oaZMVdXpVENusKGBgdrikCyk2njqSXfiyZ4Sg+LbJHw0xVSTtj8Aol3AkRBktdCJ6fdscidJVt7xSF+yR7PVJYa/XOL1nKpw/8YQ==Dc1c/8PwqrAmVrvtrSTvDtiesbaO1qLCNlQnsxsB+Q6DZuSo6WGypIjCP1Q8lEf/FOaVCMN93PCG5jisseTP+9Hy/HrmM7HAubNuYAKWvrvClXLRnl9rhW9YKIi+JK25ZamirWu3crBz6YpzmbYcMAM180YvteeIofYYy2Yzdw3YqoZtr4WX+y5pHkbMccFypF8dXrANNRqEUbeh4KbiEhnQG3bcTeQRyasX7H/E67e0a01zq14QVUiqyxFuqdHYqi9rZcIDEXbnK68MdekNE2XPIQC3a9a7qeoa2KvYLGSfXTlprUygSG760H+8V13uk5CLWxn3de5R8ykcmvR0Pw==sDTBmcHZkSyw86dwXUWE0elw5M6yT5ps5mACBDvRyc9acfa47RLMSx4CVppP5eMQzJMbFlYD1PM94yMmkn7v86Nwqz5kMrPz//CtgQTQdgM95BjmRrJhN3mAsqco0mVsCNfaJe1SHm1BJ+W6ys7qhL8HrhudliLNKhhKiwy8cB3TpeWdt42z9zIt0a7lIxYjpKyjkKL2fB7S8ln1EZm47sLoMVBWDZ1Jf5nR3LQ/of2kGOjs/UB0ioduTVzDoYgmbOfsvRF6UPVxUfmcqJdPZPmQ4sF2BoDw3gFLfeL1p2leTVq8sqbE0HLVhUEqOEy6ihvtUQlmGKvbwJEcJCJ3Vg==J6Hge1hMkjN/2KGmn9vkxWzYYK+9DyqPL11aVZQi/efdbMFP6yFbyqgZ716qJjo8qAskOd5au6ZbrWd0FArQSF+dq0j42E0F65zCnLedWHFnAbfLVxQ3ntq8vLw2/9eGQLZsCl/UPQGFn67baIs2zscpZjAsQkTv75tyEXGsZAt8vWUYjcAyloNdfeZXvpEtn/kzENYd9LAbQ5GlWL8r9ylSbLgNAbGvPRbKitvCH/KGkmJkRqGT3pas1S7eFfEienCB7XtCdvF5wdQrUeXrUSDSBmC+SywO2Norpspt7QnpNVBRTK0pSf3Xb1BJ2ayaz7J8MSVsxmxi7LbpxDCTIA==jUhioJmd/qH0liizkhYGWbRtyNljUriUQi3+R2uIwxBKNC0BQFj8UvTjbzQyStut1uIcy7jotVdvqTA10uO/HQivawNe98RilpzwNh6gmGZYDRUz7LT26Xzs78dpU18X7UmdFTORC7Ja/VWL56n1e6OE5X7+/5qz1TrYJOt6/zu9GGGTQ7mCjwc4GqgLxwojW2K8jOq/u80uWZ7yHznXknkDNIFmAo0QbliXSvT4sctk7J4fTmcDdsJaxK8IlnvSVOr0Pdq0HQKcxHzAGseCgQBqVk6RMgnLLSLVrUothfwRUZxuhfw0SyjQz5UJlQubLs7qGSsQNGXUMVzhQ0U1Cw==cG7brcxHcrw6qOAtc4WY5I5FLVeqgQVSIKTZsxmjblKuk4p3PoooajbsYxFPmwo+hCYtCw1eYUxvpsLEZhgpvsoNo3ZqCvs1KeR7av05FEXhJBkZmNw8xtL6BR3xKO05UTm857bF16mrO50fJkE6VxygURbtqFSjt1SnmtDeSbPjD+dFJG/8adC/WDj/3pak4tDCdy+/HLHQWmGnEqcKlW7dx/eKJv+sUmbcGzfS8/v9vAlWa7Ec1sKI4fRoegjDmpGkBl9Ut5rOYcJXEcSQ4gG6gv/KYLqozOLndyuKSCdi+BJKHVsdKzci5T8Tc+4N6g6PQQJZ0CSn3XvROjVRDg==Dc1c/8PwqrAmVrvtrSTvDtiesbaO1qLCNlQnsxsB+Q6DZuSo6WGypIjCP1Q8lEf/FOaVCMN93PCG5jisseTP+9Hy/HrmM7HAubNuYAKWvrvClXLRnl9rhW9YKIi+JK25ZamirWu3crBz6YpzmbYcMAM180YvteeIofYYy2Yzdw3YqoZtr4WX+y5pHkbMccFypF8dXrANNRqEUbeh4KbiEhnQG3bcTeQRyasX7H/E67e0a01zq14QVUiqyxFuqdHYqi9rZcIDEXbnK68MdekNE2XPIQC3a9a7qeoa2KvYLGSfXTlprUygSG760H+8V13uk5CLWxn3de5R8ykcmvR0Pw==DNwvtH/GItVuPhgu89xaLRjVOloZh+H/xV/NFcfXyYPtNSeJ8oTtb0n759BRgHpLVTMXwE9Toi/Cak2cpN9U2PKAI0enSVjFg8uw+XJQfki3wLNN++6ePdfdEithEk6DAXQi9uK+VkeCbdpLFapCALYlgQ26KuYnwL3HAcW4rKroJsn623JlyPuE41pyg0MKIPJ//1/mENj02boQ2YIyCClmyR7j1Jz3KtGo+3DqnsTwRimiKvyqMMiCcCdufQPxitt6SVXF3nomtVG/Kkkw0cHRbmlY6tJL8Np2YBIg1KcGKt3D3ECAOnD+z5d/DiHgNnx+lRFn9TDBT6UoT2DvUQ==cG7brcxHcrw6qOAtc4WY5I5FLVeqgQVSIKTZsxmjblKuk4p3PoooajbsYxFPmwo+hCYtCw1eYUxvpsLEZhgpvsoNo3ZqCvs1KeR7av05FEXhJBkZmNw8xtL6BR3xKO05UTm857bF16mrO50fJkE6VxygURbtqFSjt1SnmtDeSbPjD+dFJG/8adC/WDj/3pak4tDCdy+/HLHQWmGnEqcKlW7dx/eKJv+sUmbcGzfS8/v9vAlWa7Ec1sKI4fRoegjDmpGkBl9Ut5rOYcJXEcSQ4gG6gv/KYLqozOLndyuKSCdi+BJKHVsdKzci5T8Tc+4N6g6PQQJZ0CSn3XvROjVRDg==Dc1c/8PwqrAmVrvtrSTvDtiesbaO1qLCNlQnsxsB+Q6DZuSo6WGypIjCP1Q8lEf/FOaVCMN93PCG5jisseTP+9Hy/HrmM7HAubNuYAKWvrvClXLRnl9rhW9YKIi+JK25ZamirWu3crBz6YpzmbYcMAM180YvteeIofYYy2Yzdw3YqoZtr4WX+y5pHkbMccFypF8dXrANNRqEUbeh4KbiEhnQG3bcTeQRyasX7H/E67e0a01zq14QVUiqyxFuqdHYqi9rZcIDEXbnK68MdekNE2XPIQC3a9a7qeoa2KvYLGSfXTlprUygSG760H+8V13uk5CLWxn3de5R8ykcmvR0Pw==0klErCeKQ0cEGnF7Y8AHkSgJBHq1IM0MxWVVdvL/mjt5GBviuT3wPGvShMI8tycEwVxtOaUoCr3rYQrj/ccI6goa+e+3cjXUgG8pRfaFJsqUM3s+VghBvAFfC/zv3yb3KMt6tHg8zttMah+4+VkUmViH43GJ+lOaNMsg3wZKAUEv0QbSQfN2AxEsQC7GUIZYpTY0qhz3pc73AQklEH/kn4pywuryhk7qFwJUqAqcBiHDKK9V2XzYuRKjqSkhruHU9qn4aPbAGkD68bA2iffA78R1NBSX7oId2kp2/9e3M2loy4x5Skn+BYky0xrOkWkHRJ+L58Wzit49VYkd58/TCA==Dc1c/8PwqrAmVrvtrSTvDtiesbaO1qLCNlQnsxsB+Q6DZuSo6WGypIjCP1Q8lEf/FOaVCMN93PCG5jisseTP+9Hy/HrmM7HAubNuYAKWvrvClXLRnl9rhW9YKIi+JK25ZamirWu3crBz6YpzmbYcMAM180YvteeIofYYy2Yzdw3YqoZtr4WX+y5pHkbMccFypF8dXrANNRqEUbeh4KbiEhnQG3bcTeQRyasX7H/E67e0a01zq14QVUiqyxFuqdHYqi9rZcIDEXbnK68MdekNE2XPIQC3a9a7qeoa2KvYLGSfXTlprUygSG760H+8V13uk5CLWxn3de5R8ykcmvR0Pw==DNwvtH/GItVuPhgu89xaLRjVOloZh+H/xV/NFcfXyYPtNSeJ8oTtb0n759BRgHpLVTMXwE9Toi/Cak2cpN9U2PKAI0enSVjFg8uw+XJQfki3wLNN++6ePdfdEithEk6DAXQi9uK+VkeCbdpLFapCALYlgQ26KuYnwL3HAcW4rKroJsn623JlyPuE41pyg0MKIPJ//1/mENj02boQ2YIyCClmyR7j1Jz3KtGo+3DqnsTwRimiKvyqMMiCcCdufQPxitt6SVXF3nomtVG/Kkkw0cHRbmlY6tJL8Np2YBIg1KcGKt3D3ECAOnD+z5d/DiHgNnx+lRFn9TDBT6UoT2DvUQ==cG7brcxHcrw6qOAtc4WY5I5FLVeqgQVSIKTZsxmjblKuk4p3PoooajbsYxFPmwo+hCYtCw1eYUxvpsLEZhgpvsoNo3ZqCvs1KeR7av05FEXhJBkZmNw8xtL6BR3xKO05UTm857bF16mrO50fJkE6VxygURbtqFSjt1SnmtDeSbPjD+dFJG/8adC/WDj/3pak4tDCdy+/HLHQWmGnEqcKlW7dx/eKJv+sUmbcGzfS8/v9vAlWa7Ec1sKI4fRoegjDmpGkBl9Ut5rOYcJXEcSQ4gG6gv/KYLqozOLndyuKSCdi+BJKHVsdKzci5T8Tc+4N6g6PQQJZ0CSn3XvROjVRDg==DNwvtH/GItVuPhgu89xaLRjVOloZh+H/xV/NFcfXyYPtNSeJ8oTtb0n759BRgHpLVTMXwE9Toi/Cak2cpN9U2PKAI0enSVjFg8uw+XJQfki3wLNN++6ePdfdEithEk6DAXQi9uK+VkeCbdpLFapCALYlgQ26KuYnwL3HAcW4rKroJsn623JlyPuE41pyg0MKIPJ//1/mENj02boQ2YIyCClmyR7j1Jz3KtGo+3DqnsTwRimiKvyqMMiCcCdufQPxitt6SVXF3nomtVG/Kkkw0cHRbmlY6tJL8Np2YBIg1KcGKt3D3ECAOnD+z5d/DiHgNnx+lRFn9TDBT6UoT2DvUQ==eMbuSjA6gAPzc4oR0urLsvdE893Glg7cO1jAxF2XaXIO0axMJhZot4obPgAjJuhZSuIw9q4mD+yHzN7utOfbw9sguI7CYCzAOv+8pXwu/ttLLRcFNbFGPEEyaQPImqvSmJJ94AK4+NhZiqflLc8x6TdBGWgk7ZZo6zMs+gTGpU7rCK+dvzDqONpeAtqhQgfWk5UYL5GsGhwJVZboo8pys/H8SMteb2MwBCKSj7VO96pE/ftcfSKLPUtwXXJR8CUpvjeN3/zTCYR4xsUSMDeSVusEMqATxeUZ2leJIkla+StLvl10iXs0jXGTtwA9nuq1S6hI/gumep6T4ymVbU5uRA==hGQnFNTpAc4TC8KHZtkC8/+a0MJ8B69KWJ3LGS9Z9kTV0beqO7+S2bLkq60lj4wafplykT/d+e33JDuVpDYpIeVy8Lr77FP/T/v3AorgEITKh6ZsP226orgPxUsILuHpU/FPilr0uUJBcMZXcDIS1mg3DrYBOAjgBEFbcvoCpGprDolOB/Ui32ac9i5G9xg4WygSHk+NPylNwgjzU/y6mzVPIhacDspIaAuaTaimSsDDFzwahVBz/HEk09dozcJVThh209dXM2E2wRlJ3MOOzwcz2fD8m5wM7y+nW4oiiAXzeA5hhRq9uJwkLHmcDSazQhgMGlQ3FxK5BsQgpgGYZQ==JHorBr0nixldzhSqv5S69HRjlHhIaBHYuw1Bzrz907OGhj6ZPzh8PK9lPrOSJFtQ9Ht7/0/UqMnlsV+ihlJaGOSzHl6SCHS/c0qay8VAVmt4inQVJIZuEGpAJSt8W31F/WSZtZT3bH3kLEf5cmM2tc4gsX3+hnFaLk1jI8oQcEF8ojXNmFeeA2TyQN11DNlOdEuOTXwmvxSGlT5d52pN2SXbw+EU6sT+vGFjqp7WsBfQoe7QdqmE07933rCQTSqTPfcz4fJ0mNDXH44p0W40PmgKYb/Lvdsw/mqggFEX6JkvQv+SNGiZJcqyCWGrRI6rNkf8RKUiDZnOj+DvKy14YA==Dc1c/8PwqrAmVrvtrSTvDtiesbaO1qLCNlQnsxsB+Q6DZuSo6WGypIjCP1Q8lEf/FOaVCMN93PCG5jisseTP+9Hy/HrmM7HAubNuYAKWvrvClXLRnl9rhW9YKIi+JK25ZamirWu3crBz6YpzmbYcMAM180YvteeIofYYy2Yzdw3YqoZtr4WX+y5pHkbMccFypF8dXrANNRqEUbeh4KbiEhnQG3bcTeQRyasX7H/E67e0a01zq14QVUiqyxFuqdHYqi9rZcIDEXbnK68MdekNE2XPIQC3a9a7qeoa2KvYLGSfXTlprUygSG760H+8V13uk5CLWxn3de5R8ykcmvR0Pw==jBdPiEV54ok1vizlkL1S07yrKpwzSaGjdMYFKg383R2mnzPp8yUkr6p4BRqu+uehX3W5lnqxt0u7juDWQxAe5kYXTBdCP//kbZjqqWNMLO/goJA329NflxCbJFAvGjZPMF+V0g8Pj7QBNLgJBUqZjDgWFt6pVpQDXHrZaoy65ompcKzN+gUn1jUCIh6VAzjWpRWPWvng9ZNbdhWpJVNRIDk/NSfv60HaMnP2wUIQ7aMX7zYwFL4rxmJyGq1m+w+qpScfKXoCx0EReY0XsTiKj+rhbrByVe7w29ZXd9JhV8TcORD/cFnEmeG2t42gpkNB84AvBGLtHocRsMZysQIGJA==Dc1c/8PwqrAmVrvtrSTvDtiesbaO1qLCNlQnsxsB+Q6DZuSo6WGypIjCP1Q8lEf/FOaVCMN93PCG5jisseTP+9Hy/HrmM7HAubNuYAKWvrvClXLRnl9rhW9YKIi+JK25ZamirWu3crBz6YpzmbYcMAM180YvteeIofYYy2Yzdw3YqoZtr4WX+y5pHkbMccFypF8dXrANNRqEUbeh4KbiEhnQG3bcTeQRyasX7H/E67e0a01zq14QVUiqyxFuqdHYqi9rZcIDEXbnK68MdekNE2XPIQC3a9a7qeoa2KvYLGSfXTlprUygSG760H+8V13uk5CLWxn3de5R8ykcmvR0Pw==yFOzhP2ZnVJdr4uVK5y43RchyiVMqrN1TijsHuJmHPREdVuRPSyZFMvcExADAqDYkwLXNdbrNNqucb2+fdH5Mi5kS6pZoYSG6wcLZqG9QGyWMm08QC0fIAVkx0MqTmxv/+IkJX2MpNlosjMsjveCZUgKJmKxmYnDDVZysy6RJsebG5T6DDOhKp+3ojrUsyDe1o+SLyJv3Qrvfl3ohz0S7XU1/RxdTFkdlKpXtFBicntEcG1he1JZaFOyTBJPzSPJ6iHLEGY6kp+o5ZQukyUD7hw9f1IIgud3xCYXxNxJqbTlVA4pf053C9vaJAYU7b9G0b2ecp3NWmTJDKVV+JNYHQ==0klErCeKQ0cEGnF7Y8AHkSgJBHq1IM0MxWVVdvL/mjt5GBviuT3wPGvShMI8tycEwVxtOaUoCr3rYQrj/ccI6goa+e+3cjXUgG8pRfaFJsqUM3s+VghBvAFfC/zv3yb3KMt6tHg8zttMah+4+VkUmViH43GJ+lOaNMsg3wZKAUEv0QbSQfN2AxEsQC7GUIZYpTY0qhz3pc73AQklEH/kn4pywuryhk7qFwJUqAqcBiHDKK9V2XzYuRKjqSkhruHU9qn4aPbAGkD68bA2iffA78R1NBSX7oId2kp2/9e3M2loy4x5Skn+BYky0xrOkWkHRJ+L58Wzit49VYkd58/TCA==OlaM708yWAAD58ksDg20K/HLWBQ4wSC8cOmAzZRvjH1lZk9O49TOXhdWRIaY64DeFw+ueGEDPt3ovfDlHBEGon5gcB2p3RsvRH8czFjFEfLrdPIFbLIfBRT1d7wm0NFoXvGSg3McE+e0zSL4TdLtelLLBh4ZCQ5S2qxKT+eBSRc36STj/4Rq9HNI/mwWA6GoejsO/USmV3xuGI3ZbDtuK9zERXBGmfUBhCyl14c58N5wUWkecV4+FwRDNMDRIMysvXfUKcQt81h4uDqikmDsSAQ3dNM7NHkZO1BjPPe3wJQDDx3dvC8/YIEUyTl6/U8Rof8Re6bQmIc9SzGutyqSJg==Dc1c/8PwqrAmVrvtrSTvDtiesbaO1qLCNlQnsxsB+Q6DZuSo6WGypIjCP1Q8lEf/FOaVCMN93PCG5jisseTP+9Hy/HrmM7HAubNuYAKWvrvClXLRnl9rhW9YKIi+JK25ZamirWu3crBz6YpzmbYcMAM180YvteeIofYYy2Yzdw3YqoZtr4WX+y5pHkbMccFypF8dXrANNRqEUbeh4KbiEhnQG3bcTeQRyasX7H/E67e0a01zq14QVUiqyxFuqdHYqi9rZcIDEXbnK68MdekNE2XPIQC3a9a7qeoa2KvYLGSfXTlprUygSG760H+8V13uk5CLWxn3de5R8ykcmvR0Pw==DVaZDOvhAnC11TPj6LmlNN/o8ltn52u0Yttel3Pr92k3S2Jg/Z6psqhj14dftBw9T+HsXipdnvXavDeDZmT1X6tug/sNycehvZFqCKJVllNe6KZI82tf3V4umniMo2IbElUhieTdAi+F3Tz8s3TDx58pS9h0ruobOjXybw82Renv9oQSEnVohMsvRKoYT0c5H2Gg5lZYKFy6SSktwJ3FZTOOcO480UqX5lvygzXI5t7scSr2XtTh2p9nl0Cg9rvR1CTZXDrIyfbjofw2sDTHpo6rfNggGGg6Nptv5k4I1Pw1707XMtu0jRiPWx1mzJvzKYFuwExQSduO2QLO8l1ZKQ==EF3QMoA0Fzr8SFSXYFdDwNdp75H8GOluITG0wGF6QENMYHkunR+o/ra58joFnn8nx3gPGcjD2V9FyzJNMTgEWb8cOaPfyA8EO+jU5Z1amjXr71n/5K+we0RHr1SKrMgPxFYjOKfTNWKGkV8Ao/3qR6lo5T/LWmwvICi5kbxJ93gXVH1YebV+mg8Ec7VBnTkL5jJ2HNf82RU7nnUo47Su8Jde6giFP3dMyVs/oOUg0DCtz+FV8Xg+xl+abB3y2lC5lzpZFSyrxdYM2b05h7kzdGd/QcAuUwj50aYWQTG2zkRNvBMxTWGjYeiWUTeVq6y5q1PH35tZYY3PFysW67ZEEQ==cG7brcxHcrw6qOAtc4WY5I5FLVeqgQVSIKTZsxmjblKuk4p3PoooajbsYxFPmwo+hCYtCw1eYUxvpsLEZhgpvsoNo3ZqCvs1KeR7av05FEXhJBkZmNw8xtL6BR3xKO05UTm857bF16mrO50fJkE6VxygURbtqFSjt1SnmtDeSbPjD+dFJG/8adC/WDj/3pak4tDCdy+/HLHQWmGnEqcKlW7dx/eKJv+sUmbcGzfS8/v9vAlWa7Ec1sKI4fRoegjDmpGkBl9Ut5rOYcJXEcSQ4gG6gv/KYLqozOLndyuKSCdi+BJKHVsdKzci5T8Tc+4N6g6PQQJZ0CSn3XvROjVRDg==0BWsCDwBMhOyNYpG30hHzpa3a6U8a4oy4egnWHE7vPubrYctLQtTHzlHyCJQkUwuw6JHGz0Pdpz1u30mwUJ7kxAsMcRX3pMNBeQsmdks4P0VN35kAYXWyKM4y+qGuHm37tIuaUxQFtu0IPE4o7rEUJhz+1204V7/auO/kLsKzxrjgwvYHoSArqxyDFDnDzhGnVXUQ+L6TzOb/JTusLUbKGGuL12KtmzxLzeLfvpuJmV9coPUx+oaZMVdXpVENusKGBgdrikCyk2njqSXfiyZ4Sg+LbJHw0xVSTtj8Aol3AkRBktdCJ6fdscidJVt7xSF+yR7PVJYa/XOL1nKpw/8YQ==\n"
     ]
    }
   ],
   "source": [
    "cipher = rsa_key.encrypt(plain_text)\n",
    "print(''.join(cipher))"
   ]
  },
  {
   "cell_type": "code",
   "execution_count": 6,
   "id": "6ef9a859",
   "metadata": {},
   "outputs": [
    {
     "data": {
      "text/plain": [
       "\"All I ask is if this is my last night with you, hold me like I'm more than just a friend. Give me a memory I can use.\""
      ]
     },
     "execution_count": 6,
     "metadata": {},
     "output_type": "execute_result"
    }
   ],
   "source": [
    "''.join(rsa_key.decrypt(cipher)).replace('\\x00', '')"
   ]
  },
  {
   "cell_type": "markdown",
   "id": "af78d4f4",
   "metadata": {},
   "source": [
    "---"
   ]
  },
  {
   "cell_type": "markdown",
   "id": "8e1adbe2",
   "metadata": {},
   "source": [
    "# 數位信封"
   ]
  },
  {
   "cell_type": "markdown",
   "id": "11b51b24",
   "metadata": {},
   "source": [
    "## 產生對稱式金鑰"
   ]
  },
  {
   "cell_type": "markdown",
   "id": "3a826d6d",
   "metadata": {},
   "source": [
    "### 沒有 IV 會導致前 16 個字無法解碼"
   ]
  },
  {
   "cell_type": "code",
   "execution_count": 7,
   "id": "cbeb5bc4",
   "metadata": {},
   "outputs": [
    {
     "name": "stdout",
     "output_type": "stream",
     "text": [
      "b'[\\xd0p\\xe4d\\x10\\xc6zk\\x86\\x91+^\\xab/\\x96\\x02\\x97\\xb9\\xfbx\\xa9\\xc6b;p)\\xcd\\x13b\\xb1H'\n",
      "b'!\\xcb\\xc10V\\x9f\\xcc\\x06)\\xf7RP\\xd0\\x13\\xd7\\x19'\n"
     ]
    }
   ],
   "source": [
    "def generate_aes_key(bytes: int) -> str:\n",
    "    key = b''.join([(random.randint(0, 0xFF).to_bytes(1, 'little')) for _ in range(bytes)])\n",
    "    return key\n",
    "\n",
    "aes_key = generate_aes_key(32)\n",
    "IV = generate_aes_key(16)\n",
    "print(aes_key, IV, sep='\\n')"
   ]
  },
  {
   "cell_type": "markdown",
   "id": "15f53702",
   "metadata": {},
   "source": [
    "## 加密明文"
   ]
  },
  {
   "cell_type": "code",
   "execution_count": 8,
   "id": "b3782505",
   "metadata": {},
   "outputs": [],
   "source": [
    "plain_text = \"All I ask is if this is my last night with you, hold me like I'm more than just a friend. Give me a memory I can use.\""
   ]
  },
  {
   "cell_type": "markdown",
   "id": "bed979de",
   "metadata": {},
   "source": [
    "### Padding"
   ]
  },
  {
   "cell_type": "code",
   "execution_count": 9,
   "id": "82c5e742",
   "metadata": {},
   "outputs": [],
   "source": [
    "def padding(text):\n",
    "    if type(text) is str:\n",
    "        text = text.encode('utf8')\n",
    "    elif type(text) is bytes:\n",
    "        pass\n",
    "    else:\n",
    "        raise TypeError('請輸入字串或位元組資料')\n",
    "    if len(text) % 16 != 0:\n",
    "        text += ('\\0'.encode('utf8') * (16 - (len(text) % 16)))\n",
    "        \n",
    "    return text"
   ]
  },
  {
   "cell_type": "code",
   "execution_count": 10,
   "id": "0109b88c",
   "metadata": {},
   "outputs": [
    {
     "data": {
      "text/plain": [
       "b\"All I ask is if this is my last night with you, hold me like I'm more than just a friend. Give me a memory I can use.\\x00\\x00\\x00\\x00\\x00\\x00\\x00\\x00\\x00\\x00\\x00\""
      ]
     },
     "execution_count": 10,
     "metadata": {},
     "output_type": "execute_result"
    }
   ],
   "source": [
    "plain_text = padding(plain_text)\n",
    "plain_text"
   ]
  },
  {
   "cell_type": "code",
   "execution_count": 11,
   "id": "2fef01d7",
   "metadata": {},
   "outputs": [
    {
     "data": {
      "text/plain": [
       "128"
      ]
     },
     "execution_count": 11,
     "metadata": {},
     "output_type": "execute_result"
    }
   ],
   "source": [
    "len(plain_text)"
   ]
  },
  {
   "cell_type": "code",
   "execution_count": 12,
   "id": "bd8def3c",
   "metadata": {},
   "outputs": [],
   "source": [
    "from Crypto.Cipher import AES\n",
    "\n",
    "cipher_aes = AES.new(aes_key, AES.MODE_CBC, IV)\n",
    "try:\n",
    "    cipher = cipher_aes.encrypt(plain_text)\n",
    "except TypeError:\n",
    "    cipher = cipher_aes.encrypt(plain_text.encode())\n",
    "except Exception as e:\n",
    "    print(e)"
   ]
  },
  {
   "cell_type": "code",
   "execution_count": 13,
   "id": "c5ec7fca",
   "metadata": {},
   "outputs": [
    {
     "data": {
      "text/plain": [
       "b'^\\xb6\\xf3\\xb4\\xff%\\xbbG\\r7\\x9a:\\xecJ\\xb7y9\\x90*\\xc1\\x9a\\x91\\xd0\\xe5\\x8f\\n*L\\xeb\\x08\\xdeQ\\x00\\x8c\\x0e\\t\\xe6wU\\xb3\\xd8\\xfcB\\xb0\\x9b\\xf4\\x1b\\xd0xd$\\x92\\x1f\\xb7@\\xc9\\xdd\\x0b\\xa8r&N\\xa4\\x18u\\x9ai\\x8a\\x0cF#\\xd7\\xa1q\\xef\\xa08m\\xfa;m\\x06\\xad\\x06\\xae\\xc8\\x9c\\x15\\xc83\\xb7\\x07x\\xf8Zb\\xa7\\xef\\x8f\\xaf\\xda\\xec)\\xf3Y\\xec\\x9d\\x10\\xc2\\xbb!1\\xfc,\\x98$\\x18\\x0b#\\x8cY\\xf27\\xd2ey\\xe1Y'"
      ]
     },
     "execution_count": 13,
     "metadata": {},
     "output_type": "execute_result"
    }
   ],
   "source": [
    "cipher"
   ]
  },
  {
   "cell_type": "markdown",
   "id": "1eba287f",
   "metadata": {},
   "source": [
    "## 數位信封RSA演算法"
   ]
  },
  {
   "cell_type": "code",
   "execution_count": 14,
   "id": "bc0503b6",
   "metadata": {},
   "outputs": [],
   "source": [
    "class DigitalRSA(RSA):  \n",
    "    def encrypt(self, secret_key: bytes):\n",
    "        cipher = []\n",
    "        for B in secret_key:\n",
    "            cipher.append(base64.b64encode(self.exponentiation(B, self.e, self.n).to_bytes(self.bits//8, byteorder='little')))\n",
    "        return cipher\n",
    "    \n",
    "    def decrypt(self, encrypted_secret_key: list):\n",
    "        decrypted_key = []\n",
    "        for B in encrypted_secret_key:\n",
    "            decrypted_key.append(self.exponentiation(int.from_bytes(base64.b64decode(B), 'little'), self.d, self.n).to_bytes(1, 'little'))\n",
    "        return decrypted_key"
   ]
  },
  {
   "cell_type": "markdown",
   "id": "389cc226",
   "metadata": {},
   "source": [
    "## 加密AES金鑰"
   ]
  },
  {
   "cell_type": "code",
   "execution_count": 15,
   "id": "7f649f2a",
   "metadata": {},
   "outputs": [],
   "source": [
    "d_rsa = DigitalRSA(2048)\n",
    "key = d_rsa.encrypt(aes_key)"
   ]
  },
  {
   "cell_type": "code",
   "execution_count": 16,
   "id": "8f509041",
   "metadata": {},
   "outputs": [
    {
     "name": "stdout",
     "output_type": "stream",
     "text": [
      "\n",
      "私鑰：\u001b[33m17778136736898578935514190309487876752878320910796045712383650483650567834678847987074286706203937058976502905168065713764744079403429236622635917614795012023812506979940468978899305120397055892012133852742151949402546791952427719466469759349887786209340905695908160725567060580103471993212871197745998126251243478571625596220633574292213019628077793075753111627236641605731521805630513726133658827172499282078048060836445813881478935999233929564257716308707169009991879425289563484391622349800201672007658298694742018122131323606975867612437926799620521900104695901076570014198457359548289559664166989769395495951761\u001b[0m\n",
      "\n",
      "公鑰：\u001b[33m65537\u001b[0m\n"
     ]
    }
   ],
   "source": [
    "print(f'\\n私鑰：\\033[33m{d_rsa.d}\\033[0m\\n\\n公鑰：\\033[33m{d_rsa.e}\\033[0m')"
   ]
  },
  {
   "cell_type": "code",
   "execution_count": 17,
   "id": "92f73a2f",
   "metadata": {
    "tags": []
   },
   "outputs": [
    {
     "data": {
      "text/plain": [
       "b'cv3BUs5ydguOeKfRR9ZpvXF5prj1BFrRyz37iYL/tn/790jGZdpQUfSGJYiN0156vgm4/9o25C06V04PjWpscpHAUDDNysXxuFCa5C2pfwFuzwDwUzbFQbf6jaLZIDrUTPgkw9OD7Uw9XP1yszMcqkHWSR8e5UpSbUuyPFyTHtxSlVunSfBV1/R6H3gf7Rw7GVbNBSCLBx7CNkJ6nOt1x3z8H437VBTcW2BC2KffjOGxUWUGWCJSqS9Xm4nBSVcHs8nfJP/bnDZPaXS8PBzLRKNwmNg67P7oI9wsWzgAUtzY/T2TxMPy91DoEGgsF21mmlykzA1Je8JCskjc2ipvFg==0ncIJ9wPlLb9zTNhBk0sowKepSuYReum/4PK/YJliGThnukjrisw5710dKpTkN3uwLdpfy0hMEo0ia8ClRG0vZL6HrAL5p7+ofmi0T/9kALn6x0AVVGcv+S+UwGWzvgcjbC29kQPKcoGRr8DBIVhcf3n+FGM4F6SCEO29gM3Qk61ZZbBQeCfR2pXBkU+Y5EWm9aukpmqdcz8XHAscDZ7zogahJcW8dclcoOQILpnnvfRHocb2cN7z+hg64exFNUbUtrCTOFiLElou9VnVCr/A2Jnd4WnKedAic1ztRJFubs7S4NezndY0zZgrb0N/IFIykkiGVK63vp4wvc9Y+mFpA==9OQr7oOxR/33FfPUJGTt/6JlWMrIqStPCyhw/jST9XyuAXdO0p0/SAgpR2wZnrl2pYhYp6VUJh0MwgY73lYKXxwrCI2ETuwGeyjRYvjq2xmfsUuB4hilaxX/+LdUzM8MaKk4nPsKjvlp5HedgWcUC1qeHT8Irg0y21vTW7leiQM1B3XQR5D6OnSkvLYN0aCHDgEgx11MKi1EZUiMio+IrbspiGBRDwcBmwdzbF2aZ1mAc0ieQLA3g00shx7+nqe11EKhgZPSMnZHeJd1u1sepoQdyjxlkztYqSi3dayj4C3atxrE3IdyE3oYMe2Haj35BfEgMd5dQCEDZLhiftm0gQ==SldZ+ntKI61Oj8+GjOKOYvPH6uiaYKY5pos4vRBSiP8/L+5yoLx9W91MLOT0iD+cNlz1krLljVtrVyfP59k6lzxATKDbsJY8N/Pi9AvWG7FEae/n7giJf0AgqMNoSzHzJ0o+VfvLyQoeGVbzHtk2/doxj/DLp5I+4FrT0lAvABBZa0L8vXCT9SkVyXFY77ddkPXtSPuBfUUz/1sxJJuwJPMfSY4MRUpnDLeXlUll3nehTQFLorxmSkc+89RS2qX87Q5p21yHNqk6UVf3VGu6grJ7j5wf43kajPKPEjHRntYfnTa5+g2kEuB7Gyh12YuIGGwzGaLjVwDtvk9PlEp6IQ==1dY+DBAlxt2C1BpHtm30sxM5WZYnn51WmJoqnqFHUYdiAJEmkjQ4y0OyL7tOWLSsVQg9j0vkX+tM0+EsmxTjUid6GdSm+Qm9OuXwarbFBF391aNoexBTskdmKIoWVbzFI9WkdP4TFpNfQznAOo7tg9sJsFHaV7osuKszMfJByNJ1gHBNbx2tLaoQ71F63ZKRvOG64Z4Fg3Bn07UuHjDORYOvpHEDgeaotHrs5A6Ov/hNL2XEfjT1/0Zbo8d8h4cZGtUuuO5jS3Du2WKc3R4VcHYJNEdHEkpWVwz5tPz6Nqfxc6AVEDSjTSndBJDJwDPVioxfopM2jNDbTRh6wPvxfg==xATei1k+kfGHCVN8irqFm+4kIpuNQLZVcmmpgsIof1WxKPrf2LG9fBWXm6Ol5PW9/AuMAAzRzAI2qNvUwaMMlHNGbZKFCViHEq2PnKvpY9GgPysWulbwRbDRTKtpBE8jg0GhYReh+y1+dnrYOEhFOmTTQkGDivIglKtyxtZcj67YE5Rego6rJo9PSdBXKsMMzDeM63rhmMUJKdzkNOQxwsi9X+3qFsWJFZwSvve+ZgiyKXlPbHI7c2uanZI5TtF4uhpgkHGBJIgwJCwG4q5qlX1rwHST/FcrIXhtp0KcNeia21lBG6JdTZqHB/LYh5ZgyoOQK0JwnS1x613GA+Cbog==2SzjYA3bY9Me2939g4dZZnDtmtjYxmE3kSfM0461UwaOoQnWBB8j8JCRzahmLmI7PCScwOvlMNHgJ5dbkqpW3inNclUSGJBdyWnW3v0XfXfo9lA6CpT/+8q33uKreotpLxf+mNwKIUfYqQd3hHkN1YtOWJ6L8Xee9wFrG0Kj/81YQcK47zEKKKGR+qMPTg4jsaeJmuPHDuP4vSV8PcSTaacTy8rZ6Y266IGwKi4RRWvVClmT+CP0gYwxN/1DA43B4BcZHSMKcrJa7ywnKc+ssuagCF8fnBKqBSc8QRLKNmsvHeeKcH2oWOnSjVAQFEhSyQrBSzXUVtoSeu2W3GDTUw==yIVlE6QJA5F7G/9G5c2Ym+4dHic4v/8W9fSsi/FzdU1+H4fXRo1thHgy2OnDBGf50p29JyAPOPuwAHDx5s2DbGsZcxo+8JlQIcu5nr2McSgPQNikBi4/NxxH8pv+are2VjGK20X9h/lEkGISdMhAwxkE1ChaVHy4kGTY2cgRznDNfwUkSoyU8DQBuvQgYk5S3BIU2cGSM6R0xvTLbhparmt/0SKAggh2eoGmJP6HFZGU4CZtgJiqy7ap4GI0RTS1f9g02NPl10vRdD0H2wCjpIFm4h+vJOhm9MIIJ20l4I0B2JYg3lnZrt8725PXghc212MwAppN45X4zEVSlXwEgA==YjZwKFlxv+ioMoa1rg5XzZm21rC8yDOKJQsCBM+CQAFa9iBY9ZRHUhnGSafr9OGdAx961O8TbtHBkFucaH3ICb9/+Y3/MRn8V/a3qNZCXZgDe7WCjYeoIdGmlQcdZDRlEpcl3r6faK6OMRy6ahovUKwJbPn8noNQ8KaehI4AzxvyCQ2TB2k4DVSek9om4Ak7mlBKMIipSqm59ur1+9h9u0ppXhke9tF2te87qtKrmESMuaML3JZmToXmXEGRt+tEVIqjzvcWPcVkAZB6kLo8vqc0ltQ+L8HCT1DJiU/B46i738wPr3JFW0FeElN3M2gfJad/leGaRLakMJieH2T/hw==kYrJoG6ZKMEtkO+3W3Cagr+V0xHPU9sEdbm0ST0KCNxY6HAdVOnNVSI7NAKDMoXYVwCUKSQnkELTNhMd/jYS+/IIGEKw5braGO1y5SRywrf52Ucm6ya3TIMA5uEJ7zVR1ccW9CLzkGUxSlPLtiz48Wbicj9mCJMhH0Vh4nbsaFzO3s2NNZg6JnOLM8U9gW4xIUkwUgMCaBSULCWh/06jXpyudxUMeQC7Qt6flaTsLRRIRNt0rntTgSAJN4nxVVTJqXhK3H0t6bwjiX+6KTNxEyt4Z3ctehyQvk9m6Ug9P0v0Sn5ci7YKUpGST0lYtWy6MHt74E31cCUYMAWSotdjjQ==5rY6BSew83GFOU3szvMSrQipx35yjwM9yfNRsQYEkxgZcqdBBGNq4Vircs2ZJRSF0mIInmioxLArVAJhVeceLMWwHyTk87xNCznXi1ZVwzfigAc4A29up0iBB/l+9JNlKqHljW3yMRQDUMpJttp0EOV6lPlerwILn1kOhPud5O/JKdynza0j0YAto1UseZzTmzfEBYJGabCHW4QlMyTT7aQsNPUdjz6nuSpvvFSHdqL1ebDkcG4jzVsmu75FWjf/l+BVbNd0qgjPX4Mlo1rwTNRgiXeKT+Q+N5O/0DoQ+SWn0M5b0DcEojbN0ZqmVX5adnLClqts82b9EjDMkP9Gog==aAnb6oi1mDd9x6IwB6SA/qebv/Sbv2PBy8NjR6Gh1m9yNWgH8N34lxbWwgKQijGFd6GX/0qZBpTgAznmf0O+JdokdK1HqQ8BgpyFUne1K378ew/JVopstXDzryjixKfXenZV5eMmQKU6ryR+qDKqNqXm4hRrtpdzVJd50uNcqRXsGa8TVdaY7PPxSJcVOvPYA4SiiN1KyGT2WcMshFJlw8VDuX5lQwD96zzO5UrFsuoEjJHuqnJJv9/swUdiki/3hnwGfacrPLYhxT2P0iqEEqVIJ8QtGrIGN3PFaz3ZTKAehoqgTQo3KMpK9szjE3DAr0Zx8v6OP4gTV4WFarDRRQ==53z3a/5QXpOHVGplR82Nc2ZRys6jIXha0GVwzEH64i2g6EDpjKVwVZTPK7AERPLKUBGaF71dLDgO6Oqy+/5LvcQ7/s3Jt2cMBr+Q3fz+4ygas37zCSMs3Ajc0jXi3tZCN+HXqS0SOmMQn6Uq85Dj095MMTMJ8nncHVMAA3riYpIVRbSLAW7Qlaa+ZIRpUgc8bTWC01xr7YlOLw8GqMGisFOoGOJvH8UviHKP1LO1rdlCWUs3GFFLh6zPnDw+Yj8CJ/t+iUWzaXeSZZtpK6tN8isLnr+T8G6kufydgnVi1P0iyAQW/P07eObzXvr8ekdNI6s1UPw4tVkJudEQGZ8xkA==bFbbxH4oBET6M62aPwBjcPtJJ0Aq9PMRxAFUXoc5Mc+qgKDkc3zBCBS4Jhnqb+MCED9tVXgqWShTtEzRdrFguTSTIMXkLTTMo/+Gq1xq0OBLKGmKX1B+w45eDes/bD+7Muc/MPJk9T5R5hZOfoD7qFWzgWhKAYoQ/skRmLgjqiUhoVTjsVRvWeMd3roEEJ23u791XKXVkreAfcgPzKuK3vIt4sNs7m23H8viffHN89Sz7k1TMFkAStsBEU8xbNWkXXITIA/WaDbrBjXbex2JxZiw/jYQGP8TdR5gT0geV5+cJooAF5BFuBALd3ylxitgDM2pzSkeEZglKUHAHUdvlg==EFrsng16VptQFe5lBlAWY2PqSkxMiJfRJMaNEA6uQ0oO6SipXpAjeRVG/sFqgvmIhniFXyN+KmQaQF6oMr685r2cjBSryx2otkZEGHBBuud/Ho4Jjr0MXSOxK0CGwuO6IhK9UN/aqg/AmdIs1DO3wC4mWY5D/8BpjNZ8nB6ZJqZysMj9QM0VoziKkaT65slCLgvwYJcC8qPLjAbQajMdSuw/QelTtSipsD7mkJx5j86COHY51zWBEpoHXdfGJHT0yQm2nk/lUhRgEtufUzOwlWXgASmCmhvvtgYOHolJ6SbfUs3tq3kZC04+CIPf16G5HQSCV8P5n4XxtfD7ltEKhQ==t/f75yR81BeVpfIidKo2iBbbq58g8sHCC5f9W9wOLxzv9XZl5wDh2pxnK183zRzo1/1IV6FIdh3IXx4n5liipUIqSHeyZgmg1522q5/B4Vk//O7qlx4IcJB938mKZ23DAubCCVaSIqBMWbHe4bbfLt23kK7uPVtnM7Z30oR3H9cNYx58EJJDQa+hb9GNI7kMxK/mrHNtxi+skPG73oVZTq9tb8BhT+2Nj1H2j1P2z97VlAo4hWo8dAFYwo2OY93V92Na3wIZBtrYBwZ9Itsetym95o4CvCLM7C0l+kHTnw5CbWObwlVI4TCTJeP/cYczNm6lj13DKHO+UPR67glJbA==eIAA3OEDmbS2RdhWHPtBB5px2PNV7dPheKYm1jatEIgs0MNURl5038gwNHZbiKwIzWTDQvJNmL0ou1bBxFQvckQLfxV4/bwbVg+PzdKQSSaTGDZzoQFE+CdY0yuM01vc/1aZGjr8wH8QRR/TTmYXyMCC/FEQNR382dmDq0BA9yLrKUjdaGljsrD5to75jUMBqdt9544YlBhTrpheofhg2TTzAnbn7IMFOEdUj0IsC7kQpLtqLlIjmsszqOuo8NVveGPhlzgn6ZtsHyngQEaGTdP1HAXY1+AZMWqd0WNv0In+1vmxpFy+6AGHmnoygHjTE6KK/Rvjk7cE/xXcMddhmw==cqGbEyRAfxb7sW5TbXgVtfZn7qJ8BDtcNTM2hYQ1HJIIr+rmEkZkqSfr4DAgloIvFLFAo0DLLNJ1/uPWIOBgxuWjkP0wWzb492Pu2IJSb9Xpp62Zvx8V3SHSu2bmPLUHWf/wnjEnbGrzpQpy+hcdbmNLf8xO60v+YSrGCnqTtw80rS0MRdQBm/cEw0zEuBSSWiLjmzo9lM3mEQCrxFrviax4VCLIPiJEjdz9WmB22ucIEHU87zITqHSqveFkkKjZ3rVz3TVaEFJZsfampfx4LHynWcUS6dmn5mlBsqdS544SlU6EakpoViUgyrEsHdqrQtwoUAXs9J7enDJjOkIDVA==UvJHzYm36l4s8jYfyaIwUK2rwA3gLvvwvdwArktyp61JztgQLearttiGmkyCvyXPVs0XeJNLTUDRxsUR5TU+Y4PxyXRyYsZbQnxxkB3xy3u+Hk6mzXp+BZ0JQPWGwtWMQdAVzo07kGqyfXf7UEN4mmaUVjLCdtnzXpxrJoWLmxcihM2zX4BfkBZTyQwiYJfJNfnqOZiobARhDqzF0Q78IolVUgV9qPKsV3BkJStV9Pj+TDLhxZKOiMsGSfjyoNhemVCO/2z7MH4DIzLK20PSZz4g3+6yYe8Gw0dc9f1YdIOuw4WKmGxrSc2Fl+xoCbsLwfqwTE4IiyFp2d4CwQTUCQ==tdHEwgZPtYJ8jeOChFILFYYwkGsImkGcEh0KWgLspR7qBaWEJggUm0y/l3K+ue79kWXBySp9+mjbLiu72lDnfIdmZtgpIrZv1qfpupJC2yXxoyUkwiS3/WCBD0FIx4eojXwzpKG4GrV7LktLZX6TIkn9uEcRuPUpUwBdGLHy3IJh0e5RFj78oO13Aci9PvOZKui8+hTTdF4tUntsbz9O4l2+SWS+QikpXXreHm62rmES2qfXkZ5x02sy874WA2/Q2kDOAXnGRMjbkaEYurOl25RAJqoyaRScuYAz0CFXgr6YTCMYIs0ahNe6ehk/xkq/dMZGuZVT1if6V0L/vwD7XA==EfCZ/R2tSIpEszsf8k4td6Rmkgf7fI/gUV0oyVh79tJcTvIGGpE3mZM+z2s+5B5FY2JLDOPCRQNDDvfyVIcQQX3+WxRlacJvvLidSfGIXCmmOQXqw5BylEylxFlgv/oaVp981asPRwD+y3YVc5A3jMu/32A1nnT61ez03WpKmuFCpW0IfmN/vwpbsj9UJaV4st8M9LcI6hZBidRKdIeK4dVXg+KzdB/gqSkmmP36dq9OFt3ZhGL4lx9Mlhdgn+LDzY+f7OQMe49j+GwSLhep3FvyFkOx32py9aM22JeyHD9YjaxBd2sQR/DL4X7USlMCVv/PU0TZCh/8c6N8lt+oQA==ZT0qm2HoKRkebGNdsFtkoT2oOnyJxIITIZnQYqSOPxXlP9SnKMqMDTiwy/BVQ2NTTvI0GAG4FlawQoYz8RGaEl/KW4EXXRWn9dAWP/g0nfQ4djMWhDS5f0w6ssRpYU62UbUNI0Rzg9Hum7hvKaNDpwfQsrMWbT9H9T+78xPnDhLZRJGYYXrZ90ho0OzCXqi66D16tC8Pd5QMDdNGz5S9FZ9LHFIjtSs/LZQQqazoHYH8L3FSWwaX9LCe3qhPX6OBJ35jta8Hq8HyfouFHGPSRkFGBaGlJ8y2nTMUZN2HbjhqryFUOPsObcV9Z9NaVThrpRILdj7IVqVIlR8/jExyHA==2SzjYA3bY9Me2939g4dZZnDtmtjYxmE3kSfM0461UwaOoQnWBB8j8JCRzahmLmI7PCScwOvlMNHgJ5dbkqpW3inNclUSGJBdyWnW3v0XfXfo9lA6CpT/+8q33uKreotpLxf+mNwKIUfYqQd3hHkN1YtOWJ6L8Xee9wFrG0Kj/81YQcK47zEKKKGR+qMPTg4jsaeJmuPHDuP4vSV8PcSTaacTy8rZ6Y266IGwKi4RRWvVClmT+CP0gYwxN/1DA43B4BcZHSMKcrJa7ywnKc+ssuagCF8fnBKqBSc8QRLKNmsvHeeKcH2oWOnSjVAQFEhSyQrBSzXUVtoSeu2W3GDTUw==yeepVV9STOz+UYHpBN8cjeBN/cBkX72QvUjbTWiuj2qj+/XSyOiSeVSpaUrvLLNVMVKOchJhXun6eaynLlhI+8g1KnGF97bHVX6lc2mRgGy97tJJ4vwIDye4joScEcmb4HC0mquL6lX8NKpy2MBnIm7PxkvHgT2u7FCwT1u49Z39mAzXXgQYyXzrrxVhJuRRbn+9OjCdMD+Jop4JNpE83TT2z7AH7C11GexOm35shnQGnftE31G5KKexeCrrGhX39BC7vPlW0PiVfRk4YzrXrSH1p5BLi2jbDgRKIu7FIj/m7ETKUcsfowRAVIxONcqMHLb2yP0VYIIG2r/HX2FNng==/lws79cH7aml/Ww8CVQyJ1fvAZXoeG6IKpcysBEmoOzYzUliMunR1ZN719rU6seJKL85AMlOHKCvOHvoaMHbOIR06qrMu/9hA8a8ZZjUe9EBB+WxIJAGkR+bokyzggq7qcmAywhxmePofC9eUu2Iy9X6gOwEYxmv/4rWCYfQZqj/ca59FSpI3L7DUKANJzfFPVRRnxGBKrY8CPg0El/COhl4hONbnvjYaBwXL2I5r2rEzP9kLRt2wmEOhZlsviiOaUSJrSSVK31d25XS+NJW+MzoTZPR9WKFPHd3CfBHOfUIlsOHqRcI9iUNebFrfLc3UKSQCVNCVwT+Z0qsaTjTBg==9OQr7oOxR/33FfPUJGTt/6JlWMrIqStPCyhw/jST9XyuAXdO0p0/SAgpR2wZnrl2pYhYp6VUJh0MwgY73lYKXxwrCI2ETuwGeyjRYvjq2xmfsUuB4hilaxX/+LdUzM8MaKk4nPsKjvlp5HedgWcUC1qeHT8Irg0y21vTW7leiQM1B3XQR5D6OnSkvLYN0aCHDgEgx11MKi1EZUiMio+IrbspiGBRDwcBmwdzbF2aZ1mAc0ieQLA3g00shx7+nqe11EKhgZPSMnZHeJd1u1sepoQdyjxlkztYqSi3dayj4C3atxrE3IdyE3oYMe2Haj35BfEgMd5dQCEDZLhiftm0gQ==Z4gbGO7ASI3dRP7np4SlKZHrAnkgb0WPHNPDUGZAu2akdnLXGqom6ek4uz2bg4a2jjlD4hzp4kpVVHV2qVT1ymxCZkh8JWCryKOl6woIY4mNgfVYeIcX0hVjiu1hHiR4UOhlmvLHZaQBVCZVDxtL/HLCNjU6smSXuvew2OqX5iFhMF96TuJzzCzvO7yfo4zIUwqP8K+6mUMdjW9G4abRkj25FA/P8mGFsQfBOCTOiRa84nxvFOItUvbsFlbO+M1VDY8YbQFHOLYHpDkEoS+iJvcHqNOLClNFz2RfhIU+PLWXhuSwgMMs34UG7wPnD4K7H+bev2aSgoroDzGKFzHVHg==j/Z2rdsfs/6L5FALbpioJbQ3dGkyF8U4AHxV5eDRC6eVAkGWuBFLBzVx6vg8nmRgJ1RfWuc4747PdQw4qHlItr1MQU4qBme5Y4X8JIUaDgqec7wKC0Ql0SOqpjrA87n2e/qwhXoIQ01WyQbj/ITUccue0y/6PkUswmbZVt83mMRMzE8FINgbEtyXAJ+F6b8nNBiJ5K7k+addIjzSy2kYE02WoGTI36rnl6Z2vgRqgwaNwTkdjBRYn/zEEAJ1HfBMDAiW2BAYQUG4QJaOlq/uY8KhHhWYr4cl/gl8uEh29gUsvIibJjDVjJpB963WFd9m1Igzpaypk2NvZ0lT/ZjIRw==ZTLMxQkGGJQFJiiS9Hkuo4+yPp80Q95X1sfzv9WMAHn7utN+GsE67rSt1k6jsm/YzrEy5BOqPxlR38RGbdyeqzy87VYgVS9V5dQUBNKBcx3W9w3D0mb5yEFcr6mHSv3zSyu+WFytViWf86Qk7l0lkxSyflrk3Ink0Xix2CYipfAUORC2LZmQbL793yp7KReWCEbtf1FAdtkE3c1mJatu0UxSEzQ5AdQpcor7Q8+fYLxZJlLRNxfdlBhE1rmAghUtsMY27g2RZ3Byf+UTmduPDvi4BGEZOWh6K8CPamTPbtfMv5c+TmrWqH3/iV8slzqRtGdh2yGXW8raT7bIJ0V/MA==yeepVV9STOz+UYHpBN8cjeBN/cBkX72QvUjbTWiuj2qj+/XSyOiSeVSpaUrvLLNVMVKOchJhXun6eaynLlhI+8g1KnGF97bHVX6lc2mRgGy97tJJ4vwIDye4joScEcmb4HC0mquL6lX8NKpy2MBnIm7PxkvHgT2u7FCwT1u49Z39mAzXXgQYyXzrrxVhJuRRbn+9OjCdMD+Jop4JNpE83TT2z7AH7C11GexOm35shnQGnftE31G5KKexeCrrGhX39BC7vPlW0PiVfRk4YzrXrSH1p5BLi2jbDgRKIu7FIj/m7ETKUcsfowRAVIxONcqMHLb2yP0VYIIG2r/HX2FNng==SYc0p8pu21U/neFlglZP7734DPCeUmTc3EzLSlGBxv0WXuMTSj+a+RvEVp5/WRxXTmZpgMUq453mbwxBTybVNqOgj9rVx873Xzy5wpXl76M3Ys3DJ1QDMPoWm/f4sJo5xDXvzC7YE+2CXKBTTBPTPcg3sJr0QCA6prdtHpxefCEr7q1ietOEnP5NjJ2byULBMkWWfq/izk43ZkqWJYqZqLHIiiDNOIxImzlYLbYxw56qiai6faB+HnrcoWX1/qAv/TgpTWq8yeN9cNvjsXO6TvcRSTBFeUAI1ezFSAxUBdmio6JLpFo2twQP7QcOKbAFEgK3aIYMdF7ShX5kDgzjPQ==l1obhl3bbnt/AjTWjfR4hHX9Xx1jcxVzC11fWcaqdX/z9GTEALWm2gjpcQTvql+sxd1JlCRUJf4tYZmRmg9dYkmeMouuppQ/Z4E0RYA2MKrT4moQhSexVpUtUbCXVlnC8SLwBzBDjgM1+OBPR7bN8B0l+hLgqO9TCmk+1pDpoPDA1ov9TtZx+0749BJB0rnLLJqJmF99iJQVr8KFtgn+mxIdPgVfML2JIMhQGytoUpZaD8aLD3VpfcdN5wNl0VDT/9uWQBN4c77ETgVK9+FHQSYLsHzMy0dWTp9DwfZizm0yQO0IZRsnKU5LurjdbdPTm0KoxRE3P84heGkUN72Amw=='"
      ]
     },
     "execution_count": 17,
     "metadata": {},
     "output_type": "execute_result"
    }
   ],
   "source": [
    "b''.join(key)"
   ]
  },
  {
   "cell_type": "markdown",
   "id": "9b1e996d",
   "metadata": {},
   "source": [
    "## 解密AES金鑰"
   ]
  },
  {
   "cell_type": "code",
   "execution_count": 18,
   "id": "dde6cdcd",
   "metadata": {},
   "outputs": [
    {
     "name": "stdout",
     "output_type": "stream",
     "text": [
      "Decrypted secret key: \u001b[33mb'[\\xd0p\\xe4d\\x10\\xc6zk\\x86\\x91+^\\xab/\\x96\\x02\\x97\\xb9\\xfbx\\xa9\\xc6b;p)\\xcd\\x13b\\xb1H'\u001b[0m\n",
      " Original secret key: \u001b[33mb'[\\xd0p\\xe4d\\x10\\xc6zk\\x86\\x91+^\\xab/\\x96\\x02\\x97\\xb9\\xfbx\\xa9\\xc6b;p)\\xcd\\x13b\\xb1H'\u001b[0m\n",
      "\n",
      "Equal? True\n"
     ]
    }
   ],
   "source": [
    "decrypted_aes_key = bytes()\n",
    "for _ in d_rsa.decrypt(key):\n",
    "    decrypted_aes_key += _\n",
    "print(f'{\"Decrypted secret key:\":>12} \\033[33m{decrypted_aes_key}\\033[0m\\n{\"Original secret key:\":>{len(\"Decrypted secret key:\")}} \\033[33m{aes_key}\\033[0m\\n\\nEqual? {decrypted_aes_key == aes_key}')"
   ]
  },
  {
   "cell_type": "markdown",
   "id": "f889d1e3",
   "metadata": {},
   "source": [
    "## 使用解密之AES金鑰解密秘文"
   ]
  },
  {
   "cell_type": "code",
   "execution_count": 19,
   "id": "8f37d94c",
   "metadata": {},
   "outputs": [
    {
     "data": {
      "text/plain": [
       "\"All I ask is if this is my last night with you, hold me like I'm more than just a friend. Give me a memory I can use.\""
      ]
     },
     "execution_count": 19,
     "metadata": {},
     "output_type": "execute_result"
    }
   ],
   "source": [
    "decryptor = AES.new(decrypted_aes_key, AES.MODE_CBC, IV)\n",
    "\n",
    "decryptor.decrypt(cipher).decode('utf8').replace('\\x00', '')"
   ]
  },
  {
   "cell_type": "markdown",
   "id": "6bde15d8",
   "metadata": {},
   "source": [
    "---"
   ]
  },
  {
   "cell_type": "markdown",
   "id": "48ef06ee",
   "metadata": {},
   "source": [
    "# 長文章數位信封"
   ]
  },
  {
   "cell_type": "code",
   "execution_count": 20,
   "id": "2c28f845",
   "metadata": {},
   "outputs": [
    {
     "name": "stdout",
     "output_type": "stream",
     "text": [
      "蘋果爆料達人 Jon Prosser 在最近獨家洩密新一代M2款 MacBook Air 將採用「彩色」外觀設計，與蘋果春季發表會推出的 24吋 iMac 顏色相同，規格與外觀也會迎來4大方面改進。\n",
      " \n",
      "Jon Prosser 過去就曾準確爆料 iMac 2021年款會加入多種新顏色，這次又從可靠來源得知，下一代 M2 款 MacBook Air 外觀預計也會加入多款顏色，顏色與 M1 款 iMac 完全相同，共會有7種配色，分別是藍色、 綠色、 粉紅色、 銀色、 黃色、 橙色、 紫色。\n",
      "且 Jon Prosser 也從蘋果內部知情人士得知，當前 Apple 內部已經有藍色 MacBook Air 原型機。\n",
      "至於 2021 MacBook Air 新配色會如同底下這幾張模擬圖，主要是採用淡色系，另還會加入 MagSafe 磁吸充電。\n",
      " \n",
      "至於 Apple 打算替 iMac 和 MacBook Air 加入多款彩色選擇，最主要是替產品等級區隔，對於一般消費者而言，追求的並非是效能，而是外觀和便利性，推出多顏色更能提升用戶接受度，對於需要高效能專業級別的用戶，硬體規格需求明顯大於顏色，也是會有黑色或灰色 Pro 級別款式可供選擇。\n",
      "從去年 10月蘋果發表會，蘋果推出首款多顏色 iPad Air 後，明確顯示要讓產品走向繽紛色，同時要以顏色來區隔等級。\n",
      "如同 M1款 iMac 和 iPhone 普通與專業款差異，對於一般型消費市場，則是以多顏色來搶攻普通用戶目光和荷包，同時也有專業 Pro 級別款式，則是以原色或深色款來突顯產品的強勁性能與規格。\n",
      "過去彭博社（Bloomberg）記者 Mark Gurman 也曾爆料，蘋果已經準備研發新一代更輕薄的 MacBook Air ，預計會在 2021 下半年推出，連同蘋果分析師郭明錤也曾指出，會有一款低階 MacBook 會搭載 mini-LED 螢幕。\n",
      "如從目前多方消息來看，新款 MacBook Air 2021 預計採用多顏色、M2處理器、MagSafe 磁吸充電和厚度將變更薄為主要特色，至於 mini-LED 螢幕預計會是給 MacBook Pro 系列才會搭載。\n",
      "更新：MacBook Air 2021機身曝光，搶先看6大外觀改進和發表時間\n"
     ]
    }
   ],
   "source": [
    "import requests as rq\n",
    "from bs4 import BeautifulSoup as bs\n",
    "\n",
    "\n",
    "res = rq.get('https://mrmad.com.tw/apple-redesign-macbook-air-2021-new-color')\n",
    "soup = bs(res.text, 'lxml')\n",
    "\n",
    "paragraph = []\n",
    "for p in soup.find_all('p')[: -3]:\n",
    "    p = p.text\n",
    "    if p != '':\n",
    "        paragraph.append(p)\n",
    "        \n",
    "paragraph = '\\n'.join(paragraph)\n",
    "print(paragraph)"
   ]
  },
  {
   "cell_type": "code",
   "execution_count": 21,
   "id": "0ad32e5d",
   "metadata": {},
   "outputs": [],
   "source": [
    "from Crypto.Cipher import AES\n",
    "\n",
    "class DigitalEnvelope():\n",
    "    def __init__(self, key_bytes: int = 32, IV: bool = True):\n",
    "        self.aes_key = self.__generate_aes_key(key_bytes)\n",
    "        self.IV = self.__generate_aes_key(16) if IV else None\n",
    "        print(f'{\"AES secret key:\":>12} \\033[33m{self.aes_key}\\033[0m\\n{\"IV:\":>{len(\"AES secret key:\")}} \\033[33m{self.IV}\\033[0m')\n",
    "    \n",
    "    def __generate_aes_key(self, key_bytes: int) -> bytes:\n",
    "        key = b''.join([(random.randint(0, 0xFF).to_bytes(1, 'little')) for _ in range(key_bytes)])\n",
    "        return key\n",
    "    \n",
    "    def __padding(self, text):\n",
    "        if type(text) is str:\n",
    "            text = text.encode('utf8')\n",
    "        elif type(text) is bytes:\n",
    "            pass\n",
    "        else:\n",
    "            raise TypeError('請輸入字串或位元組資料')\n",
    "        if len(text) % 16 != 0:\n",
    "            text += ('\\0'.encode('utf8') * (16 - (len(text) % 16)))\n",
    "\n",
    "        return text\n",
    "    \n",
    "    def encrypt(self, plain_text, secret_key, IV, mode = AES.MODE_CBC):\n",
    "        plain_text = self.__padding(plain_text)\n",
    "        cipher_aes = AES.new(secret_key, mode, IV)\n",
    "        try:\n",
    "            cipher = cipher_aes.encrypt(plain_text)\n",
    "        except TypeError:\n",
    "            cipher = cipher_aes.encrypt(plain_text.encode('utf8'))\n",
    "        except AttributeError:\n",
    "            cipher = cipher_aes.encrypt(plain_text)\n",
    "        return cipher.decode('ISO-8859-1')\n",
    "\n",
    "    def decrypt(self, cipher_text, secret_key, IV, mode = AES.MODE_CBC):\n",
    "        decryptor = AES.new(secret_key, mode, IV)\n",
    "        return decryptor.decrypt(cipher_text.encode('ISO-8859-1'))\n",
    "            \n",
    "            \n",
    "class CipherKey(RSA):  \n",
    "    def encrypt(self, secret_key: bytes) -> tuple:\n",
    "        cipher_key = []\n",
    "        for B in secret_key:\n",
    "            cipher_key.append(base64.b64encode(self.exponentiation(B, self.e, self.n).to_bytes(self.bits//8, byteorder='little')))\n",
    "        return tuple(cipher_key)\n",
    "    \n",
    "    def decrypt(self, encrypted_secret_key: tuple):\n",
    "        decrypted_key = []\n",
    "        for B in encrypted_secret_key:\n",
    "            decrypted_key.append(self.exponentiation(int.from_bytes(base64.b64decode(B), 'little'), self.d, self.n).to_bytes(1, 'little'))\n",
    "        s = bytes()\n",
    "        for _ in decrypted_key:\n",
    "            s += _\n",
    "        return s"
   ]
  },
  {
   "cell_type": "code",
   "execution_count": 22,
   "id": "5a641298",
   "metadata": {},
   "outputs": [
    {
     "name": "stdout",
     "output_type": "stream",
     "text": [
      "AES secret key: \u001b[33mb'\\xfb%L\\xea\\xaa\\x82\\xd0\\xb6\\xbc\\x8b\\x16X\\xeb\\xa8%\\xf6\\xa1\\x00\\xe4Lv\\x93\\x19\\xf7o\\xf7R-\\x06\\xb1\\xcaP'\u001b[0m\n",
      "            IV: \u001b[33mb'\\x9bb\\x02\\x8c\\xed\\xdc&/#+\\xa1\\x94GsN\\xe6'\u001b[0m\n"
     ]
    }
   ],
   "source": [
    "plain_text = paragraph\n",
    "DE = DigitalEnvelope()\n",
    "aes_key = DE.aes_key\n",
    "IV = DE.IV"
   ]
  },
  {
   "cell_type": "code",
   "execution_count": 23,
   "id": "bef600c2",
   "metadata": {
    "scrolled": true,
    "tags": []
   },
   "outputs": [
    {
     "data": {
      "text/plain": [
       "'\\x98\\x08<[Uoß\\x06T\\x17\\x8a@+ý¡ìÙ\\x1c\\x85lsnyÛ\\x7f\\x18¡ú\\x8c1 Ç¼ÿ;\\x96Ê×ñ0\\xa0ÊË´ö¶wMTP³Íf\"[\\x93\\x10\\x9a³¨Ù\\x19\\x91¤d¢\\x81OwÐ>K\\x17\\x9awÞd1·Jn\\x02´×!\\x00ÉÞ)RÜå\\n\\x14¯!È7°®A\\x85Å&!,Ð*àé\\x86\\x926²,\\x99ÈÚIS\\x9dc§õ¥\\x1fW¬VùÕçg«`òMzëb\\x0eayúm\\x17F÷\\x98£\\\\ó·íÁnÝåÎþ\\x8egÀ\\x8b¦\\x1e\\x12Y·yõÐe\\xa0ù©çúº\"1ä\\\\\\x88\\tÛ¦»\\x02õ\\x8bö\\xa0É\\x82\\x06R\\x91\\x9fKÏþ\\x81Àa5\\x1bHÌïD¸[E\\x9e\\x8fÁV¬tÜå\\x85ß¤Ý\\x9fþvy\\x96°iE\\x9d¶ä¥ \\x9dyUÌa}¿H8\\x82{:Æ\\x8c-wÍ\\x94ÓKv\\x16bG\\x14i\\x08X|\\x9aÜ\\x7fÔ}\\x1aë.NÁØ}\\xad\\x9aûþ(|l\\x0cÈÑ\\x93U\\\\w¿g&Ú\\x17Ñ¢Ün8\\tQ*\\x00`\\x9d²\\x04\\x9a\\n\\x8b¨\\x15QPB\\'Æ®¤\\x8aÒ\\x8b¯\\x0fÝ~¥%qúi\\x08l¸¦½ÝÜ\\x10C\\x1b~r´r\\x9aH©\\x02Ì\\x1c³!5\\x96\\x82\\x06ìf0ó;\\n\\x91\\x8bà$\\x8bÍ¦Ú9\\x8eo¾\\x84XhUÐ\\x07ÌXiJ\\x7fMþ¹\\x16Ùè\\x19Û-ÊKaéÃ¦\\x80©À\\x07\\x1dÄaI\\x02\\x9b+ÚB\\x9a¯Ý\\x83G¬§IJºô\\x8fM\\x93Râì\\x84°\\x91\\x82®ä\\x10Êæ²¶¡\\x8b\\x8a\\x9f\\x04àSÔ\\x06¢b\\x9fòp\\x19©Õ\\x82\\x9aý~C¦\\x10\\x83x\\x01ñàfÆÎ}oôS*¸Tå¿\\x93\\x88Àæøk¡j\\x85É\\x18d´Ó\\x0fÈu\\x13\\x8e#Ã`8}¶\\x98¶N_ÏhP\\xadR¼\\x98Ô¸ÑL¼¦Ì\\x80\\x1f9\\x89Î\\x077ÂÉÁµíeÖ\\x88_\\x83\\x12gç`É\\x92\\x95äè\\x05ë/ûÓÅÑi¶\\x96Ì¥øâ¦²v\\x9e(hVvÝ ù\\x9a\\x8c\\x0f\\xad£ðíìn5ü¨â\\rËü\\x99\\x9fQ+]Â\\x05¾Lú\\x89\\x0c¬³*\\x1b\\x94BS:Q§õAÃx[\\r\\x87ýÃo\\x90:\\x9c\\x16\\xad¿\\x91¢¡ùàã}Û;\\x1cávÚþç\\x94\\x1c7å\\n\\x8dn\\x12±ÿ¦µ@ÙË6K±)Ñ}K]¼$\\x01úÒ{\"\\x16ñ\\x1aÀu/{±\\x9c×\\x18\\x93[Mw£Õ=Þ]\\x062\\x85±nNåI\\x93\\x00Û$no\\x8c\\x0b+t´¦Â`\\x88\\rØ£V\\x13ÆÌªQ½\"\\x90_\\x1d]\\x1d¸TÉÈ\\x1dék£èÐ$\\x16\\n:,ñkæ6zä\\xa0¾íº¼\\x98Áó\\x94Hi\\x16¬_I\\x9f\\x00ú\\x16Ù(CTò\\x1eÇÆ0Äé\\x10\\x0eí±C°úy·\\x98Ù\\x912\\x06Þ¿A\\x94ì^î\\x1a(£\\x805.VÀ#´ðB-\\x11H¿z\\x86\\x0bÌ4`ü~\\nÃ\\x0czeÒæùW\\x89!t\\x1e,4Nö\\x9f¨Ý<ô\\x82\"\\x9d\\x12W\\x1c\\x7f\\x01@\\x19\\r\\x86\\x93\\tVf\\x14ùk[òÝ\\t\\xad\\x1c\\x02Ö\\x80»4<ínîm\\x7f\\x9fåD\\x96\\x84q\\x95MJ\\x8bðÚg\\x0f\\x95>/\\x88\\x13]\\x8c\\x17¾3\\r?ÒxÃ\\xad¨\\x85²&[3\\x86\\x15!\\x1e\\x0eÃýQ£\\x85þ¯º±JÝ\\x99û4\\x02\\xadp\\x8fÙ¢\\r;3µFójpÁ\\x11\\x88\\x93¼9>\\nýÍ+\\x8a\\x86F\\x8dÝr\\x8c¤§Ê+°ëôEg;\\x07@\\x11\\x9b]\\x88\\x98ÂÈÏ,\\x85\\x9d×ËG\\x8d[\\x05ÿ\\x99dvßP¶\\x7fÐ\\tã(\\x0f(\\x13\\x87±ðÄ\\x18·,]ò\\x9dy\\x82Mþç\\x817ÿ\\x06»ÄQ\\x91¶\\x07\\x8c4ªþáL\\x0fÕ\\x1c\\x86\\x04Wi\\x89(\\x16joìjI\\x8eß±ñÚ;\\x83|\\\\\\x04F¬â+.´\\x04\\x03\\x19nÂ)\\x87T9r\\x0e\\x89\\x06m\\x9b1ê2ì-\\x8a\\x8aýDàT\\x13ë¸weI\\x08éäü5\\x0127&Ø|^/`ük\\x19\"dÈà\\x8e3ö\\x03Ä\\x8f¿\\x05\\x00¹\\r\\x1bË8zò\\x7fÜ\\x1aú\\x1b\\x1b&hRÔ\\x8c]þþÖ\\x81ûÑ\\x15\\x0f×#ã\\x188\\x1eÁ[\\x8a\\x11bVIÅ\\x97E\\x19¡\\x9dU¯\\x8c$ý=}ÙËßþ·\\x8c\\x9a\\x1dôg\\x91«^F[þ`¼\\x1c¿s}R8äÒâô\\x00·\\x9aE@\\x9d%ÿW{.ÁXj*þo\\\\\\x19XG*ÂsU~DQµ\\x1c}c<8\\x8bïù\\x03¦\\rN\\x8dÜ|)A\\x1dy¾:ÒéÎªw¿#>\\x0cI\\x81 ^²\\x0fÀ\\x97Pö\\x11JOl°\\t\\x80·¿:\\x85?\\x1b\\x7f|\\x90ïh¥]32h_\\x16h,sØï\\x1a®\\x10\\x9c</¯\\x81\\x9f`Õú\\t-\\x87ë\\x8fö\\x18\\x92Ö\\\\êòêô\\x1aÌôÛ®ªnà÷*£{(\\x05¢~\\x1a#Í\\x10³w®\\x98üÍ ó5E\\x10c-3\\x94ya\\x12ÿuÇ·N\\x9b\\x127;¿\\x88ú×u«ª¾$a°V~º×ºSÙµ\\n\\x83lÊ\\x82\\x1aÔâ\\x99¤)f4\\xa0a\\x96\\x92\\x02Ëü\\x9d½aÕô\\x10\\x80U±]\\x8bEõ\\x0cºðåoEôKà\\x1etÆj_¼¿â¡SÀ\\x95h\\x03õÆwµ\\x12/;ù\\x17uêÐM\\x16fÙ\\x97\\x9c*\\x9e§:\\x0f²M\\x85¥»À²ÏOòÛ\\n§ \\x82²\\x03òç\\x7fê÷ºB¹\\x90Ú\\x07a\\n\\x99ø½6ªl\\x01x\\x15\\x16\\x84\\x18\\'\\x1c\\xa0*ãA\\x9f~\\x83e;\\x0cF(\\x17>Íx i+\\x82ªFîkêÝ÷\\x8fÍs¨\\x83{1ßH\\xa0ÔýÛ«\\x9eHjóúÛ\\x06?¨\\x8d\\x12\\x17\\x0bnQYza\\x85¦A\\x18\\x0e\\x1a\\x8e¨n\\x9f(\\x144¢©èf\\x94aQëv\\x95ªÎU\\x93E*X;«3ÕÞJ\"?7ñ¨]#\"\\x81\\xa0P?\\x92>C[ufw_[kAûu <\\x10¬ÅëRf\\x87¯3l\\x05êçý=7NÊãB?N\\x99ê\\x0cÛutüa.9@Jxî_2ÉoI\\x9flòÏã¶ûþ\\x81À6¬*¤Ð\\x1f\\'MAª\\x00\\x94\\x1dô.\\x0eYyÇ\\x9a\\x15f\\'¬KnK¯X\\x80\\x1aì\\x07©øùo\\x17 ÄR0Ô²ká¿äºµ\\x85ÀÄ½C\\x93µª\\x8eE³\\x0fS§ad¸\\x04\"\\x0eeà=¿N2\\x87U\\x89YeþvAÏ»¤[£Y¢\\x1aÏî\\x87½\\x9a\\x1ePÖx_¥\\x7fB\\x98f\\x152¦\\x16þ§Ú\\x1c\\x8c\\x8fW\\x19WQ\\x8a\\x05ª\\x80\\x7f\\x11|Òæ£WØ\\x16éYj;\\x07\\x14\\x96@\\x18EM0Â)\\x7f\\x03,\\x0f%@áRbP\\x82\\x86ó\\x92Çäv¼§í¢òÄ.\\x064Å\\'Yk~\"¿·Ó\\x97\\x962fï×Å\\x14f\\x1f\\xadnª´5î\"·×a\\x00\\x92\\x99í½\\x1c\\n-*\\x80\\x80VMô\\xad\\x7f\\x02½ÿýô\\x18ù\\x88s+°Ñ®Cë»/x\\x98b\\x1bs(ú¯\\x17õÀD-\\x1e-\\x0fÌ¡\\x82Û\\x92|%\\x0b¿¯À´Eú\\x98q\\x0e\\x9bßÜFÚrXÑ!°¾Ù=þJòl\\xa0å\\xa0Âà\\x96MúÓ¾l~\\x0c/\\x11]\\x0eÉ÷;0\\x18\\x1f¡\\x04Gï\\x8c\\'2\\x91\\x0cË\\x80Ñ.ü\\\\\\x97½\\x94<\\x04º\\x9ai³\\x07pî~\\x08ú,}\\x04³¸³±&íä\\x13\"\\x1c!\\x96zï\\r\\x19Õ¥\\x1bô\\x1f\\x19\\x80×\\x86Þ\\x16N4\\x11Ê\\x90Ê´g¦v\\x0c%ò\\x1awI!\\x8bÈ\\x94®\\x9fÎ\\xa0XÚÑñÜ\\x04hÜÙ\\x1b\\x06tPÆAZÅs:Ä\\x7f%ú\\x81QkÑ[Íß@î¶j×ú¿\\x8f|\\x9e9\\x8f\\x02®\\x00=¡3+3'"
      ]
     },
     "execution_count": 23,
     "metadata": {},
     "output_type": "execute_result"
    }
   ],
   "source": [
    "cipher_text = DE.encrypt(plain_text, aes_key, IV)\n",
    "cipher_text"
   ]
  },
  {
   "cell_type": "code",
   "execution_count": 24,
   "id": "8920be3d",
   "metadata": {
    "scrolled": true,
    "tags": []
   },
   "outputs": [
    {
     "data": {
      "text/plain": [
       "b'XcFplxpsEdORjr9FuFVFliPJgI5Xb/74aHmxJyY++mte4T66pqP6onbam/D6WlqMnTKccDzFjblCD0OEfJvVFouMefc9FMSdkzAg+MZ3oisZ31Ugc2wcqMtKHrbWYq1cRkhot9GsQR0Wvi0vJzQkT/oFzbN2zg10d8RghrHTkEBTw/qVLVLWtEOPwvt5rIBva86acVUV7n8GPCgaZup+3gexNIF+y3QfljcDFZeqtWv0+xgc+Ohs+dSTqNUvxBwBmRR7HyzmIlite+187KpzkAD8Pe5Lk/Rb9ybj9gqQGwF/GhNlZbMbrgX/G2mzip4tF6ad/VGDYTRdsOLzR7bBKw==AA5yg85/MR6anuBqzeImRSV3NXXDqU90RMrvYuj/stuCwlqdXfp2/ongPlcMmetHGMl5uZ6LjQBCBH1b+JwSHh+T/FTsDi50y8EQEva0GtOEFs50Uh2KlyG/orXdwiIwYemmW1v0COmhRcqWuM0R4y/MhGXj/iXCFAB/9svLl6Ig+6gJagm6HV/mU7cpVeqSRfQRhB/bMiXJHX+PjUOxpYqt/HSn6/XldM7z99OvceeGtEHpPXw9+enDCAtixu3P05v3sDjmMUOGvhTgRQe7flTd66l1Sb/s4NEisiF42Ec9CUuMmVomzH66nYn8zpMBq6PrTjyryLkK4bbp+i/VXQ==rAIDTN2cbGoPRg/IOx1k68fs9EOt4m9vAEX/2QG6U65fzHO7l0vlFt7bpsaO5090gGbcMU1JmveTjWawLyCbYVFDm1kgIN+pnKpwmDb2rOz/49l7XL/P+A1GiGcvFlsX7+jD7CG+9aa0CFB73lDqYFBZaNdG8Jhc2x+yi+kHasEiAUg/DJ77IkwIVZya7sZ76ucX1kIp/rb/nU7itRltmPraTouWlaibhIt3O1zrOjed/Goq9IXb3MJ8OQdUko4TAtmXc9RKWEZcsmGIW2XUGoxN0EzFnA6bpmnFajQfsm9WNT6FCDkrnh+nCPL1B+c0bA6ooAouIzJASvX9/Iz/HQ==ZCClJ9RPwQCzi2EHnnYDyEepWbpx9aIZH6RgkITlwA3bXfbzhEkl8goYWva3Q+5i/IzLYCUdj983EDPTO2/TB9hfdqQ82nwfYUBs6/07Xplyof6SaonU/P+7pr0pEWOiErLcG+p7FBKwPYM5ZKN4q29YlYHXPiokLegpndBWZlDMk7kE+lMw15tSFGDQwKnwMlLgzNWoPRLqVTLkexLT/QnAWJTva14CJA4fmOvHRAPFmb3/MqOw9oa61p9IbdFWaiKsiE0mVRHSYoQDVTQi+Khy+Mzh0wHuILT8fZLpwSxlr1lYRW4sLitYq3wvPRBlEcA0DX7qOeojIzLQnYkcRA==13Nm9MWq2pDuaH20tWgUMSHJBOVtAX3dSSGncjsu4us61nm+DOAFCo0Vgpj43IeWMsaTnaQEb+8nWP5P4w15xWXkeo0oskmOhUS6l3AHI3Gz7WXXWTgoZSh7IUHGDS/A4Mdi1LrAX0SBTGLvit/h4BRbX3NBPpfiUJDFjGjMWGPqzOv546O7Egfh0H283u8/7Qeqn8OORUnKBxoj4dYhzNvsIWvGJDbAS5rzqLcQH6BMtf5QhNVPzKubrG+EoGK2bXaXOj5fw2tQYicUEtMhDdNWj6W1vSHV2fMEz8C3FS3JTq7xqEhMyqiYgixuzMD+FHq0gXrA2bTisaBr7e1DLg==fOGi5rCG9XjD/IyohAdW3vMbT7ViyRUFTkBOGeRlD4rqizeL3x8EhM4WrwXx3oR8NuGR40e/ptSBfuXxWfGwUngYUo0N9K9wSENJ0TDCePo/HOkMFYGk88RZ/UJN3VN6y6vwX1ABGOR5832oW3lJK4xKhbuiOQYVU5OlC72SR2nqUG8wNUZJfefnSib3p6+IcU50jlCB7iwEATthChgMQVDwqpFHYAst/HVy98K9iWmHpKVcUZ4nPOU6dkDMa6UnKmvhiMRhiUDx8DaXycZoL5J64A98GMTE/uLKJeJNgxH4dk5WPpKRWILG4wKtkeTQMP1I753a/J3o5fjFfBVjTQ==X2mbCv1mMisXrSoGFc8sSjRXzspsCsgH8Q2hVFiU2KHH4GxRbTwhYCvEH/Lx1efDOEmZCqYRolfTraL43EdlnElY0ivjLG1UyP+lZKSIWWLAd86YZLnL/WVdq7SlmaldediqHAIcvDvZAaCN6EMVkuuC8m/mwkAPwagusRkClRkvOB2jhVFmBnA1JbEjgl1ap8ggml1bAIsYVwxbeGr9zgZWz2ja+AI6PBq1iKte3qc6bpppYXCbmn2wVUwSmy1qnUMJE5GXscB5SyHz+rHqgWstOyMq/Zc9CghXd/oNS35wDfn1F2tsCCwYvDad6vYmzTPK+lqaVX4ShRAd+FbuMA==gXq87Xcwkd17xD7wra1yLKg6VPjI74lNIpUEo+dslzZ/0mobRIVusRPJJv2PjG6y6HrXZds1OcOQaID9UGH7q4XKxTMpaf6GYPU+cnLGGNFeFNq5RJ2XDjnb18rne0FP9QNjLTDRbFunZaBxG1pfUDMQBe6N5qsaTTvOkNnPas8Fc225qrc3FX8HAPb7WtPNU5q/bAs12rUOHg9SKzk9nblxFgwxROkpW4J1OBLhDFQMhqjsQnOdBqjcYtvHIEsE/KvJNe6eyaLHpvKT7HqcsJeilZTfN6+jRD955wF8/RQg5khQ5Lr6f791VZafhXgnRUZiCCCDV/mbvDXgD88FIw==9hd1KZ+z5NN1uT9o0hw3mQrbjRK7jfXUI12jdVVhYdDfdgLcyEbRM5eFFriJu4ki8T6iK1kyMCESarC3l0g/kBjwmkTgNoSFKZr4BBQ8oOfat/LePcqEsJVeM2Nzeh5zEhniOLTqfPTu7j/cWGg3qxbcB4jz5MPHUdnwhxN9VHW1Z2aYFqQFbXzBjqqVM0dpRnI5kP/jR3fYyKJWRjW9rYpqR0BeVWBd2CgbpqPmkAxVVNh5nNst/c3khsl4nIv3/LxUZ8uLlnx4pl0erh5DvWS6ux5dfLztkExHMU15B3QWiSuUB4JEm1M1lcEXK1qeRpaTowJHSkYRbKkBhsHNDw==lC2lnERUh06YQ2rvyxQA/WMAT4DriHs4l72qnZsNHCpApPWW/fSOHHQuuF1KI3vTXia3jAnnILlozB7Qo7PRUQFZINyKvp2mOZpMVqegBaaLg2flllNgEgVNFIQ/OHStBPh1TKNYI71lhMAyJDDJfTImY1DBbadDVwtA3CyQa/QW71Pr9YmcfGVXWasH4X01MUxkNnjtuL3QbMPw7tLs7uAJu42J7v1KszPH2A0id1FUIRzi74BM/xmcLAKy0Lq2nG7prKa3c6vp/ECOx/V5DWemDrbL91Xn2uwlt7aLkLbBMuFowGOMEPWfwQVweU+QwozJGEo7os/Em8vB5us9MQ==SuIpUyZuhO/Bl7+j/aqtg/sBl/xXjZKN4UI+lbPK/v4uIZLxxPjFqcyuF8Q1J39If6ShsWHkywnxoxkpKDCOeWqhih6mQNKhlnWIpamzhHoFU3CkQHN29FYMV1vuwbcwSWxoyltYw9/9fnU8xRtbZiFmwABBgUc/qf8wez5csj9USZf5fTpzNVv2393Ioih2ezBaQha3tWoAPTqzry17CYFRt8OpFMfbyEXkJZpxBcHq7FmLM6trFsRcySVlxivMJrsKedVs9gB1NSC+Qp9vDOmHNBRzobYnxYA9R7n7X1GvIhpjQ5OjSRQ0kToSqL7/05H2yVMgi2V3+OT6Xi3IWQ==1cFOXRMNcqkG3mO/+OH56FY483iSW7DIK2/DinEpYya/rK5UnwUAtrV1TJrb01l0w0rK5pSxMPnnYTqST0NMIODltPT5Y7msJY5ZZJ27m9FVLI7OKYgyZciND8zrA2DLipAw3DjmT6wbAGBSKrI/Bn0wsZqBnxh7uAiEh0u03n8V4lUnIff3+fSEIcAU2TgJbHntogb/18CPtVCnAKEunTch4eIahxVGbQXRCq8jPS4Q+yrwMFrR243vTly0P73Dk27SYji37e/rAJV4hOT8ZHMLDyAKOPZs8SMORGVyGCN8ImTk6MCADbu6f9aTHuqol653smIiQSjJqrRjw64xWw==kTnlVUMD9d/Dd5Tsc/yzu/QLgZ0syZsRQb254R5wLr/Ohg7zgduDizNckgsFnS7NqOKGmDEANDbBkPhRyll+G0rONmWJqftCQwfdZMqO8PjbZjkSWbRDSAclUSgmG9liJIp/mKjAQuSU1pVHbcuNgnUxmnlr8+b654PYO0Qch8RBoYMUbg15XTT4QMdK/jmVreJiIusR0MX/tS3fsUsrtbybrNA14T0azKx05RXsfyic30M5gY6k5JhYd2lkmeDv8n+7HesVPt8u2m7sOg1v/kNMv0iAs/NVwsxdurG3E/lBAti78SnJxZa0eoqrI5vq63PI07t5sZNb2kOjz7VvDA==MY9pg1W4WyhOt9plU4qyYhywliiV3G4HcJcW7/ns/7w+zfOkIRIOT0taSdU+7QFxZ8TnV90SODF6px4gX+2+WzLlJ6k5SdjDIBElXdiA62+Lo/5FuMqJOz98g7NjblUAfLDKQbuknAhxexENv47GAbQYe49vvyMTNMk0VZyOcWm9B37FZnl70ukpd1inY6TMbxC5BVN8796TqZfV+jyw7HJeHF6meVz+XYg0YxJivMUzt/seDxzdtBMJezoJptC8K/SfshAA+lIZfStmEgR0C5mQCLthfrs/rh7/W2swTU6nx2mMXpk+NWCG1WXqDNB4qPywyPrhamsY3JhSNul1Ow==AA5yg85/MR6anuBqzeImRSV3NXXDqU90RMrvYuj/stuCwlqdXfp2/ongPlcMmetHGMl5uZ6LjQBCBH1b+JwSHh+T/FTsDi50y8EQEva0GtOEFs50Uh2KlyG/orXdwiIwYemmW1v0COmhRcqWuM0R4y/MhGXj/iXCFAB/9svLl6Ig+6gJagm6HV/mU7cpVeqSRfQRhB/bMiXJHX+PjUOxpYqt/HSn6/XldM7z99OvceeGtEHpPXw9+enDCAtixu3P05v3sDjmMUOGvhTgRQe7flTd66l1Sb/s4NEisiF42Ec9CUuMmVomzH66nYn8zpMBq6PrTjyryLkK4bbp+i/VXQ==Jskv/opKpddoEG13e53U/xZuqeYNli1pkEnFKJY9j//VZ5n+UvLOIs7alS9VoRYrO68nUp5d2fX+SY2JzE9W5fDFFENvHsNCXmoEz5pnZFjPQaKcL/DmNFo+XU30jeR6FVSl8QTZ6+qkrAuqv7Vr0zhhVxmXZnYCjfGku2JIcs6W9yO1+gg80t5jbfdt23x4L6IfVFoEqMP27ODeoW8NHEGJ3ovBFlIM+iUqbfc8SZatj2trgB6V+kFNgI733qKTr/1REPREHl1syWD2oXYvFUnPC4hHde5Gq7G/Pp/aHBSfCFX/KFmzkudelRkJUnF2PTraUXmrZIDlQJdypljTAQ==od1f7L1drTIHRxpgkNTfzIh6I0o7Idcz+TrMZF0nj3E+maYLDpcowdgLTeZbBbY76RUZ9m+sMOF5uP6jQbYLKnP313okMl5PLX4nSJQn3VT8cjIhqRhXD4OJE9CPod+S4VPz3+wZw6KZJbxc4pOwfnOPUWjlzNGJnW03cFRdOFxny8AfwEVjfdaSpSdMPL0ie6ekAwz9HBBM63CRgVGHsf8OGYTNPwtd6Sdua8iPd/gj2mu3xkEDd6ZBfyGzApDA3pDJ46ILw3HiYMQaygNyhoozoFXfdrdmOGw4fIBoaUeyrHvY+5i+pAYJ7Ph66FB1O7YH4f+h8iRFR8T/C66xSA==AAAAAAAAAAAAAAAAAAAAAAAAAAAAAAAAAAAAAAAAAAAAAAAAAAAAAAAAAAAAAAAAAAAAAAAAAAAAAAAAAAAAAAAAAAAAAAAAAAAAAAAAAAAAAAAAAAAAAAAAAAAAAAAAAAAAAAAAAAAAAAAAAAAAAAAAAAAAAAAAAAAAAAAAAAAAAAAAAAAAAAAAAAAAAAAAAAAAAAAAAAAAAAAAAAAAAAAAAAAAAAAAAAAAAAAAAAAAAAAAAAAAAAAAAAAAAAAAAAAAAAAAAAAAAAAAAAAAAAAAAAAAAAAAAAAAAAAAAAAAAAAAAAAAAAAAAAAAAAAAAAAAAAAAAAAAAAAAAAAAAA==jw6l6SG3AaZNG+sazLAWAbc4RTFttqIsgaO3yhJpEwtvuEkMRkRz10QJUUtxOCGrhP/9e2+28yaTEDEuCh/Kye348Cc7SdDAbQJifKjHTQDmwV3Gv84l5Cu4KaFfVa+lWVL2idPZOtHcNopr5cptUQy9T1Q43uvcAEQqWpk3I8owJTmBUMQNLZiopDUWBhiWpv0yMQ9zPPC+JhiCTuk34Hz4aeCUlkD5MOqY4xxu+STV/xSUWp0WQP1c4eHKId6pcqA2mla6gyUQg8K6JBG9qMfWfy5KAPRynxntMJRkoo9tITaCAK09C4yj13i3hOboCr4N6Bg5P7UoZmm9Wgx/Pg==rAIDTN2cbGoPRg/IOx1k68fs9EOt4m9vAEX/2QG6U65fzHO7l0vlFt7bpsaO5090gGbcMU1JmveTjWawLyCbYVFDm1kgIN+pnKpwmDb2rOz/49l7XL/P+A1GiGcvFlsX7+jD7CG+9aa0CFB73lDqYFBZaNdG8Jhc2x+yi+kHasEiAUg/DJ77IkwIVZya7sZ76ucX1kIp/rb/nU7itRltmPraTouWlaibhIt3O1zrOjed/Goq9IXb3MJ8OQdUko4TAtmXc9RKWEZcsmGIW2XUGoxN0EzFnA6bpmnFajQfsm9WNT6FCDkrnh+nCPL1B+c0bA6ooAouIzJASvX9/Iz/HQ==XXR099crBx0BeHLlfDGIF8y6LKtPRWK1aXO6B01GRLH3WDdMBCcuERmhtHR/yRuySHwCIH/OYyzuvpceOIx8Foo8vyfFwM3QA5QGBYKIu0HZwEbbXZzCYFItGpkSB3DKSLsSHxYtGFMg2lAqNWyQ8vuGIPvFlSg051Y8UB8CIQNh1ezTTp0Rp9ffkq7A3b/6ysU1ZF8z3t/dqUMkXygoGqOvZukACLZk10aE4tQBXXQumjh9SCszm8W+VTr2amHcX3KF9qrJC+ZjNVY1q3qpuS/seXUKlYPEQIClA1UJKQzIMOf0ztbHQVPmhGGgqmzVckN2gqorBl3rWCcHKd/7Xw==Np2JEH5BapydsfpdZ3PyFBSN+8xub2n58S/aXr9EspojMHIyfirF8FVQZ00jemIBukdyaEHuYith6ayCY2ye9CRMJ43pU32aob05cerIoyGZz8BDSUP//Frl4diE82RZjuwln8/zHSgvxEIGo/FNa5hczZht2oAcCSglJnmevCvSfEoxhKDjdd5uD7eLfZ1TgZUN5C6rej9v+6ggeQpodJjSSFdjCpkI3uwoDSaevSufvb1BaSi0rpIcF8rwvGAem83g/q6nioZCyhTvUNPz47vF2f20tive+poqQaQqSNg67UJOP56B3GUFrnmxNbABfT7TcBKw4jlppJ7hV0LwTg==UKLiX6GJ9aJaZKlmF1hCgLR8/nPv8i83hDwJzxunVdlhCQGo6H14IgvwDPeE/4U8PQDhfrC1c7oLnwd2mfv86VN+9VJioK1sZvQQfDAXUxgsQa1bZ3y1XCrGmzJKdTv8TyKTxdjs9fYPA9BZpDyEjAwF5Gh+xGGTL8gKKLuBg8C2lpnLrKCodTWC+DgB34iMJIhZtfUboeSpLQA29cLOhi21gpA8j4vG3EPclQ+56JVzzm9tzDkgzCOzu3EYiWSeFXVxBxxQxiYf2TcykILpjdykUz+wXDsCsejZto0odnpEFsNRGO9x0Osr2VGhG/8RjaKFyVli+fgAC2afN77tWw==tgiAKSVkNzolPScy9Y1nMqbyB2Drc1rv5H9XuHN4v7FtZi8nFPlh0SN2zu7N3R+QwOKmZPerR4nhvPosvzQe8InRnBQ2yURtdCeK/cGqaaVff3b1ET/HyJ4SBzOxt21l0H8ayebyEF9OaBwDaH4C31D1esbgWd6I/ygfABOA374zDnaxudvlD5oZ5KubGpIU9Z7P6CjQ19I/HM3D56V4c/FiAlJXzzPuLxCN+2J8wSHgPsZWbRz2UMzpu6vh6vstgm71BydvQOtYF8CDuaRjk/d6N0utF9B5BRasaF9JFk0a05UnXpe0MAGWWYlZHHk/i6dOgAiqXzHGYLqGLJc8PQ==+Jlju5UGKREuda8dSq8FDS38OpOrP7uXJsvjRApaEMS8uuBX+p+WNlzENkVsVcvPUv8piWKMNZNdh8HwxRUfC2Uuc6CHfW0Fv5ee8o/o4sARs5WWkAHeV1IdCGbzLXL9e8RQmP88VoGRdY5b7P7fmvqREHrkJeZZCV47H/th95Qo85sZz//0u0Z3YgTBUcpvwDQiK1EHVzAqW6kdiovasttL+0UC2OUeRaPfxdxv5QV1mNwlRLKnGmSVwNi4CVsNwBRznxCmq1qaat837nK5b8WP2nadvPFcsuhfHCPp+eccnm4n1SwVENDnlKNLtR/22JZ7vnr+4TSTD6bPALNyDw==tgiAKSVkNzolPScy9Y1nMqbyB2Drc1rv5H9XuHN4v7FtZi8nFPlh0SN2zu7N3R+QwOKmZPerR4nhvPosvzQe8InRnBQ2yURtdCeK/cGqaaVff3b1ET/HyJ4SBzOxt21l0H8ayebyEF9OaBwDaH4C31D1esbgWd6I/ygfABOA374zDnaxudvlD5oZ5KubGpIU9Z7P6CjQ19I/HM3D56V4c/FiAlJXzzPuLxCN+2J8wSHgPsZWbRz2UMzpu6vh6vstgm71BydvQOtYF8CDuaRjk/d6N0utF9B5BRasaF9JFk0a05UnXpe0MAGWWYlZHHk/i6dOgAiqXzHGYLqGLJc8PQ==nn9ojSVJADgMw1dIQT5yAhY4pP0uJ8KX/s65vYP7FAKQphMaLaQrLDPcjCgqskHmoAJCEr60f4NNpGd9NWY210Yq/uaQRSUjrfCw+01Go7zu9Cwf4FiiSfh5mTE90HoPArWrHvePdcN4sOMKBB/2q6+UcXEaCEllSbCnSOBb0AL9G4rrMU3ce6LdTbaSPoADyvZSraXHW4Wdt6QyO1k1BsUhDFFpB1Ql4z7Z8uy6QLoXo3iz8j6w7tb+PYd2bplFUyROayYdtM8Xu3xpsw5hbO2Q1eS/SaO/10fNb3vNy/hs1lc6mXbvW2LKmgvyMkJejq3wJ1rMIUv0H8V39hbHHg==yiENZM4CGMY4rw6a1G1qcqRLR2PpNgeF7UlZ8JtTd77dtsNgXW8NHETuUJcrDEzrfJzE+gxtzy4i1ubzTY9tSrluEIyiSMRskLP2RyDMN+uUJQctPDJTd4mjzVvD6oQSN5pg/57ZB2aDwlbUP8sY0i1hfUMZbjnxdPwypT3nbCPwHm5UlXgVeekoRFlzwq/51sykpjgQ5RLMEIVKVOY5klGz15gZ9uCNOUOHa+4PZ5COPwoKpYZI7s+ZVXixT/3xb8DT0kysM+tlFnJa4ZwDa2/1lVlxcB4SNhGDtsG5LlnrETke1sH+zKkwqKWCSpZwF27qxB2cc+HIxqnHkLzORg==Vn6RfplmoTEL6868ZA0P4hQ9VaSdY67OXCB2hVZY2pYffdRQahCPT6eG7wGDDKIaMrL0XI2A8f8n/yu7JLnPPoNuAVPsrKBIQHS/NdFefX6zrewuXNZkEUFDiAFlNtYCV7Ocm/+gD+fvnXNus0qlc3dBlhLLmXzHa9pujhBYbhmqPJ3qzgoIF8qKqmknRxARtlZxOF496y+SgxOTy4BfwaH4oieFVRB3a2wwKEGV1i+lTuCYToK28XkHgLSv+dDjmMNnabj1/lq/XDyWZwlwca87UU2fSUTnO8BW+CA80aW5QMNHP44TbVuHFzGAMnajPPVHVK5daVnq/3DBy9x4AA==dD0F6lsbcWn+aV1cGFDDSFA81BvKTqTiTmHQbRy3ljxqtAFoYRmH+hdNFuyJlfNbXwY0ZAfNhRezGi79F/biWxnjeTU0S0qEHJkEqDpzsRPLMChf2dwZ+RDCD7pwgB6XOhOectj+ab/3mtJ39ZaohU6JpgPcs0Y6ZSIO/E6508HPUd4dVAW4+OHzqOUmnKmSDTQH0OJXCms5d2qAxQA3E6XzL5EjGb9eOSI83ZacvDRz99Uw/Max/9D+MOupQwMH45+b12f3yufm6kU4Kq5fYRj3CeSY+bDKLNL2MkJcuPDnlfNPVZuqXHEep2rC8wd41UA2lOvfzri9XoUW9XXjHA==yLmNDNQtDG3n68jKB6/nA+uHJjQAlDaA4QJjm1obpmSuZliBUV9D9ptnNGz8eTr6++AXT4NmrsAuLdaH5BqrLKqseXz2rBkveBKfWCBjLkrHHDEQIyhLV7wOzYdH5SsO4hBrCl4PH0lMJDzzhl35TjZEho4chnPs9Ip+4uV2hlXD5/zGmIcj2jnWbEcakFDwTN1w/Ifbdw1KvR05t+f9xaWEyQ5LIGG7Ktb+tQCQi0EGCGpfmVO/FbTfIaK81hhCV6/WmbBeThEhcWZFqDR4XuIXkcn+eufWuudCKSdYDI34FXyP+sp2r/HlwH87bg+2nRWEuwzxoHAmq4P7YgL+QA==VxmDwRBTAlD/uL6plWTzpRAloNQRpztY8FHIhb1F0zYum/ZVcYkPqdJHyL5JOJx45thFrAw3XC9kAHI3B8CjeyIZfxisKOtWf5UScL19R0RUV/dAvHIbW8Nlw3mRWn521saqYdnJODfa7LYyFeqLmU9LX625BVUDKTBIXEZ3h5mzu+pwTUDPqZoEVNZbw3p5SkDr6NYTknfb2CHjeV7nyDzDzbRHI0yeq0NML5iaUtNkuzsS+3dXiaGZNypANAVFjeXHZggK9ftRNYxy6mzxDjT2WqwEKAHN+MONiFDthpZ4lxSFPXYe36mvcSam2iJRdU6Caq71tv/rSTzJrhD+Ug=='"
      ]
     },
     "execution_count": 24,
     "metadata": {},
     "output_type": "execute_result"
    }
   ],
   "source": [
    "d_rsa = CipherKey(2048)\n",
    "encrypted_aes_key = d_rsa.encrypt(aes_key)\n",
    "b''.join(encrypted_aes_key)"
   ]
  },
  {
   "cell_type": "code",
   "execution_count": 25,
   "id": "1569e890",
   "metadata": {},
   "outputs": [
    {
     "name": "stdout",
     "output_type": "stream",
     "text": [
      " Original AES key: \u001b[33mb'\\xfb%L\\xea\\xaa\\x82\\xd0\\xb6\\xbc\\x8b\\x16X\\xeb\\xa8%\\xf6\\xa1\\x00\\xe4Lv\\x93\\x19\\xf7o\\xf7R-\\x06\\xb1\\xcaP'\u001b[0m\n",
      "Decrypted AES key: \u001b[33mb'\\xfb%L\\xea\\xaa\\x82\\xd0\\xb6\\xbc\\x8b\\x16X\\xeb\\xa8%\\xf6\\xa1\\x00\\xe4Lv\\x93\\x19\\xf7o\\xf7R-\\x06\\xb1\\xcaP'\u001b[0m\n"
     ]
    }
   ],
   "source": [
    "decrypted_aes_key = d_rsa.decrypt(encrypted_aes_key)\n",
    "print(f'{\"Original AES key\":>{len(\"Decrypted AES key\")}}: \\033[33m{aes_key}\\033[0m\\nDecrypted AES key: \\033[33m{decrypted_aes_key}\\033[0m')"
   ]
  },
  {
   "cell_type": "code",
   "execution_count": 26,
   "id": "aa86594e",
   "metadata": {},
   "outputs": [
    {
     "name": "stdout",
     "output_type": "stream",
     "text": [
      "蘋果爆料達人 Jon Prosser 在最近獨家洩密新一代M2款 MacBook Air 將採用「彩色」外觀設計，與蘋果春季發表會推出的 24吋 iMac 顏色相同，規格與外觀也會迎來4大方面改進。\n",
      " \n",
      "Jon Prosser 過去就曾準確爆料 iMac 2021年款會加入多種新顏色，這次又從可靠來源得知，下一代 M2 款 MacBook Air 外觀預計也會加入多款顏色，顏色與 M1 款 iMac 完全相同，共會有7種配色，分別是藍色、 綠色、 粉紅色、 銀色、 黃色、 橙色、 紫色。\n",
      "且 Jon Prosser 也從蘋果內部知情人士得知，當前 Apple 內部已經有藍色 MacBook Air 原型機。\n",
      "至於 2021 MacBook Air 新配色會如同底下這幾張模擬圖，主要是採用淡色系，另還會加入 MagSafe 磁吸充電。\n",
      " \n",
      "至於 Apple 打算替 iMac 和 MacBook Air 加入多款彩色選擇，最主要是替產品等級區隔，對於一般消費者而言，追求的並非是效能，而是外觀和便利性，推出多顏色更能提升用戶接受度，對於需要高效能專業級別的用戶，硬體規格需求明顯大於顏色，也是會有黑色或灰色 Pro 級別款式可供選擇。\n",
      "從去年 10月蘋果發表會，蘋果推出首款多顏色 iPad Air 後，明確顯示要讓產品走向繽紛色，同時要以顏色來區隔等級。\n",
      "如同 M1款 iMac 和 iPhone 普通與專業款差異，對於一般型消費市場，則是以多顏色來搶攻普通用戶目光和荷包，同時也有專業 Pro 級別款式，則是以原色或深色款來突顯產品的強勁性能與規格。\n",
      "過去彭博社（Bloomberg）記者 Mark Gurman 也曾爆料，蘋果已經準備研發新一代更輕薄的 MacBook Air ，預計會在 2021 下半年推出，連同蘋果分析師郭明錤也曾指出，會有一款低階 MacBook 會搭載 mini-LED 螢幕。\n",
      "如從目前多方消息來看，新款 MacBook Air 2021 預計採用多顏色、M2處理器、MagSafe 磁吸充電和厚度將變更薄為主要特色，至於 mini-LED 螢幕預計會是給 MacBook Pro 系列才會搭載。\n",
      "更新：MacBook Air 2021機身曝光，搶先看6大外觀改進和發表時間\n"
     ]
    }
   ],
   "source": [
    "print(DE.decrypt(cipher_text, decrypted_aes_key, IV).decode('utf8').rstrip('\\x00'))"
   ]
  },
  {
   "cell_type": "code",
   "execution_count": null,
   "id": "8cd75a01",
   "metadata": {},
   "outputs": [],
   "source": []
  }
 ],
 "metadata": {
  "kernelspec": {
   "display_name": "Python 3",
   "language": "python",
   "name": "python3"
  },
  "language_info": {
   "codemirror_mode": {
    "name": "ipython",
    "version": 3
   },
   "file_extension": ".py",
   "mimetype": "text/x-python",
   "name": "python",
   "nbconvert_exporter": "python",
   "pygments_lexer": "ipython3",
   "version": "3.8.8"
  }
 },
 "nbformat": 4,
 "nbformat_minor": 5
}
